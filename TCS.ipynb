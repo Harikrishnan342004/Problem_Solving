{
 "cells": [
  {
   "cell_type": "code",
   "execution_count": 6,
   "metadata": {},
   "outputs": [
    {
     "name": "stdout",
     "output_type": "stream",
     "text": [
      "Yes\n"
     ]
    }
   ],
   "source": [
    "#Prime sum\n",
    "def Prime_sum(N):\n",
    "    if (N % 2 == 0):\n",
    "        return 'Yes'\n",
    "    N = N - 2\n",
    "    for i in range(2, N):\n",
    "        if( N % i == 0 ) :\n",
    "            return \"No\"\n",
    "    else:\n",
    "        return \"Yes\"\n",
    "N = 34\n",
    "Input = Prime_sum(N)\n",
    "print(Input)"
   ]
  },
  {
   "cell_type": "code",
   "execution_count": 10,
   "metadata": {},
   "outputs": [
    {
     "name": "stdout",
     "output_type": "stream",
     "text": [
      "64\n"
     ]
    }
   ],
   "source": [
    "#the problem of determining the su of the cubes of the all numbers in the rage from a to b.\n",
    "def  sum_of_cubes(a , b):\n",
    "    total_sum = 0\n",
    "    for num in range(a , b+1):\n",
    "        total_sum += num ** 3\n",
    "    return total_sum\n",
    "a = 4\n",
    "b = 4\n",
    "output = sum_of_cubes(a , b)\n",
    "print(output)"
   ]
  },
  {
   "cell_type": "code",
   "execution_count": 11,
   "metadata": {},
   "outputs": [
    {
     "name": "stdout",
     "output_type": "stream",
     "text": [
      "11\n"
     ]
    }
   ],
   "source": [
    "# Contiguous Subarray\n",
    "# Given an array of integers, find the\n",
    "# contiguous subarray (containing at\n",
    "# least one number) which has the\n",
    "# largest sum and return its sum.\n",
    "# Example 1:\n",
    "# Input: array = [-2, 1, -3, 4, -1, 2, 1, -5, 4]\n",
    "# Output: 6\n",
    "# Example 2:\n",
    "# Input: array = [1, 2, 3, 4, 5]\n",
    "# Output:15\n",
    "\n",
    "def max_subarray_sum(arr):\n",
    "    max_current = max_global = arr[0] \n",
    "\n",
    "    for i in range(1, len(arr)):\n",
    "        max_current = max(arr[i], max_current + arr[i])\n",
    "        #print(max_current)\n",
    "\n",
    "        if max_current > max_global:\n",
    "            max_global = max_current\n",
    "    return max_global\n",
    "arr = [1, 2, 3, 4 ,1]\n",
    "print(max_subarray_sum(arr))"
   ]
  },
  {
   "cell_type": "code",
   "execution_count": 12,
   "metadata": {},
   "outputs": [
    {
     "ename": "IndentationError",
     "evalue": "expected an indented block after function definition on line 2 (2291800283.py, line 2)",
     "output_type": "error",
     "traceback": [
      "\u001b[1;36m  Input \u001b[1;32mIn [12]\u001b[1;36m\u001b[0m\n\u001b[1;33m    def sum_of_unique_num():\u001b[0m\n\u001b[1;37m                            ^\u001b[0m\n\u001b[1;31mIndentationError\u001b[0m\u001b[1;31m:\u001b[0m expected an indented block after function definition on line 2\n"
     ]
    }
   ],
   "source": [
    "#sum of unique elements in an array\n",
    "def sum_of_unique_num(array):\n",
    "    result = 0\n",
    "    for i in array:\n",
    "        if i not in\n",
    "\n",
    "array = [1 , 3 , 2 , 3 , 2 ,1]\n",
    "print(sum_of_unique_num(array))"
   ]
  },
  {
   "cell_type": "code",
   "execution_count": 15,
   "metadata": {},
   "outputs": [
    {
     "name": "stdout",
     "output_type": "stream",
     "text": [
      "1\n"
     ]
    }
   ],
   "source": [
    "#sum of unique elements in an array\n",
    "def sum_of_unique_num(array):\n",
    "    result = 0\n",
    "    for i in range(len(array)):\n",
    "        if array[i] not in array[:i] and array[i] not in array[i+1:]:\n",
    "            result += array[i]\n",
    "    return result\n",
    "\n",
    "array = [1 , 3 , 2 , 3 , 2 ]\n",
    "print(sum_of_unique_num(array))"
   ]
  }
 ],
 "metadata": {
  "kernelspec": {
   "display_name": "Python 3",
   "language": "python",
   "name": "python3"
  },
  "language_info": {
   "codemirror_mode": {
    "name": "ipython",
    "version": 3
   },
   "file_extension": ".py",
   "mimetype": "text/x-python",
   "name": "python",
   "nbconvert_exporter": "python",
   "pygments_lexer": "ipython3",
   "version": "3.10.2"
  }
 },
 "nbformat": 4,
 "nbformat_minor": 2
}
