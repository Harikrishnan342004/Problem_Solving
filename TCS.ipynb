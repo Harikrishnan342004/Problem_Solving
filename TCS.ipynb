{
 "cells": [
  {
   "cell_type": "code",
   "execution_count": 6,
   "metadata": {},
   "outputs": [
    {
     "name": "stdout",
     "output_type": "stream",
     "text": [
      "Yes\n"
     ]
    }
   ],
   "source": [
    "#Prime sum\n",
    "def Prime_sum(N):\n",
    "    if (N % 2 == 0):\n",
    "        return 'Yes'\n",
    "    N = N - 2\n",
    "    for i in range(2, N):\n",
    "        if( N % i == 0 ) :\n",
    "            return \"No\"\n",
    "    else:\n",
    "        return \"Yes\"\n",
    "N = 34\n",
    "Input = Prime_sum(N)\n",
    "print(Input)"
   ]
  },
  {
   "cell_type": "code",
   "execution_count": 6,
   "metadata": {},
   "outputs": [
    {
     "name": "stdout",
     "output_type": "stream",
     "text": [
      "11\n"
     ]
    }
   ],
   "source": [
    "# Contiguous Subarray\n",
    "# Given an array of integers, find the\n",
    "# contiguous subarray (containing at\n",
    "# least one number) which has the\n",
    "# largest sum and return its sum.\n",
    "# Example 1:\n",
    "# Input: array = [-2, 1, -3, 4, -1, 2, 1, -5, 4]\n",
    "# Output: 6\n",
    "# Example 2:\n",
    "# Input: array = [1, 2, 3, 4, 5]\n",
    "# Output:15\n",
    "\n",
    "def max_subarray_sum(arr):\n",
    "    max_current = max_global = arr[0] \n",
    "\n",
    "    for i in range(1, len(arr)):\n",
    "        max_current = max(arr[i], max_current + arr[i])\n",
    "        #print(max_current)\n",
    "\n",
    "        if max_current > max_global:\n",
    "            max_global = max_current\n",
    "    return max_global\n",
    "arr = [1, 2, 3, 4 ,1]\n",
    "print(max_subarray_sum(arr))"
   ]
  }
 ],
 "metadata": {
  "kernelspec": {
   "display_name": "Python 3",
   "language": "python",
   "name": "python3"
  },
  "language_info": {
   "codemirror_mode": {
    "name": "ipython",
    "version": 3
   },
   "file_extension": ".py",
   "mimetype": "text/x-python",
   "name": "python",
   "nbconvert_exporter": "python",
   "pygments_lexer": "ipython3",
   "version": "3.10.2"
  }
 },
 "nbformat": 4,
 "nbformat_minor": 2
}
