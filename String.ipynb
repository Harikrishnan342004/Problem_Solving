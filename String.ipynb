{
 "cells": [
  {
   "cell_type": "code",
   "execution_count": null,
   "id": "e22505f2-99c2-4cbe-bcf6-bd993e07608b",
   "metadata": {},
   "outputs": [
    {
     "name": "stdout",
     "output_type": "stream",
     "text": [
      "Harikavi \n"
     ]
    }
   ],
   "source": [
    "# #Reverse String for increment method.......\n",
    "\n",
    "def reverse(Input):\n",
    "    result = \" \"\n",
    "    for char in Input:\n",
    "        # print(char)\n",
    "        result = char + result\n",
    "    return result\n",
    "Input = \"ivakiraH\"\n",
    "output = reverse(Input)\n",
    "print(output)"
   ]
  },
  {
   "cell_type": "code",
   "execution_count": null,
   "id": "59000981-ca1f-4bfc-9075-e5eb91d365df",
   "metadata": {},
   "outputs": [
    {
     "name": "stdout",
     "output_type": "stream",
     "text": [
      " nanhsirk iraH\n"
     ]
    }
   ],
   "source": [
    "#Reverse String for decrement method............\n",
    "\n",
    "\n",
    "def reverse(Input):\n",
    "    result = \" \"\n",
    "    for char in range(len(Input)-1 , -1 ,-1):\n",
    "        result += Input[char]\n",
    "\n",
    "    return result\n",
    "Input = \"Hari krishnan\"\n",
    "output = reverse(Input)\n",
    "print(output)"
   ]
  },
  {
   "cell_type": "code",
   "execution_count": null,
   "id": "cc9ea21c",
   "metadata": {},
   "outputs": [
    {
     "name": "stdout",
     "output_type": "stream",
     "text": [
      "Harikavi\n"
     ]
    }
   ],
   "source": [
    "\n",
    "def rever(Input):\n",
    "    return Input[::-1]\n",
    "Input = \"ivakiraH\"\n",
    "output = reverse(Input)\n",
    "print(output)"
   ]
  },
  {
   "cell_type": "code",
   "execution_count": null,
   "id": "64247971-4543-4169-b9f8-dc4ede3b62e4",
   "metadata": {},
   "outputs": [
    {
     "name": "stdout",
     "output_type": "stream",
     "text": [
      " abc\n"
     ]
    }
   ],
   "source": [
    "Input = \"aaabbbcc\"\n",
    "output = Dupicate(Input)\n",
    "print(output)\n",
    "def Dupicate(Input):\n",
    "    result = \" \"\n",
    "    r_set = set(Input)\n",
    "    for char in r_set:\n",
    "        result = result + char\n",
    "    return result\n",
    "\n"
   ]
  },
  {
   "cell_type": "code",
   "execution_count": 234,
   "id": "0ac8d34f",
   "metadata": {},
   "outputs": [
    {
     "name": "stdout",
     "output_type": "stream",
     "text": [
      "sv\n"
     ]
    }
   ],
   "source": [
    "#Remove Duplicate from String    Dictionary method\n",
    "def Duplicate(Input):\n",
    "    char_dic = {}\n",
    "    for char in Input:\n",
    "        if( char in char_dic ):\n",
    "             char_dic[char] += 1\n",
    "        else:\n",
    "             char_dic[char] = 1\n",
    "    result = \"\"\n",
    "    for char in char_dic:\n",
    "        #print(char)\n",
    "        if( char_dic[char] == 1 ):\n",
    "            result += char\n",
    "    return result\n",
    "Input = \"harikrishnankavi\"\n",
    "Output = Duplicate(Input)\n",
    "print(Output)"
   ]
  },
  {
   "cell_type": "code",
   "execution_count": 235,
   "id": "e6b04272",
   "metadata": {},
   "outputs": [
    {
     "name": "stdout",
     "output_type": "stream",
     "text": [
      "sv\n"
     ]
    }
   ],
   "source": [
    "def Duplicate(Input):\n",
    "    char_dic = {}\n",
    "    for char in Input:\n",
    "        if( char in char_dic):\n",
    "            char_dic[char] += 1\n",
    "        else:\n",
    "            char_dic[char] = 1\n",
    "    result = ''.join([char for char in char_dic if char_dic[char] == 1])\n",
    "    return result \n",
    "Input = \"harikrishnankavi\"\n",
    "Output = Duplicate(Input)\n",
    "print(Output)"
   ]
  },
  {
   "cell_type": "code",
   "execution_count": 236,
   "id": "cca4a110",
   "metadata": {},
   "outputs": [
    {
     "name": "stdout",
     "output_type": "stream",
     "text": [
      "abcbab\n"
     ]
    }
   ],
   "source": [
    "#Remove Consiquence Duplicate value from the strings\n",
    "def Remove_Duplicates(Input):\n",
    "    result = []\n",
    "    for i in range(len(Input)):\n",
    "        if( i+1 < len(Input) and Input[i] == Input[i + 1]):\n",
    "            continue\n",
    "        result.append(Input[i])\n",
    "    return ''.join(result)\n",
    "Input = \"aabbccbaab\"\n",
    "Output = Remove_Duplicates(Input)\n",
    "print(Output)"
   ]
  },
  {
   "cell_type": "code",
   "execution_count": 237,
   "id": "9e289d50",
   "metadata": {},
   "outputs": [
    {
     "name": "stdout",
     "output_type": "stream",
     "text": [
      "rh\n"
     ]
    }
   ],
   "source": [
    "#Remove Vowels from String\n",
    "def Remove_Vowels(Input):\n",
    "    vowels = \"aeiou\"\n",
    "    result = \"\"\n",
    "    for i in Input:\n",
    "        if i not in vowels:\n",
    "            result = i + result\n",
    "    return result\n",
    "\n",
    "Input = \"hari\"\n",
    "Output = Remove_Vowels(Input)\n",
    "print(Output)\n"
   ]
  },
  {
   "cell_type": "code",
   "execution_count": 238,
   "id": "70b002c9-5eb7-46c0-bd47-0d45e2e2c4f3",
   "metadata": {},
   "outputs": [
    {
     "name": "stdout",
     "output_type": "stream",
     "text": [
      "Not Palindrome\n",
      "None\n"
     ]
    }
   ],
   "source": [
    "#String Palindrome...\n",
    "\n",
    "def palindrome(Input):\n",
    "    result = \"\"\n",
    "     \n",
    "    for i in Input:\n",
    "        result = i  + result\n",
    "        \n",
    "    if( Input == result):\n",
    "        print(\"palindrome\")\n",
    "    else:\n",
    "        print(\"Not Palindrome\")\n",
    "Input = \"aaabbbb\"\n",
    "Output = palindrome(Input)\n",
    "print(Output)"
   ]
  },
  {
   "cell_type": "code",
   "execution_count": 239,
   "id": "98c08829-3926-417e-a3ca-a6a0311ed1ea",
   "metadata": {},
   "outputs": [
    {
     "name": "stdout",
     "output_type": "stream",
     "text": [
      "Palindrome\n",
      "None\n"
     ]
    }
   ],
   "source": [
    "##String Palindrome using index value..\n",
    "def palindrome(input):\n",
    "    li = list(input)\n",
    "    reverse = input[::-1]\n",
    "    x = str(reverse)\n",
    "    \n",
    "    if( input == x ):\n",
    "        print(\"Palindrome\")\n",
    "    else:\n",
    "        print(\"It is Not Palindrome\")\n",
    "\n",
    "input = \"wooow\"\n",
    "output = palindrome(input)\n",
    "print(output)"
   ]
  },
  {
   "cell_type": "code",
   "execution_count": 240,
   "id": "569fa959-ea24-43d9-bab0-f89e0afa2129",
   "metadata": {},
   "outputs": [
    {
     "name": "stdout",
     "output_type": "stream",
     "text": [
      "['w', 'o', 'o', 'd']\n",
      "('w', 'o', 'o', 'd')\n",
      "{'d', 'w', 'o'}\n",
      "None\n"
     ]
    }
   ],
   "source": [
    "#Datatypes\n",
    "def dataTypes(Input):\n",
    "    List = list(Input)\n",
    "    Tuple = tuple(Input)\n",
    "    Set = set(Input)\n",
    "    print( List)\n",
    "    print( Tuple)\n",
    "    print( Set )\n",
    "\n",
    "Input = \"wood\"\n",
    "Output = dataTypes(Input)\n",
    "print(Output)"
   ]
  },
  {
   "cell_type": "code",
   "execution_count": 241,
   "id": "f7414311-2477-4e38-960c-a223d5b28268",
   "metadata": {},
   "outputs": [
    {
     "name": "stdout",
     "output_type": "stream",
     "text": [
      "Hari Kumar Krishnan\n"
     ]
    }
   ],
   "source": [
    "#Capitaize first letter in the word\n",
    "def capitalize(Input):\n",
    "    \n",
    "    word = Input.split()\n",
    "    # print(word)\n",
    "    r = []\n",
    "    for i in word:\n",
    "        # print(i)\n",
    "        v = i.capitalize()\n",
    "        r.append(v)\n",
    "\n",
    "    y = \" \".join(r)\n",
    "    return y\n",
    "\n",
    "Input = \"hari kumar krishnan\"\n",
    "output = capitalize(Input)\n",
    "print(output)"
   ]
  },
  {
   "cell_type": "code",
   "execution_count": 242,
   "id": "5438107e",
   "metadata": {},
   "outputs": [
    {
     "name": "stdout",
     "output_type": "stream",
     "text": [
      "Haririshnan\n"
     ]
    }
   ],
   "source": [
    "x = \"haririshnan\"\n",
    "print(x.capitalize())"
   ]
  },
  {
   "cell_type": "code",
   "execution_count": 243,
   "id": "d3bcbbe6-c45c-4a38-a295-85b533c3179c",
   "metadata": {},
   "outputs": [
    {
     "name": "stdout",
     "output_type": "stream",
     "text": [
      "Anagram\n",
      " \n"
     ]
    }
   ],
   "source": [
    "#angram...\n",
    "def is_Anagram(s1, s2):\n",
    "    x = sorted(s1)\n",
    "    y = sorted(s2)\n",
    "    # print(x)\n",
    "    # print(y)\n",
    "\n",
    "    if( sorted(s1) == sorted(s2) or x == y):\n",
    "        print(\"Anagram\")\n",
    "    else:\n",
    "        print(\"Not Anagram\") \n",
    "    return \" \"\n",
    "s1 = \"listen\"\n",
    "s2 = \"silent\"\n",
    "Output = is_Anagram(s1, s2)\n",
    "print(Output)"
   ]
  },
  {
   "cell_type": "code",
   "execution_count": 244,
   "id": "aa1feb8d-4e4d-4c4e-b8be-9a7c081c8eb4",
   "metadata": {},
   "outputs": [
    {
     "name": "stdout",
     "output_type": "stream",
     "text": [
      "True\n"
     ]
    }
   ],
   "source": [
    "def is_Anagram(s1, s2):\n",
    "    #lenght checking\n",
    "    if( len(s1) != len(s2)):\n",
    "        return False\n",
    "        \n",
    "    dic = { }\n",
    "    for char in s1:\n",
    "        #print(char)\n",
    "        dic[char] = dic.get(char,0)   + 1 \n",
    "\n",
    "    for char in s2:\n",
    "        dic[char] = dic.get(char , 0) - 1\n",
    "\n",
    "    for count in dic.values():\n",
    "        if count != 0:\n",
    "            return False\n",
    "    return True\n",
    "s1 = \"listen\"\n",
    "s2 = \"silent\"\n",
    "Output = is_Anagram(s1, s2)\n",
    "print(Output)"
   ]
  },
  {
   "cell_type": "code",
   "execution_count": 245,
   "id": "f12f5ae0",
   "metadata": {},
   "outputs": [
    {
     "name": "stdout",
     "output_type": "stream",
     "text": [
      "3\n"
     ]
    }
   ],
   "source": [
    "def camelcase(s):\n",
    "    count = 1\n",
    "    case = \"ABCDEFGHIJKLMNOPQRSTUVWXYZ\"\n",
    "    if(s[0].isupper()):\n",
    "        count -= 1\n",
    "    for i in s:\n",
    "       if( i in case):\n",
    "            count += 1\n",
    "    return count\n",
    "s = \"ariKrishnanKavi\"\n",
    "print(camelcase(s))"
   ]
  },
  {
   "cell_type": "code",
   "execution_count": 246,
   "id": "0e2e1768",
   "metadata": {},
   "outputs": [
    {
     "name": "stdout",
     "output_type": "stream",
     "text": [
      "3\n"
     ]
    }
   ],
   "source": [
    "def camelcase(s):\n",
    "    # Start counting from 1 assuming the first word is in camelCase\n",
    "    count = 1\n",
    "    # Loop through each character in the string\n",
    "    if(s[0].isupper()):\n",
    "            count -= 1\n",
    "        # print(i)\n",
    "    for i in s:\n",
    "        # If the character is uppercase, it's the start of a new word\n",
    "        if i.isupper():\n",
    "            count += 1\n",
    "    return count\n",
    "# Test case\n",
    "s = \"ariKrishnanKavi\"\n",
    "print(camelcase(s))  # Expected output: 3\n"
   ]
  }
 ],
 "metadata": {
  "kernelspec": {
   "display_name": "Python 3",
   "language": "python",
   "name": "python3"
  },
  "language_info": {
   "codemirror_mode": {
    "name": "ipython",
    "version": 3
   },
   "file_extension": ".py",
   "mimetype": "text/x-python",
   "name": "python",
   "nbconvert_exporter": "python",
   "pygments_lexer": "ipython3",
   "version": "3.10.2"
  }
 },
 "nbformat": 4,
 "nbformat_minor": 5
}
