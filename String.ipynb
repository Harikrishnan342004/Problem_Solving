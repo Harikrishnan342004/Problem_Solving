{
 "cells": [
  {
   "cell_type": "code",
   "execution_count": 12,
   "id": "e22505f2-99c2-4cbe-bcf6-bd993e07608b",
   "metadata": {},
   "outputs": [
    {
     "name": "stdout",
     "output_type": "stream",
     "text": [
      "nanhsik iraH\n"
     ]
    }
   ],
   "source": [
    "#Reverse String for increment method.......\n",
    "def reverse(Input):\n",
    "    result = \"\"\n",
    "    for char in Input:\n",
    "        result =  char + result\n",
    "    return result\n",
    "Input = \"Hari kishnan\"\n",
    "output = reverse(Input)\n",
    "print(output)"
   ]
  },
  {
   "cell_type": "code",
   "execution_count": 13,
   "id": "59000981-ca1f-4bfc-9075-e5eb91d365df",
   "metadata": {},
   "outputs": [
    {
     "name": "stdout",
     "output_type": "stream",
     "text": [
      " nanhsirk iraH\n"
     ]
    }
   ],
   "source": [
    "#Reverse String for decrement method............\n",
    "def reverse(Input):\n",
    "    Reverse_string = \" \"\n",
    "    for i in range(len(Input)-1, -1, -1):\n",
    "        Reverse_string += Input[i]\n",
    "        \n",
    "    return Reverse_string\n",
    "\n",
    "Input = \"Hari krishnan\"\n",
    "output = reverse(Input)\n",
    "print(output)"
   ]
  },
  {
   "cell_type": "code",
   "execution_count": 64,
   "id": "cc9ea21c",
   "metadata": {},
   "outputs": [
    {
     "name": "stdout",
     "output_type": "stream",
     "text": [
      "nanhsirk iraH\n"
     ]
    }
   ],
   "source": [
    "#Reverse String for slicing method\n",
    "def reverse(Input):\n",
    "    return Input[::-1]\n",
    "Input = \"Hari krishnan\"\n",
    "output = reverse(Input)\n",
    "print(output)"
   ]
  },
  {
   "cell_type": "code",
   "execution_count": 65,
   "id": "2994ea33-e4c8-48d6-87cf-1f68613c2a3b",
   "metadata": {},
   "outputs": [
    {
     "name": "stdout",
     "output_type": "stream",
     "text": [
      "iraH\n"
     ]
    }
   ],
   "source": [
    "#Remove Duplicate from String #Not in function......\n",
    "def Duplicate(Input):\n",
    "    result = \"\"\n",
    "    for i in range(len(Input)-1 , -1 , -1):\n",
    "        #print(i)\n",
    "        result +=  Input[i]\n",
    "    return result\n",
    "\n",
    "Input = \"Hari\"\n",
    "Output = Duplicate(Input)\n",
    "print(Output)"
   ]
  },
  {
   "cell_type": "code",
   "execution_count": 66,
   "id": "64247971-4543-4169-b9f8-dc4ede3b62e4",
   "metadata": {},
   "outputs": [
    {
     "name": "stdout",
     "output_type": "stream",
     "text": [
      "cab \n"
     ]
    }
   ],
   "source": [
    "#Remove Duplicate from String   #set function\n",
    "def Duplicate(Input):\n",
    "    Unique_Char = set(Input)   #Set ---> Duplicates Not Allowed\n",
    "    Empty_String = \" \"\n",
    "    for char in Unique_Char:\n",
    "        Empty_String = char + Empty_String \n",
    "    return Empty_String\n",
    "Input = \"aaabbbccc\"\n",
    "Output = Duplicate(Input)\n",
    "print(Output)"
   ]
  },
  {
   "cell_type": "code",
   "execution_count": 67,
   "id": "03160d01-5c9a-4eb8-a7ef-d292e9b653fe",
   "metadata": {},
   "outputs": [
    {
     "name": "stdout",
     "output_type": "stream",
     "text": [
      "abcbab\n"
     ]
    }
   ],
   "source": [
    "#Remove Consiquence Duplicate value from the strings\n",
    "def Remove_Duplicates(Input):\n",
    "    result = [ ]\n",
    "    for i in range(len(Input)):\n",
    "        \n",
    "        if( i+1 < len(Input) and Input[i] == Input[i+1]):\n",
    "            continue\n",
    "        \n",
    "        result.append(Input[i])\n",
    "    \n",
    "    return ''.join(result)\n",
    "Input = \"aabbccbaab\"\n",
    "Output = Remove_Duplicates(Input)\n",
    "print(Output)"
   ]
  },
  {
   "cell_type": "code",
   "execution_count": 68,
   "id": "bfd3f6e2-031b-4464-8226-70c00cb83c11",
   "metadata": {},
   "outputs": [
    {
     "name": "stdout",
     "output_type": "stream",
     "text": [
      " bbbcccddd\n"
     ]
    }
   ],
   "source": [
    "#Remove Vowels from String\n",
    "def Remove_Vowels(Input):\n",
    "    Vowels = \"aeiou\" \n",
    "    empty_string = \" \"\n",
    "    \n",
    "    for Char in Input:\n",
    "        if Char not in Vowels:\n",
    "            empty_string = empty_string + Char\n",
    "    \n",
    "    return empty_string\n",
    "\n",
    "Input = \"aaabbbcccdddee\"\n",
    "Output = Remove_Vowels(Input)\n",
    "print(Output)"
   ]
  },
  {
   "cell_type": "code",
   "execution_count": 6,
   "id": "9e289d50",
   "metadata": {},
   "outputs": [
    {
     "name": "stdout",
     "output_type": "stream",
     "text": [
      "rh\n"
     ]
    }
   ],
   "source": [
    "#Remove Vowels from String\n",
    "def Remove_Vowels(Input):\n",
    "    vowels = \"aeiou\"\n",
    "    result = \"\"\n",
    "    for i in Input:\n",
    "        if i not in vowels:\n",
    "            result = i + result\n",
    "    return result\n",
    "\n",
    "Input = \"hari\"\n",
    "Output = Remove_Vowels(Input)\n",
    "print(Output)\n"
   ]
  },
  {
   "cell_type": "code",
   "execution_count": 7,
   "id": "70b002c9-5eb7-46c0-bd47-0d45e2e2c4f3",
   "metadata": {},
   "outputs": [
    {
     "name": "stdout",
     "output_type": "stream",
     "text": [
      "Not Palindrome\n",
      "None\n"
     ]
    }
   ],
   "source": [
    "#String Palindrome...\n",
    "\n",
    "def palindrome(Input):\n",
    "    result = \"\"\n",
    "     \n",
    "    for i in Input:\n",
    "        result = i  + result\n",
    "        \n",
    "    if( Input == result):\n",
    "        print(\"palindrome\")\n",
    "    else:\n",
    "        print(\"Not Palindrome\")\n",
    "Input = \"aaabbbb\"\n",
    "Output = palindrome(Input)\n",
    "print(Output)"
   ]
  },
  {
   "cell_type": "code",
   "execution_count": 8,
   "id": "98c08829-3926-417e-a3ca-a6a0311ed1ea",
   "metadata": {},
   "outputs": [
    {
     "name": "stdout",
     "output_type": "stream",
     "text": [
      "Palindrome\n",
      "None\n"
     ]
    }
   ],
   "source": [
    "##String Palindrome using index value..\n",
    "def palindrome(input):\n",
    "    li = list(input)\n",
    "    reverse = input[::-1]\n",
    "    x = str(reverse)\n",
    "    \n",
    "    if( input == x ):\n",
    "        print(\"Palindrome\")\n",
    "    else:\n",
    "        print(\"It is Not Palindrome\")\n",
    "\n",
    "input = \"wooow\"\n",
    "output = palindrome(input)\n",
    "print(output)"
   ]
  },
  {
   "cell_type": "code",
   "execution_count": 9,
   "id": "569fa959-ea24-43d9-bab0-f89e0afa2129",
   "metadata": {},
   "outputs": [
    {
     "name": "stdout",
     "output_type": "stream",
     "text": [
      "['w', 'o', 'o', 'd']\n",
      "('w', 'o', 'o', 'd')\n",
      "{'d', 'w', 'o'}\n",
      "None\n"
     ]
    }
   ],
   "source": [
    "#Datatypes\n",
    "def dataTypes(Input):\n",
    "    List = list(Input)\n",
    "    Tuple = tuple(Input)\n",
    "    Set = set(Input)\n",
    "    print( List)\n",
    "    print( Tuple)\n",
    "    print( Set )\n",
    "\n",
    "Input = \"wood\"\n",
    "Output = dataTypes(Input)\n",
    "print(Output)"
   ]
  },
  {
   "cell_type": "code",
   "execution_count": 10,
   "id": "f7414311-2477-4e38-960c-a223d5b28268",
   "metadata": {},
   "outputs": [
    {
     "name": "stdout",
     "output_type": "stream",
     "text": [
      "Santhiya Hari Kumar Rishnan\n"
     ]
    }
   ],
   "source": [
    "#Capitaize first letter in the word\n",
    "\n",
    "def capitalize(Input):\n",
    "    result = \"\"\n",
    "    word = Input.split()\n",
    "    r = []\n",
    "    for i in word:\n",
    "        v = i.capitalize()\n",
    "        r.append(v)\n",
    "    y = \" \".join(r)\n",
    "    return y\n",
    "\n",
    "Input = \"santhiya hari kumar rishnan\"\n",
    "output = capitalize(Input)\n",
    "print(output)"
   ]
  },
  {
   "cell_type": "code",
   "execution_count": 11,
   "id": "d3bcbbe6-c45c-4a38-a295-85b533c3179c",
   "metadata": {},
   "outputs": [
    {
     "name": "stdout",
     "output_type": "stream",
     "text": [
      "Anagram\n",
      " \n"
     ]
    }
   ],
   "source": [
    "#angram...\n",
    "def is_Anagram(s1, s2):\n",
    "    # x = sorted(s1)\n",
    "    # y = sorted(s2)\n",
    "    # print(x)\n",
    "    # print(y)\n",
    "    if( sorted(s1) == sorted(s2)):\n",
    "        print(\"Anagram\")\n",
    "    else:\n",
    "        print(\"Not Anagram\") \n",
    "    return \" \"\n",
    "s1 = \"listen\"\n",
    "s2 = \"silent\"\n",
    "Output = is_Anagram(s1, s2)\n",
    "print(Output)"
   ]
  },
  {
   "cell_type": "code",
   "execution_count": 12,
   "id": "aa1feb8d-4e4d-4c4e-b8be-9a7c081c8eb4",
   "metadata": {},
   "outputs": [
    {
     "name": "stdout",
     "output_type": "stream",
     "text": [
      "True\n"
     ]
    }
   ],
   "source": [
    "def is_Anagram(s1, s2):\n",
    "    #lenght checking\n",
    "    if( len(s1) != len(s2)):\n",
    "        return False\n",
    "    dic = { }\n",
    "\n",
    "    for char in s1:\n",
    "        #print(char)\n",
    "        dic[char] = dic.get(char,0) + 1 \n",
    "    for char in s2:\n",
    "        dic[char] = dic.get(char , 0) - 1\n",
    "    for count in dic.values():\n",
    "        if count != 0:\n",
    "            return False\n",
    "    return True\n",
    "s1 = \"listen\"\n",
    "s2 = \"silent\"\n",
    "Output = is_Anagram(s1, s2)\n",
    "print(Output)"
   ]
  }
 ],
 "metadata": {
  "kernelspec": {
   "display_name": "Python 3 (ipykernel)",
   "language": "python",
   "name": "python3"
  },
  "language_info": {
   "codemirror_mode": {
    "name": "ipython",
    "version": 3
   },
   "file_extension": ".py",
   "mimetype": "text/x-python",
   "name": "python",
   "nbconvert_exporter": "python",
   "pygments_lexer": "ipython3",
   "version": "3.10.2"
  }
 },
 "nbformat": 4,
 "nbformat_minor": 5
}
