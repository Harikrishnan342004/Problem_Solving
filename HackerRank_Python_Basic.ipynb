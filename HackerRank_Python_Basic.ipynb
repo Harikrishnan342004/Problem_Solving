{
 "cells": [
  {
   "cell_type": "code",
   "execution_count": 3,
   "metadata": {},
   "outputs": [
    {
     "name": "stdout",
     "output_type": "stream",
     "text": [
      "1\n",
      "None\n"
     ]
    }
   ],
   "source": [
    "#FizzBizz\n",
    "def fizzBuzz(n):\n",
    "    for i in range(1, n+1):\n",
    "        if(i % 5 == 0 and i % 3 == 0):\n",
    "            print(\"FizzBuzz\")\n",
    "        elif( i % 3 == 0):\n",
    "            print(\"Fizz\")\n",
    "        elif(i % 5 == 0):\n",
    "            print(\"Buzz\")\n",
    "        else:\n",
    "            print(i)\n",
    "\n",
    "n = 1\n",
    "print(fizzBuzz(n))\n"
   ]
  },
  {
   "cell_type": "code",
   "execution_count": 5,
   "metadata": {},
   "outputs": [
    {
     "name": "stdout",
     "output_type": "stream",
     "text": [
      "0456789deghijklmnopqrstuvwxyz\n"
     ]
    }
   ],
   "source": [
    "#Python -- Missing Characters\n",
    "def  Missing_Characters(s):\n",
    "    all_d = set('0123456789')\n",
    "    all_l = set('abcdeghijklmnopqrstuvwxyz')\n",
    "\n",
    "    s_set = set(s.lower())\n",
    "\n",
    "    missing_d = sorted(all_d - s_set)\n",
    "    missing_l = sorted(all_l - s_set)\n",
    "\n",
    "    result = ''.join(missing_d + missing_l)\n",
    "\n",
    "    return result\n",
    "s = \"123abc\"\n",
    "Input = Missing_Characters(s)\n",
    "print(Input)"
   ]
  },
  {
   "cell_type": "code",
   "execution_count": 23,
   "metadata": {},
   "outputs": [
    {
     "name": "stdout",
     "output_type": "stream",
     "text": [
      "\n"
     ]
    }
   ],
   "source": [
    "def find_missing_letter(chars):\n",
    "    missingChar = ''\n",
    "    for i in range(0,len(chars)-1):\n",
    "        if(ord(chars[i+1]) - ord(chars[i]) > 1):\n",
    "            missingChar = chr(ord(chars[i])+1)\n",
    "\n",
    "    return missingChar\n",
    "\n",
    "chars = \"abc\"\n",
    "Input = find_missing_letter(chars)\n",
    "print(Input)\n",
    "    "
   ]
  },
  {
   "cell_type": "code",
   "execution_count": 24,
   "metadata": {},
   "outputs": [
    {
     "name": "stdout",
     "output_type": "stream",
     "text": [
      "0456789defghijklmnopqrstuvwxyz\n"
     ]
    }
   ],
   "source": [
    "def Missing_Characters(s):\n",
    "    all_d = '0123456789'\n",
    "    all_l = 'abcdefghijklmnopqrstuvwxyz'\n",
    "    \n",
    "    s = s.lower()\n",
    "    \n",
    "    # Create a list to keep track of present characters\n",
    "    present_d = [False] * 10\n",
    "    present_l = [False] * 2\n",
    "    \n",
    "    # Mark characters as present\n",
    "    for char in s:\n",
    "        if '0' <= char <= '9':\n",
    "            present_d[ord(char) - ord('0')] = True\n",
    "        elif 'a' <= char <= 'z':\n",
    "            present_l[ord(char) - ord('a')] = True\n",
    "    \n",
    "    # Collect missing characters\n",
    "    missing_d = ''\n",
    "    for i in range(10):\n",
    "        if not present_d[i]:\n",
    "            missing_d += chr(i + ord('0'))\n",
    "    \n",
    "    missing_l = ''\n",
    "    for i in range(26):\n",
    "        if not present_l[i]:\n",
    "            missing_l += chr(i + ord('a'))\n",
    "    \n",
    "    result = missing_d + missing_l\n",
    "    \n",
    "    return result\n",
    "\n",
    "s = \"123abc\"\n",
    "Input = Missing_Characters(s)\n",
    "print(Input)\n"
   ]
  },
  {
   "cell_type": "code",
   "execution_count": 25,
   "metadata": {},
   "outputs": [
    {
     "name": "stdout",
     "output_type": "stream",
     "text": [
      "Rectangle: 15\n",
      "Circle: 50.26548245743669\n"
     ]
    }
   ],
   "source": [
    "import math\n",
    "class Rectangle:\n",
    "    def __init__(self , l , w):\n",
    "        self.length = l\n",
    "        self.width = w\n",
    "    def area(self):\n",
    "        return self.length * self.width\n",
    "class Circle:\n",
    "    def __init__(self ,r):\n",
    "        self.radius = r\n",
    "        \n",
    "    def area(self):\n",
    "        return math.pi * self.radius ** 2\n",
    "\n",
    "#example \n",
    "rect = Rectangle(5, 3)\n",
    "circle = Circle(4)\n",
    "print(f\"Rectangle: {rect.area()}\")\n",
    "print(f\"Circle: {circle.area()}\")\n"
   ]
  },
  {
   "cell_type": "code",
   "execution_count": 26,
   "metadata": {},
   "outputs": [
    {
     "name": "stdout",
     "output_type": "stream",
     "text": [
      "Rectangle: 15\n",
      "Circle: 50.285714285714285\n"
     ]
    }
   ],
   "source": [
    "class Rectangle:\n",
    "    def __init__(self , l , w):\n",
    "        self.length = l\n",
    "        self.width = w\n",
    "    def area(self):\n",
    "        return self.length * self.width\n",
    "class Circle:\n",
    "    def __init__(self ,r):\n",
    "        self.radius = r\n",
    "        \n",
    "    def area(self):\n",
    "        return 22/7 * self.radius ** 2\n",
    "\n",
    "#example \n",
    "rect = Rectangle(5, 3)\n",
    "circle = Circle(4)\n",
    "print(f\"Rectangle: {rect.area()}\")\n",
    "print(f\"Circle: {circle.area()}\")\n"
   ]
  }
 ],
 "metadata": {
  "kernelspec": {
   "display_name": "Python 3",
   "language": "python",
   "name": "python3"
  },
  "language_info": {
   "codemirror_mode": {
    "name": "ipython",
    "version": 3
   },
   "file_extension": ".py",
   "mimetype": "text/x-python",
   "name": "python",
   "nbconvert_exporter": "python",
   "pygments_lexer": "ipython3",
   "version": "3.10.2"
  }
 },
 "nbformat": 4,
 "nbformat_minor": 2
}
