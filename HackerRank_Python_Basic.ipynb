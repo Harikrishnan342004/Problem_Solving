{
 "cells": [
  {
   "cell_type": "code",
   "execution_count": 2,
   "metadata": {},
   "outputs": [
    {
     "name": "stdout",
     "output_type": "stream",
     "text": [
      "1\n",
      "2\n",
      "Fizz\n",
      "4\n",
      "Buzz\n",
      "None\n"
     ]
    }
   ],
   "source": [
    "#FizzBizz\n",
    "def fizzBuzz(n):\n",
    "    for i in range(1, n+1):\n",
    "        if(i % 5 == 0 and i % 3 == 0):\n",
    "            print(\"FizzBuzz\")\n",
    "        elif( i % 3 == 0):\n",
    "            print(\"Fizz\")\n",
    "        elif(i % 5 == 0):\n",
    "            print(\"Buzz\")\n",
    "        else:\n",
    "            print(i)\n",
    "\n",
    "n = 5\n",
    "print(fizzBuzz(n))\n",
    "\n"
   ]
  }
 ],
 "metadata": {
  "kernelspec": {
   "display_name": "Python 3",
   "language": "python",
   "name": "python3"
  },
  "language_info": {
   "codemirror_mode": {
    "name": "ipython",
    "version": 3
   },
   "file_extension": ".py",
   "mimetype": "text/x-python",
   "name": "python",
   "nbconvert_exporter": "python",
   "pygments_lexer": "ipython3",
   "version": "3.10.2"
  }
 },
 "nbformat": 4,
 "nbformat_minor": 2
}
