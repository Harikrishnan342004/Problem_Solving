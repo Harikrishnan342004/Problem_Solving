{
 "cells": [
  {
   "cell_type": "code",
   "execution_count": 7,
   "metadata": {},
   "outputs": [
    {
     "name": "stdout",
     "output_type": "stream",
     "text": [
      "[3, 4, 5, 1, 2]\n"
     ]
    }
   ],
   "source": [
    "#Left Rotation  DS\n",
    "def rotateLeft(d, arr):\n",
    "    n = len(arr)\n",
    "    d = d % n\n",
    "\n",
    "    roatated_array = arr[d:] + arr[:d]\n",
    "    return roatated_array\n",
    "\n",
    "d = 7\n",
    "arr = [1 , 2 , 3 , 4 ,5]\n",
    "result = rotateLeft(d, arr)\n",
    "print(result)\n"
   ]
  },
  {
   "cell_type": "code",
   "execution_count": 8,
   "metadata": {},
   "outputs": [
    {
     "name": "stdout",
     "output_type": "stream",
     "text": [
      "[3, 2, 1]\n"
     ]
    }
   ],
   "source": [
    "#Arrays - DS\n",
    "def reverse(A):\n",
    "    result = []\n",
    "\n",
    "    for i in A:\n",
    "        result = [i] + result\n",
    "    return result\n",
    "\n",
    "A = [1 , 2 ,3, 4]\n",
    "Input = reverse(A)\n",
    "print(Input)"
   ]
  }
 ],
 "metadata": {
  "kernelspec": {
   "display_name": "Python 3",
   "language": "python",
   "name": "python3"
  },
  "language_info": {
   "codemirror_mode": {
    "name": "ipython",
    "version": 3
   },
   "file_extension": ".py",
   "mimetype": "text/x-python",
   "name": "python",
   "nbconvert_exporter": "python",
   "pygments_lexer": "ipython3",
   "version": "3.10.2"
  }
 },
 "nbformat": 4,
 "nbformat_minor": 2
}
