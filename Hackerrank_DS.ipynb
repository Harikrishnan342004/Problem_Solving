{
 "cells": [
  {
   "cell_type": "code",
   "execution_count": 43,
   "metadata": {},
   "outputs": [
    {
     "name": "stdout",
     "output_type": "stream",
     "text": [
      "[5, 6, 7, 1, 2, 3, 4]\n"
     ]
    }
   ],
   "source": [
    "#Left Rotation  DS\n",
    "def rotateLeft(k , nums):\n",
    "    n = len(nums)\n",
    "    k = k % n\n",
    "\n",
    "    roatated_array = nums[-k:] + nums[:-k]\n",
    "    nums[:] = roatated_array\n",
    "    return nums\n",
    "\n",
    "k = 3\n",
    "nums =  [1,2,3,4,5,7] #[-1,-100,3,99]\n",
    "result = rotateLeft(k , nums)\n",
    "print(result)\n"
   ]
  },
  {
   "cell_type": "code",
   "execution_count": 2,
   "metadata": {},
   "outputs": [
    {
     "name": "stdout",
     "output_type": "stream",
     "text": [
      "5\n"
     ]
    }
   ],
   "source": [
    "#SolveMeFirst\n",
    "def SolveMeFirst(a,b):\n",
    "    return a+b\n",
    "num1 = int(input())\n",
    "num2 = int(input())\n",
    "res = SolveMeFirst(num1 , num2)\n",
    "print(res)"
   ]
  },
  {
   "cell_type": "code",
   "execution_count": 16,
   "metadata": {},
   "outputs": [
    {
     "name": "stdout",
     "output_type": "stream",
     "text": [
      "6\n"
     ]
    }
   ],
   "source": [
    "#simpleArraySum\n",
    "def simpleArraySum(ar):\n",
    "    result = 0\n",
    "    for i in ar:\n",
    "        result += i\n",
    "    return result\n",
    "\n",
    "Arrlen = int(input())\n",
    "ar= []\n",
    "for i in range(0 , Arrlen):\n",
    "    \n",
    "    n = int(input(f\"Enter the value{i + 1}\"))\n",
    "    ar.append(n)\n",
    "res = simpleArraySum(ar)\n",
    "print(res)"
   ]
  },
  {
   "cell_type": "code",
   "execution_count": 28,
   "metadata": {},
   "outputs": [
    {
     "name": "stdout",
     "output_type": "stream",
     "text": [
      "['alice_score: 1, Bob_score: 1']\n"
     ]
    }
   ],
   "source": [
    "#compareTriplets\n",
    "def compareTriplets(a , b):\n",
    "    alice_score = 0\n",
    "    Bob_score = 0\n",
    "    for i in range(len(a)):\n",
    "        if(a[i] > b[i]):\n",
    "            alice_score += 1\n",
    "        elif(a[i] < b[i]):\n",
    "            Bob_score += 1\n",
    "    return [f\"alice_score: {alice_score}, Bob_score: {Bob_score}\"]\n",
    "a = [1, 2, 3]\n",
    "b = [3, 2, 1]\n",
    "res = compareTriplets(a , b)\n",
    "print(res)"
   ]
  },
  {
   "cell_type": "code",
   "execution_count": 34,
   "metadata": {},
   "outputs": [
    {
     "name": "stdout",
     "output_type": "stream",
     "text": [
      "5000000015\n"
     ]
    }
   ],
   "source": [
    "#aVeryBigSum\n",
    "\n",
    "def aVeryBigSum(res):\n",
    "    # return sum(res)\n",
    "\n",
    "    result = 0\n",
    "    for i in res:\n",
    "        result += i\n",
    "    return result\n",
    "\n",
    "arr = [1000000001, 1000000002, 1000000003 ,1000000004 ,1000000005]\n",
    "res = aVeryBigSum(arr)\n",
    "print(res)"
   ]
  },
  {
   "cell_type": "code",
   "execution_count": 37,
   "metadata": {},
   "outputs": [
    {
     "name": "stdout",
     "output_type": "stream",
     "text": [
      "2\n"
     ]
    }
   ],
   "source": [
    "#diagonalDifference\n",
    "def diagonalDifference(arr):\n",
    "    n = len(arr)\n",
    "    primary = 0\n",
    "    secondary = 0\n",
    "    for i in range(n):\n",
    "        for j in range(n):\n",
    "            if(i==j):\n",
    "                primary += arr[i][j]\n",
    "    for i in range(n):\n",
    "        for j in range(n):\n",
    "            if( i+j == n-1 ):\n",
    "                secondary += arr[i][j]\n",
    "    return abs(primary - secondary)\n",
    "\n",
    "arr = [[1, 2, 3],\n",
    "[4 ,5 ,6],\n",
    "[9 ,8 ,9] ]\n",
    "res = diagonalDifference(arr)\n",
    "print(res)"
   ]
  },
  {
   "cell_type": "code",
   "execution_count": 49,
   "metadata": {},
   "outputs": [
    {
     "name": "stdout",
     "output_type": "stream",
     "text": [
      "2\n"
     ]
    }
   ],
   "source": [
    "def diagonalDifference(arr):\n",
    "    length = len(arr)\n",
    "    primary = 0\n",
    "    secondary = 0\n",
    "\n",
    "    for i in range(length):\n",
    "        # print(i)\n",
    "        primary += arr[i][i]\n",
    "        secondary += arr[i][length - 1 - i]\n",
    "\n",
    "    return abs(primary - secondary)\n",
    "\n",
    "arr = [[1, 2, 3],\n",
    "[4 ,5 ,6],\n",
    "[9 ,8 ,9] ]\n",
    "res = diagonalDifference(arr)\n",
    "print(res)"
   ]
  },
  {
   "cell_type": "code",
   "execution_count": 56,
   "metadata": {},
   "outputs": [
    {
     "name": "stdout",
     "output_type": "stream",
     "text": [
      "0.500000\n",
      "0.333333\n",
      "0.166667\n",
      "None\n"
     ]
    }
   ],
   "source": [
    "def plusMinus(arr):\n",
    "    pos = 0\n",
    "    neg = 0\n",
    "    zeros = 0\n",
    "    length = len(arr)\n",
    "\n",
    "    for i in arr:\n",
    "        if(i > 0):\n",
    "            pos += 1\n",
    "        elif(i < 0):\n",
    "            neg += 1\n",
    "        else:\n",
    "            zeros += 1\n",
    "    print(f\"{pos/length:.6f}\")\n",
    "    print(f\"{neg/length:.6f}\")\n",
    "    print(f\"{zeros/length:.6f}\")\n",
    "arr = [-4, 3, -9, 0, 4, 1]\n",
    "res = plusMinus(arr)\n",
    "print(res)"
   ]
  },
  {
   "cell_type": "code",
   "execution_count": 57,
   "metadata": {},
   "outputs": [
    {
     "name": "stdout",
     "output_type": "stream",
     "text": [
      "[2, 1, 1, 0]\n"
     ]
    }
   ],
   "source": [
    "#Sparse array\n",
    "def matchingStrings(stringList, queries):\n",
    "    frequency = {}\n",
    "    for string in stringList:\n",
    "        #print(string) \n",
    "        if string in frequency:\n",
    "            frequency[string] += 1\n",
    "        else:\n",
    "             frequency[string] = 1\n",
    "    result = []\n",
    "\n",
    "    for query in queries:\n",
    "        if query in frequency:\n",
    "            result.append(frequency[query])\n",
    "        else:\n",
    "            result.append(0)\n",
    "    return result\n",
    "            \n",
    "stringList = [\"ab\", \"ab\", \"abc\", \"bc\"]\n",
    "queries = [\"ab\", \"bc\", \"abc\", \"abcd\"]\n",
    "print(matchingStrings(stringList, queries))  # Output: [2, 1, 1, 0]\n",
    "\n"
   ]
  },
  {
   "cell_type": "code",
   "execution_count": 58,
   "metadata": {},
   "outputs": [
    {
     "name": "stdout",
     "output_type": "stream",
     "text": [
      "10\n"
     ]
    }
   ],
   "source": [
    "def arrayManipulation(n, queries):\n",
    "    # Initialize a difference array with 0s\n",
    "    diff = [0] * (n + 1)\n",
    "    \n",
    "    # Apply each operation in the queries\n",
    "    for a, b, k in queries:\n",
    "        diff[a - 1] += k\n",
    "        if b <= n:\n",
    "            diff[b] -= k\n",
    "    \n",
    "    # Calculate the maximum value using prefix sum\n",
    "    max_value = 0\n",
    "    current_value = 0\n",
    "    for i in range(n):\n",
    "        current_value += diff[i]\n",
    "        if current_value > max_value:\n",
    "            max_value = current_value\n",
    "    \n",
    "    return max_value\n",
    "\n",
    "# Example usage\n",
    "n = 10\n",
    "queries = [\n",
    "    (1, 5, 3),\n",
    "    (4, 8, 7),\n",
    "    (6, 9, 1)\n",
    "]\n",
    "\n",
    "result = arrayManipulation(n, queries)\n",
    "print(result)  # Output: 10\n"
   ]
  },
  {
   "cell_type": "code",
   "execution_count": 59,
   "metadata": {},
   "outputs": [
    {
     "name": "stdout",
     "output_type": "stream",
     "text": [
      "[4, 3, 2, 1]\n"
     ]
    }
   ],
   "source": [
    "#Arrays the array  - DS\n",
    "def reverse(A):\n",
    "    result = []\n",
    "\n",
    "    for i in A:\n",
    "        result = [i] + result\n",
    "    return result\n",
    "\n",
    "A = [1 , 2 ,3, 4]\n",
    "Input = reverse(A)\n",
    "print(Input)"
   ]
  },
  {
   "cell_type": "code",
   "execution_count": null,
   "metadata": {},
   "outputs": [],
   "source": []
  }
 ],
 "metadata": {
  "kernelspec": {
   "display_name": "Python 3",
   "language": "python",
   "name": "python3"
  },
  "language_info": {
   "codemirror_mode": {
    "name": "ipython",
    "version": 3
   },
   "file_extension": ".py",
   "mimetype": "text/x-python",
   "name": "python",
   "nbconvert_exporter": "python",
   "pygments_lexer": "ipython3",
   "version": "3.10.2"
  }
 },
 "nbformat": 4,
 "nbformat_minor": 2
}
