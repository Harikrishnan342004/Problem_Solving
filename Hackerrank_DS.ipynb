{
 "cells": [
  {
   "cell_type": "code",
   "execution_count": 43,
   "metadata": {},
   "outputs": [
    {
     "name": "stdout",
     "output_type": "stream",
     "text": [
      "[5, 6, 7, 1, 2, 3, 4]\n"
     ]
    }
   ],
   "source": [
    "#Left Rotation  DS\n",
    "def rotateLeft(k , nums):\n",
    "    n = len(nums)\n",
    "    k = k % n\n",
    "\n",
    "    roatated_array = nums[-k:] + nums[:-k]\n",
    "    nums[:] = roatated_array\n",
    "    return nums\n",
    "\n",
    "k = 3\n",
    "nums =  [1,2,3,4,5,7] #[-1,-100,3,99]\n",
    "result = rotateLeft(k , nums)\n",
    "print(result)\n"
   ]
  },
  {
   "cell_type": "code",
   "execution_count": 2,
   "metadata": {},
   "outputs": [
    {
     "name": "stdout",
     "output_type": "stream",
     "text": [
      "5\n"
     ]
    }
   ],
   "source": [
    "#SolveMeFirst\n",
    "def SolveMeFirst(a,b):\n",
    "    return a+b\n",
    "num1 = int(input())\n",
    "num2 = int(input())\n",
    "res = SolveMeFirst(num1 , num2)\n",
    "print(res)"
   ]
  },
  {
   "cell_type": "code",
   "execution_count": 3,
   "metadata": {},
   "outputs": [
    {
     "name": "stdout",
     "output_type": "stream",
     "text": [
      "[2, 1, 1, 0]\n"
     ]
    }
   ],
   "source": [
    "#Sparse array\n",
    "def matchingStrings(stringList, queries):\n",
    "    frequency = {}\n",
    "    for string in stringList:\n",
    "        #print(string) \n",
    "        if string in frequency:\n",
    "            frequency[string] += 1\n",
    "        else:\n",
    "             frequency[string] = 1\n",
    "    result = []\n",
    "\n",
    "    for query in queries:\n",
    "        if query in frequency:\n",
    "            result.append(frequency[query])\n",
    "        else:\n",
    "            result.append(0)\n",
    "    return result\n",
    "            \n",
    "stringList = [\"ab\", \"ab\", \"abc\", \"bc\"]\n",
    "queries = [\"ab\", \"bc\", \"abc\", \"abcd\"]\n",
    "print(matchingStrings(stringList, queries))  # Output: [2, 1, 1, 0]\n",
    "\n"
   ]
  },
  {
   "cell_type": "code",
   "execution_count": 4,
   "metadata": {},
   "outputs": [
    {
     "ename": "NameError",
     "evalue": "name 'arrayManipulation' is not defined",
     "output_type": "error",
     "traceback": [
      "\u001b[1;31m---------------------------------------------------------------------------\u001b[0m",
      "\u001b[1;31mNameError\u001b[0m                                 Traceback (most recent call last)",
      "Input \u001b[1;32mIn [4]\u001b[0m, in \u001b[0;36m<cell line: 9>\u001b[1;34m()\u001b[0m\n\u001b[0;32m      2\u001b[0m n \u001b[38;5;241m=\u001b[39m \u001b[38;5;241m10\u001b[39m\n\u001b[0;32m      3\u001b[0m queries \u001b[38;5;241m=\u001b[39m [\n\u001b[0;32m      4\u001b[0m     (\u001b[38;5;241m1\u001b[39m, \u001b[38;5;241m5\u001b[39m, \u001b[38;5;241m3\u001b[39m),\n\u001b[0;32m      5\u001b[0m     (\u001b[38;5;241m4\u001b[39m, \u001b[38;5;241m8\u001b[39m, \u001b[38;5;241m7\u001b[39m),\n\u001b[0;32m      6\u001b[0m     (\u001b[38;5;241m6\u001b[39m, \u001b[38;5;241m9\u001b[39m, \u001b[38;5;241m1\u001b[39m)\n\u001b[0;32m      7\u001b[0m ]\n\u001b[1;32m----> 9\u001b[0m result \u001b[38;5;241m=\u001b[39m \u001b[43marrayManipulation\u001b[49m(n, queries)\n\u001b[0;32m     10\u001b[0m \u001b[38;5;28mprint\u001b[39m(result)\n",
      "\u001b[1;31mNameError\u001b[0m: name 'arrayManipulation' is not defined"
     ]
    }
   ],
   "source": [
    "# Example usage\n",
    "n = 10\n",
    "queries = [\n",
    "    (1, 5, 3),\n",
    "    (4, 8, 7),\n",
    "    (6, 9, 1)\n",
    "]\n",
    "\n",
    "result = arrayManipulation(n, queries)\n",
    "print(result)  # Output: 10"
   ]
  },
  {
   "cell_type": "code",
   "execution_count": null,
   "metadata": {},
   "outputs": [
    {
     "name": "stdout",
     "output_type": "stream",
     "text": [
      "10\n"
     ]
    }
   ],
   "source": [
    "def arrayManipulation(n, queries):\n",
    "    # Initialize a difference array with 0s\n",
    "    diff = [0] * (n + 1)\n",
    "    \n",
    "    # Apply each operation in the queries\n",
    "    for a, b, k in queries:\n",
    "        diff[a - 1] += k\n",
    "        if b <= n:\n",
    "            diff[b] -= k\n",
    "    \n",
    "    # Calculate the maximum value using prefix sum\n",
    "    max_value = 0\n",
    "    current_value = 0\n",
    "    for i in range(n):\n",
    "        current_value += diff[i]\n",
    "        if current_value > max_value:\n",
    "            max_value = current_value\n",
    "    \n",
    "    return max_value\n",
    "\n",
    "# Example usage\n",
    "n = 10\n",
    "queries = [\n",
    "    (1, 5, 3),\n",
    "    (4, 8, 7),\n",
    "    (6, 9, 1)\n",
    "]\n",
    "\n",
    "result = arrayManipulation(n, queries)\n",
    "print(result)  # Output: 10\n"
   ]
  },
  {
   "cell_type": "code",
   "execution_count": null,
   "metadata": {},
   "outputs": [
    {
     "name": "stdout",
     "output_type": "stream",
     "text": [
      "[4, 3, 2, 1]\n"
     ]
    }
   ],
   "source": [
    "#Arrays - DS\n",
    "def reverse(A):\n",
    "    result = []\n",
    "\n",
    "    for i in A:\n",
    "        result = [i] + result\n",
    "    return result\n",
    "\n",
    "A = [1 , 2 ,3, 4]\n",
    "Input = reverse(A)\n",
    "print(Input)"
   ]
  },
  {
   "cell_type": "code",
   "execution_count": null,
   "metadata": {},
   "outputs": [],
   "source": []
  }
 ],
 "metadata": {
  "kernelspec": {
   "display_name": "Python 3",
   "language": "python",
   "name": "python3"
  },
  "language_info": {
   "codemirror_mode": {
    "name": "ipython",
    "version": 3
   },
   "file_extension": ".py",
   "mimetype": "text/x-python",
   "name": "python",
   "nbconvert_exporter": "python",
   "pygments_lexer": "ipython3",
   "version": "3.10.2"
  }
 },
 "nbformat": 4,
 "nbformat_minor": 2
}
