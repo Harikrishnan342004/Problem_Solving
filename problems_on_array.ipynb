{
 "cells": [
  {
   "cell_type": "code",
   "execution_count": 1,
   "id": "86c67d86-120b-42b0-8eed-c0484a39d350",
   "metadata": {},
   "outputs": [
    {
     "name": "stdout",
     "output_type": "stream",
     "text": [
      "current Number = 1 previous Number = 0 sum = 1\n",
      "current Number = 2 previous Number = 1 sum = 3\n",
      "current Number = 3 previous Number = 3 sum = 6\n",
      "current Number = 4 previous Number = 6 sum = 10\n",
      "current Number = 5 previous Number = 10 sum = 15\n",
      "current Number = 6 previous Number = 15 sum = 21\n",
      "current Number = 7 previous Number = 21 sum = 28\n",
      "current Number = 8 previous Number = 28 sum = 36\n",
      "current Number = 9 previous Number = 36 sum = 45\n"
     ]
    }
   ],
   "source": [
    "# Current number and previous number in python ....\n",
    "\n",
    "def myfunction(Input_Limit):\n",
    "    previous_Num = 0\n",
    "    \n",
    "    for i in range(1, Input_Limit):\n",
    "        sum = previous_Num + i\n",
    "        print(\"current Number =\", i, \"previous Number =\", previous_Num, \"sum =\", sum)\n",
    "        previous_Num = sum\n",
    "\n",
    "Input_Limit = 10\n",
    "myfunction(Input_Limit)"
   ]
  },
  {
   "cell_type": "code",
   "execution_count": 2,
   "id": "13ce9121-6867-4ff0-9bfb-c72ec9f4dc31",
   "metadata": {},
   "outputs": [
    {
     "name": "stdin",
     "output_type": "stream",
     "text": [
      "Enter the value =  30\n"
     ]
    },
    {
     "name": "stdout",
     "output_type": "stream",
     "text": [
      "current Number =  1 previous NUmber =  0 sum = 1\n",
      "current Number =  2 previous NUmber =  1 sum = 3\n",
      "current Number =  3 previous NUmber =  3 sum = 6\n",
      "current Number =  4 previous NUmber =  6 sum = 10\n",
      "current Number =  5 previous NUmber =  10 sum = 15\n",
      "current Number =  6 previous NUmber =  15 sum = 21\n",
      "current Number =  7 previous NUmber =  21 sum = 28\n",
      "current Number =  8 previous NUmber =  28 sum = 36\n",
      "current Number =  9 previous NUmber =  36 sum = 45\n",
      "current Number =  10 previous NUmber =  45 sum = 55\n",
      "current Number =  11 previous NUmber =  55 sum = 66\n",
      "current Number =  12 previous NUmber =  66 sum = 78\n",
      "current Number =  13 previous NUmber =  78 sum = 91\n",
      "current Number =  14 previous NUmber =  91 sum = 105\n",
      "current Number =  15 previous NUmber =  105 sum = 120\n",
      "current Number =  16 previous NUmber =  120 sum = 136\n",
      "current Number =  17 previous NUmber =  136 sum = 153\n",
      "current Number =  18 previous NUmber =  153 sum = 171\n",
      "current Number =  19 previous NUmber =  171 sum = 190\n",
      "current Number =  20 previous NUmber =  190 sum = 210\n",
      "current Number =  21 previous NUmber =  210 sum = 231\n",
      "current Number =  22 previous NUmber =  231 sum = 253\n",
      "current Number =  23 previous NUmber =  253 sum = 276\n",
      "current Number =  24 previous NUmber =  276 sum = 300\n",
      "current Number =  25 previous NUmber =  300 sum = 325\n",
      "current Number =  26 previous NUmber =  325 sum = 351\n",
      "current Number =  27 previous NUmber =  351 sum = 378\n",
      "current Number =  28 previous NUmber =  378 sum = 406\n",
      "current Number =  29 previous NUmber =  406 sum = 435\n",
      "None\n"
     ]
    }
   ],
   "source": [
    "# Current number and previous number in python ....\n",
    "\n",
    "def  myfunction(Input_Limit):\n",
    "    previous_Num = 0\n",
    "    \n",
    "    for i in range(1 ,  Input_Limit):\n",
    "        sum =   previous_Num + i\n",
    "        print(\"current Number = \", i , \"previous NUmber = \",  previous_Num  , \"sum =\", sum  )\n",
    "        \n",
    "        previous_Num = sum\n",
    "Input_Limit = int(input(\"Enter the value = \"));\n",
    "output = myfunction(Input_Limit)\n",
    "print(output)"
   ]
  },
  {
   "cell_type": "code",
   "execution_count": 16,
   "id": "3eac6eac-bc29-4cad-813e-063d9b2e00e8",
   "metadata": {},
   "outputs": [
    {
     "name": "stdout",
     "output_type": "stream",
     "text": [
      "[10, 20, 30, 40, 5, 4940]\n"
     ]
    }
   ],
   "source": [
    "#Display Num Divisible by 5 from list ----\n",
    "\n",
    "def myfunction(input):\n",
    "    empty = [ input[i] for i in range(len(input))  if(input[i]%5 == 0)]\n",
    "  \n",
    "       \n",
    "            \n",
    "            \n",
    "    return empty\n",
    "            \n",
    "input = [ 10 , 20 , 30 , 40 , 5 , 3 ,4 ,  6, 7, 8 , 9, 34334 , 4940 , 101010020202 ]\n",
    "output = myfunction(input)\n",
    "print(output)"
   ]
  },
  {
   "cell_type": "code",
   "execution_count": null,
   "id": "58247c81-6307-4486-8993-e0ce3b0c4c0b",
   "metadata": {},
   "outputs": [
    {
     "name": "stdout",
     "output_type": "stream",
     "text": [
      "(92927, 1)\n"
     ]
    }
   ],
   "source": [
    "#Min & Max ellement of array ..\n",
    "\n",
    "\n",
    "def  min_max( Array ):\n",
    "    min = Array[0]\n",
    "    max = Array[0]\n",
    "    for i in Array:\n",
    "        if(i < min ):\n",
    "            min = i\n",
    "        if(i > max):\n",
    "            max = i\n",
    "    return max ,  min\n",
    "\n",
    "Array = [ 10 , 3939 , 8282 , 1  , 2, 3, 4 , 5  , 92927 ]\n",
    "output =  min_max( Array )\n",
    "print(output)\n"
   ]
  },
  {
   "cell_type": "code",
   "execution_count": 2,
   "id": "fc62142a-28b6-4e5e-8b74-02f00ab814ae",
   "metadata": {},
   "outputs": [
    {
     "name": "stdout",
     "output_type": "stream",
     "text": [
      "(101225, 3948)\n"
     ]
    }
   ],
   "source": [
    "#Sum of odd & even index in Array ...\n",
    "\n",
    "def  odd_even_sum(Array):\n",
    "    even_sum = 0\n",
    "    odd_sum = 0\n",
    "    for i in range(len(Array)):\n",
    "        \n",
    "        if ( i % 2 == 0):\n",
    "            even_sum += Array[i]\n",
    "        \n",
    "        else:\n",
    "            odd_sum +=Array[i]\n",
    "    \n",
    "    return even_sum , odd_sum\n",
    "            \n",
    "\n",
    "Array =  [ 10 , 3939 , 8282 , 1  , 2, 3, 4 , 5  , 92927 ]\n",
    "output = odd_even_sum(Array)\n",
    "print(output)"
   ]
  },
  {
   "cell_type": "code",
   "execution_count": 8,
   "id": "76f1434f-ddac-475c-b748-3197b5cf15b4",
   "metadata": {},
   "outputs": [
    {
     "name": "stdout",
     "output_type": "stream",
     "text": [
      "(8298, 96875)\n"
     ]
    }
   ],
   "source": [
    "#Sum of odd & even number  in Array ...\n",
    "\n",
    "def  odd_even_sum(Array):\n",
    "    even_sum = 0\n",
    "    odd_sum = 0      # it is important ..\n",
    "    \n",
    "    for i in Array:\n",
    "        \n",
    "        if(i % 2 == 0):\n",
    "            \n",
    "            even_sum += i   # i is important \n",
    "        \n",
    "        else:\n",
    "            \n",
    "            odd_sum += i\n",
    "    \n",
    "    return  even_sum , odd_sum\n",
    "        \n",
    "\n",
    "Array =  [ 10 , 3939 , 8282 , 1  , 2, 3, 4 , 5  , 92927 ]\n",
    "output = odd_even_sum(Array)\n",
    "print(output)"
   ]
  },
  {
   "cell_type": "code",
   "execution_count": 9,
   "id": "09708903-6aa4-47e9-8587-ec340a501e49",
   "metadata": {},
   "outputs": [
    {
     "name": "stdout",
     "output_type": "stream",
     "text": [
      "[1, 4, 9, 16, 25, 36]\n"
     ]
    }
   ],
   "source": [
    "# Square of All Array element---\n",
    "def Square(Input_Array):\n",
    "    empty = []\n",
    "    \n",
    "    for i in Input_Array:\n",
    "        empty += [i**2]\n",
    "    return empty\n",
    "\n",
    "Input_Array = [1 , 2 , 3 , 4 , 5 , 6 ]\n",
    "Output = Square(Input_Array)\n",
    "print(Output)"
   ]
  },
  {
   "cell_type": "code",
   "execution_count": 1,
   "id": "0797fdc3-c226-4d75-9277-1921a04dd424",
   "metadata": {},
   "outputs": [
    {
     "name": "stdout",
     "output_type": "stream",
     "text": [
      "21\n"
     ]
    }
   ],
   "source": [
    "#Given an array of integers, find the sum of its elements.\n",
    "def  Sum_of_all(Input_Array):\n",
    "    \n",
    "    empty = 0\n",
    "    \n",
    "    for i in Input_Array:\n",
    "        empty += i\n",
    "    return empty\n",
    "\n",
    "\n",
    "Input_Array = [1 , 2 , 3 , 4 , 5 , 6 ]\n",
    "Output = Sum_of_all(Input_Array)\n",
    "print(Output)\n"
   ]
  },
  {
   "cell_type": "code",
   "execution_count": 1,
   "id": "910e6449-52c8-480e-ace6-6e89340bb0f9",
   "metadata": {},
   "outputs": [
    {
     "name": "stdout",
     "output_type": "stream",
     "text": [
      "[17, 5, 2]\n"
     ]
    }
   ],
   "source": [
    "#Find the leaders on the array\n",
    "def  Leaders_on_the_array(Input_array):\n",
    "    n = len(Input_array)\n",
    "    max_right = Input_array[n - 1] #Initialize the maximum element on right side\n",
    "    leaders = [max_right]  #Right most element is allways leader\n",
    "    \n",
    "    for i in range(n-1 , -1 , -1):\n",
    "        if(Input_array[i] > max_right):\n",
    "            max_right = Input_array[i]\n",
    "            leaders.append(max_right)\n",
    "           #reversing array by using for loop.. \n",
    "    reverse_array = []\n",
    "    for j in range(len(leaders)-1 , -1 , -1):\n",
    "         reverse_array.append(leaders[j])\n",
    "        \n",
    "    \n",
    "    return reverse_array\n",
    "        \n",
    "Input_array = [16, 17, 4, 3, 5, 2]\n",
    "Output =  Leaders_on_the_array(Input_array)\n",
    "print(Output)"
   ]
  },
  {
   "cell_type": "code",
   "execution_count": 4,
   "id": "aca934ca-9b3a-4dee-a8d7-f1332b4640aa",
   "metadata": {},
   "outputs": [
    {
     "name": "stdout",
     "output_type": "stream",
     "text": [
      "[1, 2]\n"
     ]
    }
   ],
   "source": [
    "#Compare Array \n",
    "def compare(a, b):\n",
    "    result = []\n",
    "    x = 0\n",
    "    y = 0\n",
    "    for i in range(0, len(a)):\n",
    "        if ( a[i] > b[i]):\n",
    "            x = x + 1\n",
    "        elif ( a[i]<b[i] ):\n",
    "            y = y + 1\n",
    "        else:\n",
    "            continue\n",
    "    result.append(x)\n",
    "    result.append(y)\n",
    "    return result\n",
    "a = [5, 6 ,7,5]\n",
    "b = [3 , 6 , 10  ,9]\n",
    "Output = compare(a, b)\n",
    "print(Output)"
   ]
  },
  {
   "cell_type": "code",
   "execution_count": 11,
   "id": "579d9abd-c734-464e-b897-ae6718567d22",
   "metadata": {},
   "outputs": [
    {
     "name": "stdout",
     "output_type": "stream",
     "text": [
      "[3]\n"
     ]
    }
   ],
   "source": [
    "#Intersection of Array...\n",
    "\n",
    "def Intersection(Input1 ,Input2 ):\n",
    "    # Set = set()\n",
    "    # for i in Input1:\n",
    "    #     Set.add(i)\n",
    "    # for i in Input2:\n",
    "    #     if i in Set:\n",
    "    #         print(i , end = \" \")\n",
    "    result = []\n",
    "    Input1 = set(Input1)\n",
    "    \n",
    "    for i in Input2:\n",
    "        if i in Input1:\n",
    "            result.append(i)\n",
    "            # Input1.remove(i)\n",
    "    \n",
    "    return result\n",
    "\n",
    "Input1 = [1, 2,3,4,5,6,]\n",
    "Input2 = [3,]\n",
    "output = Intersection(Input1 ,Input2 )\n",
    "print(output)"
   ]
  },
  {
   "cell_type": "code",
   "execution_count": 14,
   "id": "efd4daf2-9fae-48cb-a0d8-bde56541b50b",
   "metadata": {},
   "outputs": [
    {
     "name": "stdout",
     "output_type": "stream",
     "text": [
      "[1, 2]\n"
     ]
    }
   ],
   "source": [
    "#Two sum\n",
    "def  Two_sum(Input , Target):\n",
    "    for i in range(len(Input)):\n",
    "       \n",
    "        for j in range(i+1, len(Input)):\n",
    "            if Input[i] == Target - Input[j]:\n",
    "                return [i , j]\n",
    "        \n",
    "Input = [3,2,4]\n",
    "Target = 6\n",
    "output = Two_sum(Input , Target)\n",
    "print(output)"
   ]
  },
  {
   "cell_type": "code",
   "execution_count": null,
   "id": "66a76daa-9e81-4f48-9ba7-7d3c73fb3eac",
   "metadata": {},
   "outputs": [],
   "source": []
  }
 ],
 "metadata": {
  "kernelspec": {
   "display_name": "Python 3 (ipykernel)",
   "language": "python",
   "name": "python3"
  },
  "language_info": {
   "codemirror_mode": {
    "name": "ipython",
    "version": 3
   },
   "file_extension": ".py",
   "mimetype": "text/x-python",
   "name": "python",
   "nbconvert_exporter": "python",
   "pygments_lexer": "ipython3",
   "version": "3.10.2"
  }
 },
 "nbformat": 4,
 "nbformat_minor": 5
}
