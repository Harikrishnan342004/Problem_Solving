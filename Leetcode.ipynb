{
 "cells": [
  {
   "cell_type": "code",
   "execution_count": 2,
   "id": "6a60456d-e44d-40eb-872e-94f9d204bbd6",
   "metadata": {},
   "outputs": [
    {
     "name": "stdout",
     "output_type": "stream",
     "text": [
      "[0, 1]\n"
     ]
    }
   ],
   "source": [
    "#1.Two Sum\n",
    "def  Two_sum(nums , target):\n",
    "    for i  in range(len(nums)):\n",
    "        for j in range(i+1 ,len(nums)):\n",
    "            if( nums[i] == target - nums[j]):\n",
    "                return [i , j]\n",
    "\n",
    "nums = [2,7,11,15]\n",
    "target = 9\n",
    "Input = Two_sum(nums , target)\n",
    "print(Input)"
   ]
  },
  {
   "cell_type": "code",
   "execution_count": 3,
   "id": "33bae085-83a1-47f7-abec-0bf9a7d98036",
   "metadata": {},
   "outputs": [
    {
     "ename": "NameError",
     "evalue": "name 'ListNode' is not defined",
     "output_type": "error",
     "traceback": [
      "\u001b[1;31m---------------------------------------------------------------------------\u001b[0m",
      "\u001b[1;31mNameError\u001b[0m                                 Traceback (most recent call last)",
      "Input \u001b[1;32mIn [3]\u001b[0m, in \u001b[0;36m<cell line: 25>\u001b[1;34m()\u001b[0m\n\u001b[0;32m     23\u001b[0m l1 \u001b[38;5;241m=\u001b[39m [\u001b[38;5;241m2\u001b[39m,\u001b[38;5;241m4\u001b[39m,\u001b[38;5;241m3\u001b[39m] \n\u001b[0;32m     24\u001b[0m l2 \u001b[38;5;241m=\u001b[39m [\u001b[38;5;241m5\u001b[39m,\u001b[38;5;241m6\u001b[39m,\u001b[38;5;241m4\u001b[39m]\n\u001b[1;32m---> 25\u001b[0m Input \u001b[38;5;241m=\u001b[39m \u001b[43mAdd_Two_Numbers\u001b[49m\u001b[43m(\u001b[49m\u001b[43ml1\u001b[49m\u001b[43m,\u001b[49m\u001b[43m \u001b[49m\u001b[43ml2\u001b[49m\u001b[43m)\u001b[49m\n\u001b[0;32m     26\u001b[0m \u001b[38;5;28mprint\u001b[39m(Input)\n",
      "Input \u001b[1;32mIn [3]\u001b[0m, in \u001b[0;36mAdd_Two_Numbers\u001b[1;34m(l1, l2)\u001b[0m\n\u001b[0;32m      2\u001b[0m \u001b[38;5;28;01mdef\u001b[39;00m  \u001b[38;5;21mAdd_Two_Numbers\u001b[39m(l1, l2):\n\u001b[1;32m----> 3\u001b[0m     dummy \u001b[38;5;241m=\u001b[39m \u001b[43mListNode\u001b[49m(\u001b[38;5;241m0\u001b[39m)\n\u001b[0;32m      4\u001b[0m     curr \u001b[38;5;241m=\u001b[39m dummy\n\u001b[0;32m      5\u001b[0m     carry \u001b[38;5;241m=\u001b[39m \u001b[38;5;241m0\u001b[39m\n",
      "\u001b[1;31mNameError\u001b[0m: name 'ListNode' is not defined"
     ]
    }
   ],
   "source": [
    "#2. Add Two Numbers...\n",
    "def  Add_Two_Numbers(l1, l2):\n",
    "    dummy = ListNode(0)\n",
    "    curr = dummy\n",
    "    carry = 0\n",
    "    \n",
    "    while carry or l1 or l2:\n",
    "        if l1:\n",
    "            carry += l1.val\n",
    "            l1 = l1.next\n",
    "        if l2:\n",
    "            carry += l2.val\n",
    "            l2 = l2.next\n",
    "        \n",
    "        curr.next = ListNode(carry % 10)\n",
    "        carry //= 10\n",
    "        curr = curr.next\n",
    "    \n",
    "    return dummy.next\n",
    "        \n",
    "l1 = [2,4,3] \n",
    "l2 = [5,6,4]\n",
    "Input = Add_Two_Numbers(l1, l2)\n",
    "print(Input)"
   ]
  },
  {
   "cell_type": "code",
   "execution_count": 6,
   "id": "ec8e6096-b361-4d9c-973b-f370167a3170",
   "metadata": {},
   "outputs": [
    {
     "name": "stdout",
     "output_type": "stream",
     "text": [
      "3\n"
     ]
    }
   ],
   "source": [
    "#3.Longest Substring Without Repeating Characters\n",
    "def  Longest_Substring(s):\n",
    "    result_set = set()\n",
    "    result = 0\n",
    "    l = 0\n",
    "    \n",
    "    for i in range(0, len(s)):\n",
    "        while(s[i] in result_set):\n",
    "            result_set.remove(s[i])\n",
    "            l += 1\n",
    "        result_set.add(s[i])\n",
    "        result = max(result, i-l+1)\n",
    "    return result\n",
    "    \n",
    "s = \"abcabcbb\"\n",
    "Input = Longest_Substring(s)\n",
    "print(Input)"
   ]
  },
  {
   "cell_type": "code",
   "execution_count": 19,
   "id": "a6bc957c-b49c-4e58-86e4-c3ae0ba52905",
   "metadata": {},
   "outputs": [
    {
     "name": "stdout",
     "output_type": "stream",
     "text": [
      "2.5\n"
     ]
    }
   ],
   "source": [
    "#4. Median of Two Sorted Arrays\n",
    "def Median_of_Two_Sorted_Arrays(nums1, nums2):\n",
    "    merg = sorted(nums1 + nums2)\n",
    "    length = len(merg)\n",
    "    #print(merg)\n",
    "    #print(length)\n",
    "    \n",
    "    if( length % 2 == 0 ):\n",
    "        return ( (merg[ (length // 2) -1 ] + merg[ length // 2 ]) / 2  )\n",
    "    else:\n",
    "        return ( merg[length // 2 ] )\n",
    "    \n",
    "nums1 = [1,2]\n",
    "nums2 = [3,4]\n",
    "Input = Median_of_Two_Sorted_Arrays(nums1, nums2)\n",
    "print(Input)"
   ]
  },
  {
   "cell_type": "code",
   "execution_count": null,
   "id": "5dbeb6b8-dc6d-4499-9947-81e7db75c94a",
   "metadata": {},
   "outputs": [],
   "source": [
    "#5. Longest Palindromic Substring"
   ]
  },
  {
   "cell_type": "code",
   "execution_count": 27,
   "id": "b1c12741-8df7-4c0e-b708-44c517f43196",
   "metadata": {},
   "outputs": [
    {
     "name": "stdout",
     "output_type": "stream",
     "text": [
      "A\n"
     ]
    }
   ],
   "source": [
    "#6. Zigzag Conversion\n",
    "def  Zigzag_Conversion(s, numRows):\n",
    "    rows = [''] * numRows\n",
    "    k = 0\n",
    "    direction = ( numRows == 1) -1\n",
    "    \n",
    "    for c in s:\n",
    "        #print(c)\n",
    "        rows[k] += c\n",
    "        if k == 0 or k == numRows -1:\n",
    "            direction *= -1\n",
    "        k  += direction\n",
    "    return ''.join(rows)\n",
    "\n",
    "s = \"A\"\n",
    "numRows = 1\n",
    "Input =   Zigzag_Conversion(s, numRows)\n",
    "print(Input)"
   ]
  },
  {
   "cell_type": "code",
   "execution_count": 4,
   "id": "9543b2a0-0845-42c2-9a69-5d3a18748a36",
   "metadata": {},
   "outputs": [
    {
     "name": "stdout",
     "output_type": "stream",
     "text": [
      "6\n"
     ]
    }
   ],
   "source": [
    "#13. Roman to Integer\n",
    "def Roman_to_Integer(s):\n",
    "    \n",
    "    d = {'I': 1, 'V': 5, 'X': 10, 'L': 50,\n",
    "             'C': 100, 'D': 500, 'M': 1000}\n",
    "    i = 0\n",
    "    sums = 0\n",
    "    while i < len(s)-1:\n",
    "        if( d[s[i]] >= d[s[i+1]] ):\n",
    "            sums = d[s[i]]\n",
    "            i += 1\n",
    "        else:\n",
    "            sums += d[s[i+1]] - d[s[i]]\n",
    "            i += 2\n",
    "    if( i== len(s)-1 ):\n",
    "        sums += d[s[i]]\n",
    "    return sums\n",
    "    \n",
    "s = \"VI\"\n",
    "Output = Roman_to_Integer(s)\n",
    "print(Output)"
   ]
  },
  {
   "cell_type": "code",
   "execution_count": 22,
   "id": "f954e0f1-bc0f-48c7-aab5-468ae84c707b",
   "metadata": {},
   "outputs": [
    {
     "name": "stdout",
     "output_type": "stream",
     "text": [
      "5\n"
     ]
    }
   ],
   "source": [
    "#58. Length of Last Word\n",
    "def Length_of_Last_Word(s):\n",
    "    i = len(s)-1\n",
    "    #print(i)\n",
    "    while i >= 0 and s[i] == ' ':\n",
    "        i -= 1\n",
    "    lastIndex = i\n",
    "    while i >= 0 and s[i] != ' ':\n",
    "        i -= 1\n",
    "    return lastIndex - i\n",
    "s = \"Hello World\"\n",
    "Input = Length_of_Last_Word(s)\n",
    "print(Input)"
   ]
  },
  {
   "cell_type": "code",
   "execution_count": 18,
   "id": "5bdc7ce9-39c6-4258-94ea-6c8069ff4f48",
   "metadata": {},
   "outputs": [
    {
     "name": "stdout",
     "output_type": "stream",
     "text": [
      "threeq two one\n"
     ]
    }
   ],
   "source": [
    "#Reverse the word in string....\n",
    "def  reverse_the_string(s):\n",
    "    result = []\n",
    "    spliting = s.split()\n",
    "    for i in range(len(spliting)-1, -1 ,-1):\n",
    "        result.append(spliting[i])\n",
    "    return \" \".join(result)\n",
    "        \n",
    "        \n",
    "s = \"one two threeq\"\n",
    "Input = reverse_the_string(s)\n",
    "print(Input)"
   ]
  },
  {
   "cell_type": "code",
   "execution_count": 9,
   "id": "adb9917a-1e51-4a96-8727-f8d37679696e",
   "metadata": {},
   "outputs": [
    {
     "name": "stdout",
     "output_type": "stream",
     "text": [
      "4\n"
     ]
    }
   ],
   "source": [
    "#single Number.........\n",
    "def single_num(num):\n",
    "    result = 0\n",
    "    for i in num:\n",
    "        result ^= i\n",
    "    return result\n",
    "# Example usage:\n",
    "nums1 = [2, 2, 1]\n",
    "nums2 = [4, 1, 2, 1, 2]\n",
    "nums3 = [1]\n",
    "Input = single_num(nums2)\n",
    "print(Input)"
   ]
  },
  {
   "cell_type": "code",
   "execution_count": 8,
   "id": "eeb9bb64-4ca0-4d23-a686-122a2ae90a5a",
   "metadata": {},
   "outputs": [
    {
     "name": "stdout",
     "output_type": "stream",
     "text": [
      "True\n"
     ]
    }
   ],
   "source": [
    "#palindrome Number.......\n",
    "def  Palindrome(Input):\n",
    "    if Input < 0 :\n",
    "        return False\n",
    "    number = Input\n",
    "    reverse = 0\n",
    "    while number:\n",
    "        reverse = reverse * 10 + number % 10\n",
    "        number //= 10\n",
    "    \n",
    "    return Input == reverse\n",
    "        \n",
    "Input = 111\n",
    "output = Palindrome(Input)\n",
    "print(output)"
   ]
  },
  {
   "cell_type": "code",
   "execution_count": 10,
   "id": "dbcc1c2c-7ece-4af9-98d1-eb5f83cceee4",
   "metadata": {},
   "outputs": [
    {
     "name": "stdout",
     "output_type": "stream",
     "text": [
      "fl\n"
     ]
    }
   ],
   "source": [
    "#longest common prefix...\n",
    "\n",
    "def Common_prefix(strs):\n",
    "    if not strs:\n",
    "        return \" \"\n",
    "    res = \"\"\n",
    "    for i in range(len(strs[0])):\n",
    "        for s in strs:\n",
    "            if i == s[i] or s[i] != strs[0][i] :\n",
    "                return res\n",
    "        res += strs[0][i]\n",
    "    \n",
    "    return res\n",
    "           \n",
    "\n",
    "strs = [\"flower\",\"flow\",\"flight\"]\n",
    "output = Common_prefix(strs)\n",
    "print(output)"
   ]
  },
  {
   "cell_type": "code",
   "execution_count": 14,
   "id": "6557cf16-6a5c-4778-8150-ee97e7a18ad9",
   "metadata": {},
   "outputs": [
    {
     "name": "stdout",
     "output_type": "stream",
     "text": [
      "0\n",
      "0\n",
      "0\n",
      "0\n",
      "0\n",
      "0\n",
      "0\n",
      "0\n",
      "1\n",
      "0\n",
      "0\n",
      "0\n",
      "0\n",
      "X\n"
     ]
    }
   ],
   "source": [
    "def number_to_roman(num):\n",
    "    d = {\n",
    "        1000: 'M',\n",
    "        900: 'CM',\n",
    "        500: 'D',\n",
    "        400: 'CD',\n",
    "        100: 'C',\n",
    "        90: 'XC',\n",
    "        50: 'L',\n",
    "        40: 'XL',\n",
    "        10: 'X',\n",
    "        9: 'IX',\n",
    "        5: 'V',\n",
    "        4: 'IV',\n",
    "        1: 'I'\n",
    "    }\n",
    "    res = \"\"\n",
    "    for i in d:\n",
    "        #print(d[i])\n",
    "        count = num // i\n",
    "        print(count)\n",
    "        res += count * d[i]   #4//1 *  1000\n",
    "        num %= i\n",
    "    return res\n",
    "\n",
    "# Example usage\n",
    "num = 10\n",
    "output = number_to_roman(num)\n",
    "print(output)  # Output: 'XLII'\n"
   ]
  },
  {
   "cell_type": "code",
   "execution_count": 30,
   "id": "8053187f-d7e9-4afc-93f6-f962110fff9f",
   "metadata": {},
   "outputs": [
    {
     "name": "stdout",
     "output_type": "stream",
     "text": [
      "(5, 3, 1, 2, 4)\n"
     ]
    }
   ],
   "source": [
    "#Shorting array even numbers ascending order and odd number descending order.....\n",
    "def Sorting(arr):\n",
    "    result = [ ]\n",
    "    odd = []\n",
    "    even = []\n",
    "    \n",
    "    for i in arr:\n",
    "        #print(i)\n",
    "        if( i%2 == 0 ):\n",
    "            even.append(i)\n",
    "        else:\n",
    "            odd.append(i)\n",
    "    \n",
    "    odd.sort(reverse = True)\n",
    "    even.sort()\n",
    "    \n",
    "    merged = tuple(odd + even)\n",
    "    \n",
    "    return merged\n",
    "    \n",
    "arr = {3,4,1,2,5}\n",
    "output = Sorting(arr)\n",
    "print(output)"
   ]
  },
  {
   "cell_type": "code",
   "execution_count": 29,
   "id": "5749b9fa-e8df-4731-a5b3-62462baa37c0",
   "metadata": {},
   "outputs": [
    {
     "name": "stdout",
     "output_type": "stream",
     "text": [
      "[5, 3, 1, 2, 4]\n"
     ]
    }
   ],
   "source": [
    "#Shorting array even numbers ascending order and odd number descending order.....\n",
    "def custom_sort(data):\n",
    "    odd = sorted(x for x in data if x % 2 != 0)[::-1]\n",
    "    even = sorted(x for x in data if x % 2 == 0)\n",
    "    return odd + even\n",
    "\n",
    "# Example usage\n",
    "data = [5, 2, 3, 4, 1]\n",
    "result = custom_sort(data)\n",
    "print(result)\n"
   ]
  },
  {
   "cell_type": "code",
   "execution_count": 6,
   "id": "530fd001-4b1e-4330-a1dc-518c80ac0fa2",
   "metadata": {},
   "outputs": [
    {
     "name": "stdout",
     "output_type": "stream",
     "text": [
      "['a', '2', 'b', '2', 'c', '3']\n"
     ]
    }
   ],
   "source": [
    "def  String_Compression(chars):\n",
    "    ans = 0\n",
    "    i = 0\n",
    "    while i < len(chars):\n",
    "        letter = chars[i]\n",
    "        count = 0\n",
    "      \n",
    "        while i < len(chars) and chars[i] == letter:\n",
    "            count += 1\n",
    "            i += 1\n",
    "        chars[ans] = letter\n",
    "        ans += 1\n",
    "        if count > 1:\n",
    "            for c in str(count):\n",
    "                chars[ans] = c\n",
    "                ans += 1\n",
    "    return chars[:ans]\n",
    "         \n",
    "\n",
    "chars = [\"a\",\"a\",\"b\",\"b\",\"c\",\"c\",\"c\"]\n",
    "output = String_Compression(chars)\n",
    "print(output)"
   ]
  },
  {
   "cell_type": "code",
   "execution_count": null,
   "id": "b125f551-6e0d-4941-ac40-2f529531a7a9",
   "metadata": {},
   "outputs": [],
   "source": [
    "def String_Compression(chars):\n",
    "    ans = 0\n",
    "    i = 0\n",
    "    while i < len(chars):\n",
    "        letter = chars[i]\n",
    "        count = 0\n",
    "        while i < len(chars) and chars[i] == letter:\n",
    "            count += 1\n",
    "            i += 1\n",
    "        chars[ans] = letter\n",
    "        ans += 1\n",
    "        if count > 1:\n",
    "            for c in str(count):\n",
    "                chars[ans] = c\n",
    "                ans += 1\n",
    "    return chars[:ans]  # Return the compressed string instead of its length\n",
    "\n",
    "chars = [\"a\", \"a\", \"b\", \"b\", \"c\", \"c\", \"c\"]\n",
    "output = String_Compression(chars)\n",
    "print(\"\".join(output))  # Print the compressed string\n"
   ]
  },
  {
   "cell_type": "code",
   "execution_count": null,
   "id": "85bc396a-7721-433d-9f0d-c8c28b541ba6",
   "metadata": {},
   "outputs": [],
   "source": [
    "# 21. Merge Two Sorted Lists\n",
    "def  Merge(list1 , list2):\n",
    "    \n",
    "list1 = [1,2,4]\n",
    "list2 = [1,3,4]\n",
    "Input = Merge(list1 , list2)\n",
    "print(Input)"
   ]
  },
  {
   "cell_type": "code",
   "execution_count": 1,
   "id": "c79d978e-95da-4b5f-9846-3e7cb13ae658",
   "metadata": {},
   "outputs": [
    {
     "name": "stdout",
     "output_type": "stream",
     "text": [
      "5\n"
     ]
    }
   ],
   "source": [
    "#26. Remove Duplicates from Sorted Array\n",
    "def Dup(nums):\n",
    "    l = 1 \n",
    "    r = 1\n",
    "    while r < len(nums):\n",
    "        if nums[r] != nums[r-1]:\n",
    "            nums[l] = nums[r]\n",
    "            l += 1\n",
    "        r += 1\n",
    "    return l\n",
    "nums = [0,0,1,1,1,2,2,3,3,4]\n",
    "Output = Dup(nums)\n",
    "print(Output)"
   ]
  },
  {
   "cell_type": "code",
   "execution_count": 2,
   "id": "dad3b275-68ba-4637-b56d-1310748a7122",
   "metadata": {},
   "outputs": [
    {
     "name": "stdout",
     "output_type": "stream",
     "text": [
      "5\n"
     ]
    }
   ],
   "source": [
    "#26. Remove Duplicates from Sorted Array\n",
    "def Dup(nums):\n",
    "    l = 1\n",
    "    for r in range(1, len(nums)):\n",
    "        if(nums[r] != nums[r-1]):\n",
    "            nums[l] = nums[r]\n",
    "            l+= 1\n",
    "    return l\n",
    "nums = [0,0,1,1,1,2,2,3,3,4]\n",
    "Output = Dup(nums)\n",
    "print(Output)"
   ]
  },
  {
   "cell_type": "code",
   "execution_count": 1,
   "id": "50db3b88-0dcd-420c-a0e4-4cae5e8bdf5b",
   "metadata": {},
   "outputs": [
    {
     "name": "stdout",
     "output_type": "stream",
     "text": [
      "Output= 2 num= [2, 2]\n"
     ]
    }
   ],
   "source": [
    "#27. Remove Element\n",
    "def Remove_Element(nums, val):\n",
    "    i = 0\n",
    "    \n",
    "    for num in nums:\n",
    "        if num != val:\n",
    "            nums[i] = num\n",
    "            i += 1\n",
    "    return i\n",
    "nums = [3,2,2,3]\n",
    "val = 3\n",
    "Output = Remove_Element(nums, val)\n",
    "print(\"Output=\" , Output , \"num=\" , nums[:Output] )"
   ]
  },
  {
   "cell_type": "code",
   "execution_count": null,
   "id": "a4b5d245-00df-42fd-8be9-72da1dac4933",
   "metadata": {},
   "outputs": [],
   "source": [
    "#509. fibonacci series.....\n",
    "def fibonacci_series(n):\n",
    "    if(n<0):\n",
    "        print(\"Incorrect\")\n",
    "    elif n == 0:\n",
    "        return 0\n",
    "    elif n == 1 or n == 2:\n",
    "        return 1\n",
    "    else:\n",
    "        return fibonacci_series(n-1) +  fibonacci_series(n-2)\n",
    "print(fibonacci_series(5))"
   ]
  },
  {
   "cell_type": "code",
   "execution_count": 1,
   "id": "fa177f3f-7eaf-4828-bd49-7a2ff5f44ee5",
   "metadata": {},
   "outputs": [
    {
     "name": "stdout",
     "output_type": "stream",
     "text": [
      "5\n"
     ]
    }
   ],
   "source": [
    "#509. fibonacci series.....\n",
    "def fibonacci_series(n):\n",
    "    if(n < 2):\n",
    "        return n\n",
    "    dp = [ 0 , 0 ,1]\n",
    "    for i in range(2, n+1):\n",
    "        dp[0] = dp[1]\n",
    "        dp[1] = dp[2]\n",
    "        dp[2] = dp[0] + dp[1]\n",
    "    return dp[2]\n",
    "print(fibonacci_series(5))"
   ]
  },
  {
   "cell_type": "code",
   "execution_count": 2,
   "id": "91e86f35-afad-458f-b5a0-839505b35a57",
   "metadata": {},
   "outputs": [
    {
     "name": "stdout",
     "output_type": "stream",
     "text": [
      "True\n",
      "False\n"
     ]
    }
   ],
   "source": [
    "#507. Perfect Number \n",
    "def is_perfect_number(num):\n",
    "    if num <= 1:\n",
    "        return False\n",
    "    \n",
    "    divisor_sum = 1  # Start with 1 as it's always a divisor\n",
    "    \n",
    "    for i in range(2, int(num**0.5) + 1):\n",
    "        if num % i == 0:\n",
    "            divisor_sum += i\n",
    "            if i != num // i:  # Avoid counting the same divisor twice for perfect squares\n",
    "                divisor_sum += num // i\n",
    "    \n",
    "    return divisor_sum == num\n",
    "\n",
    "# Example usage:\n",
    "print(is_perfect_number(28))  # Output: True\n",
    "print(is_perfect_number(7))   # Output: False\n"
   ]
  },
  {
   "cell_type": "code",
   "execution_count": null,
   "id": "0b241dd7-9647-4998-9f14-ec5441e96245",
   "metadata": {},
   "outputs": [],
   "source": []
  }
 ],
 "metadata": {
  "kernelspec": {
   "display_name": "Python 3 (ipykernel)",
   "language": "python",
   "name": "python3"
  },
  "language_info": {
   "codemirror_mode": {
    "name": "ipython",
    "version": 3
   },
   "file_extension": ".py",
   "mimetype": "text/x-python",
   "name": "python",
   "nbconvert_exporter": "python",
   "pygments_lexer": "ipython3",
   "version": "3.10.2"
  }
 },
 "nbformat": 4,
 "nbformat_minor": 5
}
