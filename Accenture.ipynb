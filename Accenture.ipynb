{
 "cells": [
  {
   "cell_type": "code",
   "execution_count": 2,
   "metadata": {},
   "outputs": [
    {
     "name": "stdout",
     "output_type": "stream",
     "text": [
      "300\n"
     ]
    }
   ],
   "source": [
    "#  #In a cricket match, the batting team is\n",
    "# scoring runs with some run rate. The\n",
    "# match is of 20 overs. Write a program to\n",
    "# find the total runs scored by the batting\n",
    "# Example:\n",
    "# Input:13\n",
    "# Output: Total runs scored in 20 overs\n",
    "# 260.00\n",
    "# Boor\n",
    "# mport\n",
    "# por\n",
    "# print(\n",
    "# Input:15\n",
    "# Output: Total runs scored in 20 overs\n",
    "#300\n",
    "\n",
    "def TotalScore(Input):\n",
    "    totalOver = 20\n",
    "    result = totalOver * Input\n",
    "    return result\n",
    "Input = 15\n",
    "print(TotalScore(Input))"
   ]
  }
 ],
 "metadata": {
  "kernelspec": {
   "display_name": "Python 3",
   "language": "python",
   "name": "python3"
  },
  "language_info": {
   "codemirror_mode": {
    "name": "ipython",
    "version": 3
   },
   "file_extension": ".py",
   "mimetype": "text/x-python",
   "name": "python",
   "nbconvert_exporter": "python",
   "pygments_lexer": "ipython3",
   "version": "3.10.2"
  }
 },
 "nbformat": 4,
 "nbformat_minor": 2
}
