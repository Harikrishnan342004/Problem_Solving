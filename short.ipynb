{
 "cells": [
  {
   "cell_type": "code",
   "execution_count": null,
   "metadata": {},
   "outputs": [
    {
     "name": "stdout",
     "output_type": "stream",
     "text": [
      "[1, 2, 3, 4, 5]\n"
     ]
    }
   ],
   "source": [
    "#Bubble short....\n",
    "def num_short(n):\n",
    "    n_list = list(n)\n",
    "    n = len(n_list)\n",
    "    for i in range(n):\n",
    "        for j in range(0 , n-i-1):\n",
    "            #print(j)\n",
    "            if( n_list[j] > n_list[j+1]):\n",
    "                n_list[j] , n_list[j+1] = n_list[j+1] ,  n_list[j]\n",
    "\n",
    "    return n_list\n",
    " \n",
    "n  = [ 5 , 4, 3, 2, 1 ]\n",
    "print(num_short(n))"
   ]
  },
  {
   "cell_type": "code",
   "execution_count": 19,
   "metadata": {},
   "outputs": [
    {
     "name": "stdout",
     "output_type": "stream",
     "text": [
      "i= 0\n",
      "0\n",
      "1\n",
      "2\n",
      "3\n",
      "i= 1\n",
      "0\n",
      "1\n",
      "2\n",
      "i= 2\n",
      "0\n",
      "1\n",
      "i= 3\n",
      "0\n",
      "i= 4\n",
      "[1, 2, 3, 4, 5]\n"
     ]
    }
   ],
   "source": [
    "def sorting(n):\n",
    "    length = len(n)\n",
    "    for i in range(length):\n",
    "        print(\"i=\",i)\n",
    "        for j in range(0 ,  length-i-1):\n",
    "            print(j)\n",
    "            if(n[j] > n[j+1]):\n",
    "                n[j] , n[j+1] = n[j+1] , n[j]\n",
    "    return n\n",
    "\n",
    "n = [5 , 4 , 3 , 2, 1]\n",
    "Output = sorting(n)\n",
    "print(Output)"
   ]
  },
  {
   "cell_type": "code",
   "execution_count": 20,
   "metadata": {},
   "outputs": [
    {
     "ename": "SyntaxError",
     "evalue": "invalid syntax (3705814293.py, line 28)",
     "output_type": "error",
     "traceback": [
      "\u001b[1;36m  Input \u001b[1;32mIn [20]\u001b[1;36m\u001b[0m\n\u001b[1;33m    n = [5 , 4,  , 1 , 0]\u001b[0m\n\u001b[1;37m                 ^\u001b[0m\n\u001b[1;31mSyntaxError\u001b[0m\u001b[1;31m:\u001b[0m invalid syntax\n"
     ]
    }
   ],
   "source": [
    "#quick short\n",
    "def quick_sort(arr):\n",
    "    if( len(arr) <= 1):\n",
    "        return arr\n",
    "    \n",
    "    pivot_index = len(arr) // 2\n",
    "    #print(pivot_index)\n",
    "    pivot = arr[pivot_index]\n",
    "    #print(pivot)\n",
    "    \n",
    "    left = []\n",
    "    middle = []\n",
    "    right = []\n",
    "\n",
    "    for x in arr:\n",
    "        if x < pivot:\n",
    "            left.append(x)\n",
    "        elif x == pivot:\n",
    "            middle.append(x)\n",
    "        else:\n",
    "            right.append(x)\n",
    "    \n",
    "    sorted_left = quick_sort(left)\n",
    "    sorted_right = quick_sort(right)\n",
    "\n",
    "    return sorted_left + middle + sorted_right\n",
    "\n",
    "n = [5 , 4,  , 1 , 0]\n",
    "print(quick_sort(n))"
   ]
  }
 ],
 "metadata": {
  "kernelspec": {
   "display_name": "Python 3",
   "language": "python",
   "name": "python3"
  },
  "language_info": {
   "codemirror_mode": {
    "name": "ipython",
    "version": 3
   },
   "file_extension": ".py",
   "mimetype": "text/x-python",
   "name": "python",
   "nbconvert_exporter": "python",
   "pygments_lexer": "ipython3",
   "version": "3.10.2"
  }
 },
 "nbformat": 4,
 "nbformat_minor": 2
}
