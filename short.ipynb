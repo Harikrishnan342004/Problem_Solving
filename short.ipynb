{
 "cells": [
  {
   "cell_type": "code",
   "execution_count": 6,
   "metadata": {},
   "outputs": [
    {
     "name": "stdout",
     "output_type": "stream",
     "text": [
      "[1, 2, 3, 4, 5]\n"
     ]
    }
   ],
   "source": [
    "#Bubble short....\n",
    "def num_short(n):\n",
    "    n_list = list(n)\n",
    "    n = len(n_list)\n",
    "    for i in range(n):\n",
    "        for j in range(0 , n-i-1):\n",
    "            #print(j)\n",
    "            if( n_list[j] > n_list[j+1]):\n",
    "                n_list[j] , n_list[j+1] = n_list[j+1] ,  n_list[j]\n",
    "\n",
    "    return n_list\n",
    " \n",
    "n  = [ 5 , 4, 3, 2, 1 ]\n",
    "print(num_short(n))"
   ]
  },
  {
   "cell_type": "code",
   "execution_count": 25,
   "metadata": {},
   "outputs": [
    {
     "name": "stdout",
     "output_type": "stream",
     "text": [
      "[0, 1, 2, 3, 4, 5]\n"
     ]
    }
   ],
   "source": [
    "#quick short\n",
    "def quick_sort(arr):\n",
    "    if( len(arr) <= 1):\n",
    "        return arr\n",
    "    \n",
    "    pivot_index = len(arr) // 2\n",
    "    #print(pivot_index)\n",
    "    pivot = arr[pivot_index]\n",
    "    #print(pivot)\n",
    "    \n",
    "    left = []\n",
    "    middle = []\n",
    "    right = []\n",
    "\n",
    "    for x in arr:\n",
    "        if x < pivot:\n",
    "            left.append(x)\n",
    "        elif x == pivot:\n",
    "            middle.append(x)\n",
    "        else:\n",
    "            right.append(x)\n",
    "    \n",
    "    sorted_left = quick_sort(left)\n",
    "    sorted_right = quick_sort(right)\n",
    "\n",
    "    return sorted_left + middle + sorted_right\n",
    "\n",
    "n = [5 , 4, 3 , 2 , 1 , 0]\n",
    "print(quick_sort(n))"
   ]
  }
 ],
 "metadata": {
  "kernelspec": {
   "display_name": "Python 3",
   "language": "python",
   "name": "python3"
  },
  "language_info": {
   "codemirror_mode": {
    "name": "ipython",
    "version": 3
   },
   "file_extension": ".py",
   "mimetype": "text/x-python",
   "name": "python",
   "nbconvert_exporter": "python",
   "pygments_lexer": "ipython3",
   "version": "3.10.2"
  }
 },
 "nbformat": 4,
 "nbformat_minor": 2
}
