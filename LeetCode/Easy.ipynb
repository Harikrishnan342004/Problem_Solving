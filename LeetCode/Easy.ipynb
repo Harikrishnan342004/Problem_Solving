{
 "cells": [
  {
   "cell_type": "code",
   "execution_count": 1,
   "metadata": {},
   "outputs": [
    {
     "name": "stdout",
     "output_type": "stream",
     "text": [
      "7\n"
     ]
    }
   ],
   "source": [
    "\n",
    "#160. Intersection of Two Linked Lists\n",
    "\n",
    "class ListNode:\n",
    "    def __init__(self, x):\n",
    "        self.val = x\n",
    "        self.next = None\n",
    "\n",
    "# Create intersection node\n",
    "intersection = ListNode(7)\n",
    "intersection.next = ListNode(9)\n",
    "\n",
    "# Create list A\n",
    "headA = ListNode(1)\n",
    "headA.next = ListNode(3)\n",
    "headA.next.next = ListNode(5)\n",
    "headA.next.next.next = intersection\n",
    "\n",
    "# Create list B\n",
    "headB = ListNode(2)\n",
    "headB.next = ListNode(4)\n",
    "headB.next.next = intersection\n",
    "\n",
    "# Function to find intersection\n",
    "def getIntersectionNode(headA: ListNode, headB: ListNode) -> ListNode:\n",
    "    a, b = headA, headB\n",
    "    \n",
    "    while a != b:\n",
    "        a = a.next if a else headB\n",
    "        b = b.next if b else headA\n",
    "        \n",
    "    return a\n",
    "\n",
    "# Test the function\n",
    "result = getIntersectionNode(headA, headB)\n",
    "print(result.val if result else \"No intersection\")\n"
   ]
  },
  {
   "cell_type": "code",
   "execution_count": 1,
   "metadata": {},
   "outputs": [
    {
     "name": "stdout",
     "output_type": "stream",
     "text": [
      "1\n",
      "3\n"
     ]
    }
   ],
   "source": [
    "x = 0\n",
    "while(x < 3):\n",
    "    x += 1\n",
    "    if(x % 2 ==0):\n",
    "        continue\n",
    "    print(x)"
   ]
  },
  {
   "cell_type": "code",
   "execution_count": 2,
   "metadata": {},
   "outputs": [
    {
     "name": "stdout",
     "output_type": "stream",
     "text": [
      "6\n"
     ]
    }
   ],
   "source": [
    "def mySqrt(x):\n",
    "    if(x < 2):\n",
    "        return x\n",
    "    left , right = 2, x//2\n",
    "    while left <= right:\n",
    "        \n",
    "        mid = (left + right ) // 2\n",
    "        mid_squared = mid * mid\n",
    "\n",
    "        if(mid_squared == x):\n",
    "            return mid\n",
    "        elif mid_squared < x:\n",
    "            left = mid + 1\n",
    "        else:\n",
    "            right = mid -1\n",
    "\n",
    "    return right\n",
    "x = 36\n",
    "\n",
    "Input = mySqrt(x)\n",
    "print(mySqrt(x))"
   ]
  },
  {
   "cell_type": "code",
   "execution_count": 3,
   "metadata": {},
   "outputs": [
    {
     "name": "stdout",
     "output_type": "stream",
     "text": [
      "321\n"
     ]
    }
   ],
   "source": [
    "#7. Reverse Integer\n",
    "def Reverse_Integer(x):\n",
    "    if( x < 0):\n",
    "        sign = -1\n",
    "    else:\n",
    "        sign = 1\n",
    "    x = abs(x)\n",
    "\n",
    "    reversed_x = 0\n",
    "\n",
    "    while x > 0:\n",
    "        reversed_x = reversed_x * 10 + x % 10\n",
    "        x //= 10\n",
    "\n",
    "    reversed_x = reversed_x  * sign\n",
    "    return reversed_x\n",
    "x = 123\n",
    "O = Reverse_Integer(x)\n",
    "print(O)\n",
    "\n",
    "# Output: 321"
   ]
  }
 ],
 "metadata": {
  "kernelspec": {
   "display_name": "Python 3",
   "language": "python",
   "name": "python3"
  },
  "language_info": {
   "codemirror_mode": {
    "name": "ipython",
    "version": 3
   },
   "file_extension": ".py",
   "mimetype": "text/x-python",
   "name": "python",
   "nbconvert_exporter": "python",
   "pygments_lexer": "ipython3",
   "version": "3.10.2"
  }
 },
 "nbformat": 4,
 "nbformat_minor": 2
}
