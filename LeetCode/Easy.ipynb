{
 "cells": [
  {
   "cell_type": "code",
   "execution_count": 57,
   "metadata": {},
   "outputs": [
    {
     "name": "stdout",
     "output_type": "stream",
     "text": [
      "7\n"
     ]
    }
   ],
   "source": [
    "#160. Intersection of Two Linked Lists\n",
    "\n",
    "class ListNode:\n",
    "    def __init__(self, x):\n",
    "        self.val = x\n",
    "        self.next = None\n",
    "\n",
    "# Create intersection node\n",
    "intersection = ListNode(7)\n",
    "intersection.next = ListNode(9)\n",
    "\n",
    "# Create list A\n",
    "headA = ListNode(1)\n",
    "headA.next = ListNode(3)\n",
    "headA.next.next = ListNode(5)\n",
    "headA.next.next.next = intersection\n",
    "\n",
    "# Create list B\n",
    "headB = ListNode(2)\n",
    "headB.next = ListNode(4)\n",
    "headB.next.next = intersection\n",
    "\n",
    "# Function to find intersection\n",
    "def getIntersectionNode(headA: ListNode, headB: ListNode) -> ListNode:\n",
    "    a, b = headA, headB\n",
    "    \n",
    "    while a != b:\n",
    "        a = a.next if a else headB\n",
    "        b = b.next if b else headA\n",
    "        \n",
    "    return a\n",
    "\n",
    "# Test the function\n",
    "result = getIntersectionNode(headA, headB)\n",
    "print(result.val if result else \"No intersection\")\n"
   ]
  },
  {
   "cell_type": "code",
   "execution_count": 58,
   "metadata": {},
   "outputs": [
    {
     "name": "stdout",
     "output_type": "stream",
     "text": [
      "1\n",
      "3\n"
     ]
    }
   ],
   "source": [
    "x = 0\n",
    "while(x < 3):\n",
    "    x += 1\n",
    "    if(x % 2 ==0):\n",
    "        continue\n",
    "    print(x)"
   ]
  },
  {
   "cell_type": "code",
   "execution_count": 59,
   "metadata": {},
   "outputs": [
    {
     "name": "stdout",
     "output_type": "stream",
     "text": [
      "6\n"
     ]
    }
   ],
   "source": [
    "def mySqrt(x):\n",
    "    if(x < 2):\n",
    "        return x\n",
    "    left , right = 2, x//2\n",
    "    while left <= right:\n",
    "        \n",
    "        mid = (left + right ) // 2\n",
    "        mid_squared = mid * mid\n",
    "\n",
    "        if(mid_squared == x):\n",
    "            return mid\n",
    "        elif mid_squared < x:\n",
    "            left = mid + 1\n",
    "        else:\n",
    "            right = mid -1\n",
    "\n",
    "    return right\n",
    "x = 36\n",
    "\n",
    "Input = mySqrt(x)\n",
    "print(mySqrt(x))"
   ]
  },
  {
   "cell_type": "code",
   "execution_count": 60,
   "metadata": {},
   "outputs": [
    {
     "name": "stdout",
     "output_type": "stream",
     "text": [
      "321\n"
     ]
    }
   ],
   "source": [
    "#7. Reverse Integer\n",
    "def Reverse_Integer(x):\n",
    "    if( x < 0):\n",
    "        sign = -1\n",
    "    else:\n",
    "        sign = 1\n",
    "    x = abs(x)\n",
    "\n",
    "    reversed_x = 0\n",
    "\n",
    "    while x > 0:\n",
    "        reversed_x = reversed_x * 10 + x % 10\n",
    "        x //= 10\n",
    "\n",
    "    reversed_x = reversed_x  * sign\n",
    "    return reversed_x\n",
    "x = 123\n",
    "O = Reverse_Integer(x)\n",
    "print(O)\n",
    "\n",
    "# Output: 321"
   ]
  },
  {
   "cell_type": "code",
   "execution_count": 61,
   "metadata": {},
   "outputs": [
    {
     "name": "stdout",
     "output_type": "stream",
     "text": [
      "-1\n"
     ]
    }
   ],
   "source": [
    "#28. Find the Index of the First Occurrence in a String\n",
    "def strStr(haystack, needle):\n",
    "    m = len(haystack)\n",
    "    n = len(needle)\n",
    "    # print(m)\n",
    "    # print(n)\n",
    "\n",
    "    for i in range(m - n +1):\n",
    "        if( haystack[i : i+n] == needle):\n",
    "            return i\n",
    "    return -1\n",
    "haystack = \"butsad\"\n",
    "needle = \"sd\"\n",
    "print(strStr(haystack, needle))"
   ]
  },
  {
   "cell_type": "code",
   "execution_count": 62,
   "metadata": {},
   "outputs": [
    {
     "name": "stdout",
     "output_type": "stream",
     "text": [
      "[1, 0]\n"
     ]
    }
   ],
   "source": [
    "#66. Plus One\n",
    "def  plus_One(digits):\n",
    "    length = len(digits)\n",
    "    # print(length)\n",
    "    for i in range(length-1 , -1 , -1 ):\n",
    "        #print(i)\n",
    "        # print(digits[i])\n",
    "        if(digits[i] <  9):\n",
    "            digits[i] += 1\n",
    "            # print( digits[i])\n",
    "            return digits\n",
    "        else:\n",
    "            digits[i] = 0\n",
    "    return [1] + digits\n",
    "   \n",
    "\n",
    "digits = [9]\n",
    "x = plus_One(digits)\n",
    "print(x)"
   ]
  },
  {
   "cell_type": "code",
   "execution_count": 63,
   "metadata": {},
   "outputs": [
    {
     "name": "stdout",
     "output_type": "stream",
     "text": [
      "5\n"
     ]
    }
   ],
   "source": [
    "#70. Climbing Stairs\n",
    "def Climb_Stairs(n):\n",
    "    if(n == 1):\n",
    "        return 1\n",
    "    if(n == 2):\n",
    "        return 2\n",
    "    prev1 = 2 #3\n",
    "    prev2 = 1 #2\n",
    "\n",
    "    for num in range(3 , n+1):\n",
    "        current = prev1 + prev2 #5\n",
    "        prev2 = prev1  #3\n",
    "        prev1 = current #5\n",
    "\n",
    "    return prev1\n",
    "n = 4\n",
    "print(Climb_Stairs(n))\n"
   ]
  },
  {
   "cell_type": "code",
   "execution_count": 64,
   "metadata": {},
   "outputs": [],
   "source": [
    "#83. Remove Duplicates from Sorted List\n",
    "# def delete_Duplicates_from_shorted_list(head):\n",
    "#     cur = head\n",
    "\n",
    "#     while cur:\n",
    "#         while\n",
    "# head = [1,1,2]\n",
    "# print(delete_Duplicates_from_shorted_list(head))"
   ]
  },
  {
   "cell_type": "code",
   "execution_count": 65,
   "metadata": {},
   "outputs": [
    {
     "name": "stdout",
     "output_type": "stream",
     "text": [
      "1\n",
      "1\n",
      "2\n",
      "1\n",
      "2\n",
      "3\n"
     ]
    }
   ],
   "source": [
    "#118. Pascall Traingle\n",
    "def generate(numRows):\n",
    "    ans = []\n",
    "    for i in range(numRows):\n",
    "        #print(i)\n",
    "        ans.append([1] * (i + 1))\n",
    "        #print(ans)\n",
    "    for i in range(2 , numRows):\n",
    "        #print(i)\n",
    "        for j in range(1 , len(ans[i])-1):\n",
    "            print(j)\n",
    "\n",
    "\n",
    "\n",
    "numRows = 5\n",
    "x = generate(numRows)\n"
   ]
  },
  {
   "cell_type": "code",
   "execution_count": 66,
   "metadata": {},
   "outputs": [
    {
     "name": "stdout",
     "output_type": "stream",
     "text": [
      "[0, 1, 0]\n",
      "[0, 1, 1, 0]\n",
      "[0, 1, 2, 1, 0]\n",
      "[0, 1, 3, 3, 1, 0]\n",
      "[[1], [1, 1], [1, 2, 1], [1, 3, 3, 1], [1, 4, 6, 4, 1]]\n"
     ]
    }
   ],
   "source": [
    "#118. Pascall Traingle\n",
    "def generate(numRows):\n",
    "    result = [[1]]\n",
    "    for i in range(numRows-1):\n",
    "        #print(i)\n",
    "        temp = [0] + result[-1] + [0]\n",
    "        print(temp)\n",
    "        v = len(temp)\n",
    "        #print(v)\n",
    "        tem_re = []\n",
    "        for i in range(len(temp) -1):\n",
    "            tem_re.append(temp[i] + temp[i + 1])\n",
    "            #print(tem_re)\n",
    "        result.append(tem_re)\n",
    "    return result\n",
    "numRows = 5\n",
    "x = generate(numRows) \n",
    "print(x)"
   ]
  },
  {
   "cell_type": "code",
   "execution_count": 67,
   "metadata": {},
   "outputs": [
    {
     "name": "stdout",
     "output_type": "stream",
     "text": [
      "4\n"
     ]
    }
   ],
   "source": [
    "#136. Single Number\n",
    "def Single_Number(nums):\n",
    "    result = 0\n",
    "    for i in nums:\n",
    "        #print(i)\n",
    "        result ^= i\n",
    "    return result\n",
    "nums = [2,2,1 , 1,  4]\n",
    "x = Single_Number(nums)\n",
    "print(x)\n"
   ]
  },
  {
   "cell_type": "code",
   "execution_count": 68,
   "metadata": {},
   "outputs": [
    {
     "name": "stdout",
     "output_type": "stream",
     "text": [
      "2\n"
     ]
    }
   ],
   "source": [
    "#136. Single Number\n",
    "def Single_Number(nums):\n",
    "    seen = set()\n",
    "    for i in nums:\n",
    "        if i in seen:\n",
    "            seen.remove(i)\n",
    "        else:\n",
    "            seen.add(i)\n",
    "    return seen.pop()\n",
    "nums = [2,2,3,2]\n",
    "x = Single_Number(nums)\n",
    "print(x)\n"
   ]
  },
  {
   "cell_type": "code",
   "execution_count": 69,
   "metadata": {},
   "outputs": [
    {
     "ename": "NameError",
     "evalue": "name 'Optional' is not defined",
     "output_type": "error",
     "traceback": [
      "\u001b[1;31m---------------------------------------------------------------------------\u001b[0m",
      "\u001b[1;31mNameError\u001b[0m                                 Traceback (most recent call last)",
      "Input \u001b[1;32mIn [69]\u001b[0m, in \u001b[0;36m<cell line: 2>\u001b[1;34m()\u001b[0m\n\u001b[0;32m      1\u001b[0m \u001b[38;5;66;03m#206 . Reverse Linked List\u001b[39;00m\n\u001b[1;32m----> 2\u001b[0m \u001b[38;5;28;01mdef\u001b[39;00m \u001b[38;5;21mreverseList\u001b[39m(\u001b[38;5;28mself\u001b[39m, head: \u001b[43mOptional\u001b[49m[ListNode]) \u001b[38;5;241m-\u001b[39m\u001b[38;5;241m>\u001b[39m Optional[ListNode]:\n\u001b[0;32m      3\u001b[0m        prev \u001b[38;5;241m=\u001b[39m \u001b[38;5;28;01mNone\u001b[39;00m\n\u001b[0;32m      4\u001b[0m        curr \u001b[38;5;241m=\u001b[39m head\n",
      "\u001b[1;31mNameError\u001b[0m: name 'Optional' is not defined"
     ]
    }
   ],
   "source": [
    " #206 . Reverse Linked List\n",
    " def reverseList(self, head: Optional[ListNode]) -> Optional[ListNode]:\n",
    "        prev = None\n",
    "        curr = head\n",
    "        while curr != None:\n",
    "            temp = curr.next\n",
    "            curr.next = prev\n",
    "            prev = curr\n",
    "            curr = temp\n",
    "        return prev\n",
    "\n",
    "        "
   ]
  },
  {
   "cell_type": "code",
   "execution_count": null,
   "metadata": {},
   "outputs": [
    {
     "name": "stdout",
     "output_type": "stream",
     "text": [
      "2\n"
     ]
    }
   ],
   "source": [
    "def Single_Number(nums):\n",
    "    seen = set()\n",
    "    for i in nums:\n",
    "        if i in seen:\n",
    "            seen.remove(i)\n",
    "        else:\n",
    "            seen.add(i)\n",
    "    return seen.pop()\n",
    "\n",
    "# Example usage\n",
    "nums = [2, 2, 3, 2]\n",
    "x = Single_Number(nums)\n",
    "print(x)\n"
   ]
  },
  {
   "cell_type": "code",
   "execution_count": null,
   "metadata": {},
   "outputs": [
    {
     "name": "stdout",
     "output_type": "stream",
     "text": [
      "f\n"
     ]
    }
   ],
   "source": [
    "#389. Find the Difference\n",
    "def findTheDifference(s, t):\n",
    "    char_count = {}\n",
    "    for char in s:\n",
    "        if char in char_count:\n",
    "            char_count[char] += 1\n",
    "        else:\n",
    "            char_count[char] = 1\n",
    "\n",
    "    for char in t:\n",
    "        if char not in char_count or char_count[char] == 0:\n",
    "            return char \n",
    "        else:\n",
    "            char_count[char] -= 1\n",
    "    return '' \n",
    "s = \"abcd\" \n",
    "t = \"abcdfe\"\n",
    "Input = findTheDifference(s, t)\n",
    "print(Input)"
   ]
  },
  {
   "cell_type": "code",
   "execution_count": null,
   "metadata": {},
   "outputs": [
    {
     "name": "stdout",
     "output_type": "stream",
     "text": [
      "False\n"
     ]
    }
   ],
   "source": [
    "# 292. Nim Game\n",
    "# Solved\n",
    "# Easy\n",
    "# Topics\n",
    "# Companies\n",
    "# Hint\n",
    "# You are playing the following Nim Game with your friend:\n",
    "\n",
    "# Initially, there is a heap of stones on the table.\n",
    "# You and your friend will alternate taking turns, and you go first.\n",
    "# On each turn, the person whose turn it is will remove 1 to 3 stones from the heap.\n",
    "# The one who removes the last stone is the winner.\n",
    "# Given n, the number of stones in the heap, return true if you can win the game assuming both you and your friend play optimally, otherwise return false.\n",
    "\n",
    " \n",
    "\n",
    "# Example 1:\n",
    "\n",
    "# Input: n = 4\n",
    "# Output: false\n",
    "# Explanation: These are the possible outcomes:\n",
    "# 1. You remove 1 stone. Your friend removes 3 stones, including the last stone. Your friend wins.\n",
    "# 2. You remove 2 stones. Your friend removes 2 stones, including the last stone. Your friend wins.\n",
    "# 3. You remove 3 stones. Your friend removes the last stone. Your friend wins.\n",
    "# In all outcomes, your friend wins.\n",
    "# Example 2:\n",
    "\n",
    "# Input: n = 1\n",
    "# Output: true\n",
    "# Example 3:\n",
    "\n",
    "# Input: n = 2\n",
    "# Output: true\n",
    "\n",
    "def canWinNim(n):\n",
    "    return n % 4 != 0\n",
    "\n",
    "n = 4\n",
    "IN = canWinNim(n)\n",
    "print(IN)\n",
    "\n",
    " "
   ]
  },
  {
   "cell_type": "code",
   "execution_count": null,
   "metadata": {},
   "outputs": [
    {
     "name": "stdout",
     "output_type": "stream",
     "text": [
      "['o', 'l', 'l', 'e', 'h']\n"
     ]
    }
   ],
   "source": [
    "#344. Reverse String\n",
    "def reverseString(s):\n",
    "    I = 0\n",
    "    r = len(s)-1\n",
    "    while I < r:\n",
    "        s[I], s[r] = s[r], s[I]\n",
    "        I += 1\n",
    "        r -= 1\n",
    "    return s\n",
    "s = [\"h\",\"e\",\"l\",\"l\",\"o\"]\n",
    "print(reverseString(s))"
   ]
  },
  {
   "cell_type": "code",
   "execution_count": null,
   "metadata": {},
   "outputs": [
    {
     "name": "stdout",
     "output_type": "stream",
     "text": [
      "2\n"
     ]
    }
   ],
   "source": [
    "def  missingNumber(Input):\n",
    "    n = len(Input)\n",
    "    e_sum = n * (n + 1) // 2\n",
    "\n",
    "    actual_sum = sum(Input)\n",
    "\n",
    "    return e_sum - actual_sum\n",
    "\n",
    "Input = [1 , 0 ]\n",
    "output = missingNumber(Input)\n",
    "print(output)"
   ]
  },
  {
   "cell_type": "code",
   "execution_count": null,
   "metadata": {},
   "outputs": [
    {
     "name": "stdout",
     "output_type": "stream",
     "text": [
      "['1', '2', 'Fizz', '4', 'Buzz', 'Fizz', '7', '8', 'Fizz', 'Buzz', '11', 'Fizz']\n"
     ]
    }
   ],
   "source": [
    "#412. Fizz Buzz\n",
    "def fizzBuzz(n):\n",
    "    result = []\n",
    "    for i in range(1 , n+1):\n",
    "        if( i % 3 == 0  and  i % 5 == 0   ):\n",
    "            result.append(\"FizzBuzz\")\n",
    "        elif( i % 3 == 0 ):\n",
    "            result.append(\"Fizz\")\n",
    "        elif( i % 5 == 0 ):\n",
    "            result.append(\"Buzz\")\n",
    "        else:\n",
    "            result.append(str(i))\n",
    "    return result\n",
    "\n",
    "n = 12\n",
    "print(fizzBuzz(n))"
   ]
  },
  {
   "cell_type": "code",
   "execution_count": null,
   "metadata": {},
   "outputs": [],
   "source": [
    "#415. Add Strings \n",
    "def Add_Strung(num1, num2):\n",
    "    ans = []\n",
    "    carry = 0\n",
    "    i = len(num1) - 1\n",
    "    j = len(num2) - 1\n",
    "    \n",
    "    while i >= 0 or j >= 0 or carry:\n",
    "        if( i>= 0):\n",
    "            n1 = int(num1[i])\n",
    "        else:\n",
    "            n1 = 0\n",
    "        \n",
    "        if(j >= 0):\n",
    "            n2 = int(num2[j])\n",
    "        else:\n",
    "            n2 = 0\n",
    "        \n",
    "        \n",
    "\n",
    "num1 = \"11\"\n",
    "num2 = \"123\"\n",
    "print(Add_Strung(num1, num2))"
   ]
  },
  {
   "cell_type": "code",
   "execution_count": null,
   "metadata": {},
   "outputs": [
    {
     "name": "stdout",
     "output_type": "stream",
     "text": [
      "[1, 2, 2, 5, 6, 6]\n",
      "1\n",
      "2\n",
      "6\n",
      "None\n"
     ]
    }
   ],
   "source": [
    "#561. Array Partition\n",
    "def arrayPairSum(nums):\n",
    "    # Sort the array \n",
    "    nums.sort()\n",
    "    print(nums)\n",
    "    sums = 0\n",
    "\n",
    "    for i in range(0, len(nums) , 2):\n",
    "        print(nums[i])\n",
    "        sums += nums[i]\n",
    "\n",
    "    # return sums\n",
    "\n",
    "nums = [1 , 4 , 3 , 2]\n",
    "nums2 = [6,2,6,5,1,2]\n",
    "print(arrayPairSum(nums2))"
   ]
  },
  {
   "cell_type": "code",
   "execution_count": 98,
   "metadata": {},
   "outputs": [
    {
     "name": "stdout",
     "output_type": "stream",
     "text": [
      "-100\n"
     ]
    }
   ],
   "source": [
    "#628. Maximum Product of Three Numbers\n",
    "def maximumProduct(nums):\n",
    "    result = 1\n",
    "    nums.sort()\n",
    "    #print(nums)\n",
    "    nums_slice = nums[-3:]\n",
    "    #print(nums_slice)\n",
    "    for num in nums_slice:\n",
    "        result *= num\n",
    "    return result\n",
    "nums = [-10 , -10 , 5 , 2 ]\n",
    "x = maximumProduct(nums)\n",
    "print(x)"
   ]
  },
  {
   "cell_type": "code",
   "execution_count": 99,
   "metadata": {},
   "outputs": [
    {
     "name": "stdout",
     "output_type": "stream",
     "text": [
      "[1, 2, 3, 4, 8]\n",
      "96\n",
      "16\n",
      "96\n"
     ]
    }
   ],
   "source": [
    "def maximumProduct(nums):\n",
    "    nums.sort()\n",
    "    print(nums)\n",
    "    print( nums[-1] * nums[-2] * nums[-3] )\n",
    "    print( nums[0]*nums[1]*nums[-1])\n",
    "    return max( nums[-1] * nums[-2] * nums[-3], nums[0]*nums[1]*nums[-1])\n",
    "nums = [1, 8, 3, 4, 2]\n",
    "x = maximumProduct(nums)\n",
    "print(x)"
   ]
  }
 ],
 "metadata": {
  "kernelspec": {
   "display_name": "Python 3",
   "language": "python",
   "name": "python3"
  },
  "language_info": {
   "codemirror_mode": {
    "name": "ipython",
    "version": 3
   },
   "file_extension": ".py",
   "mimetype": "text/x-python",
   "name": "python",
   "nbconvert_exporter": "python",
   "pygments_lexer": "ipython3",
   "version": "3.10.2"
  }
 },
 "nbformat": 4,
 "nbformat_minor": 2
}
