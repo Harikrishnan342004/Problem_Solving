{
 "cells": [
  {
   "cell_type": "code",
   "execution_count": null,
   "metadata": {},
   "outputs": [
    {
     "name": "stdout",
     "output_type": "stream",
     "text": [
      "0\n"
     ]
    }
   ],
   "source": [
    "#2. Add Two Numbers \n",
    "def addTwoNumbers(l1 , l2):\n",
    "    return 0\n",
    "\n",
    "l1 = [2 , 4  , 3]\n",
    "l2 = [5 , 6 , 4]\n",
    "x = addTwoNumbers(l1 , l2)\n",
    "print(x)\n"
   ]
  },
  {
   "cell_type": "code",
   "execution_count": 8,
   "metadata": {},
   "outputs": [
    {
     "name": "stdout",
     "output_type": "stream",
     "text": [
      "425\n",
      "None\n"
     ]
    }
   ],
   "source": [
    "#8. String to Integer (atoi)\n",
    "\n",
    "def myAtoi(s):\n",
    "    s = s.strip()\n",
    "    if not s:\n",
    "        return 0\n",
    "    \n",
    "    sign = 1\n",
    "    if s[0] = \"-\":\n",
    "        sign = -1\n",
    "    elif s[0] = \"+\":\n",
    "        sign = 1\n",
    "    else:\n",
    "        sign =1\n",
    "    \n",
    "    if s[0] in {\"-\" , \"+\"}:\n",
    "        s = s[1:]\n",
    "    \n",
    "\n",
    "s = \"425\"\n",
    "x = myAtoi(s)\n",
    "print(x)"
   ]
  },
  {
   "cell_type": "code",
   "execution_count": null,
   "metadata": {},
   "outputs": [
    {
     "ename": "SyntaxError",
     "evalue": "invalid syntax (1430132912.py, line 7)",
     "output_type": "error",
     "traceback": [
      "\u001b[1;36m  Input \u001b[1;32mIn [72]\u001b[1;36m\u001b[0m\n\u001b[1;33m    while\u001b[0m\n\u001b[1;37m         ^\u001b[0m\n\u001b[1;31mSyntaxError\u001b[0m\u001b[1;31m:\u001b[0m invalid syntax\n"
     ]
    }
   ],
   "source": [
    "def longest_Palindrome(s):\n",
    "    if(len(s) <2 or s == s[::-1]):\n",
    "        return s\n",
    "    start , max_length = 0 , 1\n",
    "\n",
    "    def expand(left , right):\n",
    "        while left >= 0 and right < len(s) and s[left] == s[right]:\n",
    "            left -= 1\n",
    "            right += 1\n",
    "        return left + 1, right - left - 1\n",
    "        \n",
    "    for i in range(len(s)):\n",
    "\n",
    "s = \"cm\"\n",
    "Output = longest_Palindrome(s)\n",
    "print(Output)\n"
   ]
  },
  {
   "cell_type": "code",
   "execution_count": 1,
   "metadata": {},
   "outputs": [
    {
     "name": "stdout",
     "output_type": "stream",
     "text": [
      "['d', 'e', 'f']\n"
     ]
    }
   ],
   "source": [
    "def letterCombinations(digits):\n",
    "    if not digits:\n",
    "        return []\n",
    "    digitToLetters =  ['', '', 'abc', 'def', 'ghi',\n",
    "                      'jkl', 'mno', 'pqrs', 'tuv', 'wxyz']\n",
    "    ans = []\n",
    "\n",
    "    def dfs(index , path):\n",
    "        if index == len(digits):\n",
    "            ans.append(path)\n",
    "            return\n",
    "        possible_letters = digitToLetters[int(digits[index])]\n",
    "        for letter in possible_letters:\n",
    "           # print(letter)\n",
    "            dfs(index + 1 , path + letter)\n",
    "    dfs(0 , \"\")\n",
    "\n",
    "    return ans\n",
    "\n",
    "digits = \"3\"\n",
    "x = letterCombinations(digits)\n",
    "print(x)\n",
    "\n",
    "# Output: [\"ad\",\"ae\",\"af\",\"bd\",\"be\",\"bf\",\"cd\",\"ce\",\"cf\"]"
   ]
  },
  {
   "cell_type": "code",
   "execution_count": null,
   "metadata": {},
   "outputs": [],
   "source": []
  }
 ],
 "metadata": {
  "kernelspec": {
   "display_name": "Python 3",
   "language": "python",
   "name": "python3"
  },
  "language_info": {
   "codemirror_mode": {
    "name": "ipython",
    "version": 3
   },
   "file_extension": ".py",
   "mimetype": "text/x-python",
   "name": "python",
   "nbconvert_exporter": "python",
   "pygments_lexer": "ipython3",
   "version": "3.10.2"
  }
 },
 "nbformat": 4,
 "nbformat_minor": 2
}
