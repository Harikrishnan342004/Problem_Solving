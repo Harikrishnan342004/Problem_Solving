{
 "cells": [
  {
   "cell_type": "code",
   "execution_count": 6,
   "metadata": {},
   "outputs": [
    {
     "name": "stdout",
     "output_type": "stream",
     "text": [
      "0\n"
     ]
    }
   ],
   "source": [
    "#2. Add Two Numbers \n",
    "\n",
    "def addTwoNumbers(l1 , l2):\n",
    "    return 0\n",
    "\n",
    "l1 = [2 , 4  , 3]\n",
    "l2 = [5 , 6 , 4]\n",
    "x = addTwoNumbers(l1 , l2)\n",
    "print(x)\n"
   ]
  },
  {
   "cell_type": "code",
   "execution_count": 8,
   "metadata": {},
   "outputs": [
    {
     "name": "stdout",
     "output_type": "stream",
     "text": [
      "425\n",
      "None\n"
     ]
    }
   ],
   "source": [
    "#8. String to Integer (atoi)\n",
    "\n",
    "def myAtoi(s):\n",
    "    s = s.strip()\n",
    "    if not s:\n",
    "        return 0\n",
    "    \n",
    "    sign = 1\n",
    "    if s[0] = \"-\":\n",
    "        sign = -1\n",
    "    elif s[0] = \"+\":\n",
    "        sign = 1\n",
    "    else:\n",
    "        sign =1\n",
    "    \n",
    "    if s[0] in {\"-\" , \"+\"}:\n",
    "        s = s[1:]\n",
    "    \n",
    "\n",
    "s = \"425\"\n",
    "x = myAtoi(s)\n",
    "print(x)"
   ]
  },
  {
   "cell_type": "code",
   "execution_count": 17,
   "metadata": {},
   "outputs": [
    {
     "name": "stdout",
     "output_type": "stream",
     "text": [
      "['ad', 'ae', 'af', 'bd', 'be', 'bf', 'cd', 'ce', 'cf']\n"
     ]
    }
   ],
   "source": [
    "def letterCombinations(digits):\n",
    "    if not digits:\n",
    "        return []\n",
    "    digitToLetters =  ['', '', 'abc', 'def', 'ghi',\n",
    "                      'jkl', 'mno', 'pqrs', 'tuv', 'wxyz']\n",
    "    ans = []\n",
    "\n",
    "    def dfs(index , path):\n",
    "        if index == len(digits):\n",
    "            ans.append(path)\n",
    "            return\n",
    "        possible_letters = digitToLetters[int(digits[index])]\n",
    "        for letter in possible_letters:\n",
    "           # print(letter)\n",
    "            dfs(index + 1 , path + letter)\n",
    "    dfs(0 , \"\")\n",
    "\n",
    "    return ans\n",
    "\n",
    "digits = \"23\"\n",
    "x = letterCombinations(digits)\n",
    "print(x)\n",
    "\n",
    "# Output: [\"ad\",\"ae\",\"af\",\"bd\",\"be\",\"bf\",\"cd\",\"ce\",\"cf\"]"
   ]
  }
 ],
 "metadata": {
  "kernelspec": {
   "display_name": "Python 3",
   "language": "python",
   "name": "python3"
  },
  "language_info": {
   "codemirror_mode": {
    "name": "ipython",
    "version": 3
   },
   "file_extension": ".py",
   "mimetype": "text/x-python",
   "name": "python",
   "nbconvert_exporter": "python",
   "pygments_lexer": "ipython3",
   "version": "3.10.2"
  }
 },
 "nbformat": 4,
 "nbformat_minor": 2
}
