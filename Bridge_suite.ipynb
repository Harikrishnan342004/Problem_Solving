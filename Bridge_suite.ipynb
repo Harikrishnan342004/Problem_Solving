{
 "cells": [
  {
   "cell_type": "code",
   "execution_count": 1,
   "metadata": {},
   "outputs": [
    {
     "name": "stdout",
     "output_type": "stream",
     "text": [
      "[1, 2, 4, 5, 8]\n"
     ]
    }
   ],
   "source": [
    "# Write a function to implement the algorithm.\n",
    "# Input:\n",
    "# [5, 1, 4, 2, 8]\n",
    "# Output : \n",
    "# [1, 2, 4, 5, 8]\n",
    "def  shorting(Input):\n",
    "    return sorted(Input)\n",
    "Input =  [5, 1, 4, 2, 8]\n",
    "Output = shorting(Input)\n",
    "print(Output)"
   ]
  },
  {
   "cell_type": "code",
   "execution_count": 2,
   "metadata": {},
   "outputs": [
    {
     "name": "stdout",
     "output_type": "stream",
     "text": [
      "[1, 2, 4, 5, 8]\n"
     ]
    }
   ],
   "source": [
    "# Write a function to implement the algorithm.\n",
    "# Input:\n",
    "# [5, 1, 4, 2, 8]\n",
    "# Output : \n",
    "# [1, 2, 4, 5, 8]\n",
    "def  shorting(Input):\n",
    "    n = len(Input)\n",
    "    for i in range(n):\n",
    "        for j in range(0, n-i-1):\n",
    "            if Input[j] > Input[j + 1]:\n",
    "                Input[j] , Input[j + 1] = Input[j + 1], Input[j]\n",
    "    return Input\n",
    "\n",
    "Input =  [5, 1, 4, 2, 8]\n",
    "Output = shorting(Input)\n",
    "print(Output)"
   ]
  },
  {
   "cell_type": "code",
   "execution_count": 4,
   "metadata": {},
   "outputs": [
    {
     "name": "stdout",
     "output_type": "stream",
     "text": [
      "[1, 2, 4, 5, 8]\n"
     ]
    }
   ],
   "source": [
    "# Write a function to implement the algorithm.\n",
    "# Input:\n",
    "# [5, 1, 4, 2, 8]\n",
    "# Output : \n",
    "# [1, 2, 4, 5, 8]\n",
    "def  shorting(Input):\n",
    "    n = len(Input)\n",
    "    swapped = True\n",
    "    while swapped:\n",
    "        swapped = False\n",
    "        for i in range(1, n):\n",
    "            if Input[i - 1] > Input[i]:\n",
    "                Input[i - 1], Input[i] = Input[i], Input[i - 1]\n",
    "                swapped = True\n",
    "    return Input\n",
    "Input =  [5, 1, 4, 2, 8]\n",
    "Output = shorting(Input)\n",
    "print(Output)"
   ]
  }
 ],
 "metadata": {
  "kernelspec": {
   "display_name": "Python 3",
   "language": "python",
   "name": "python3"
  },
  "language_info": {
   "codemirror_mode": {
    "name": "ipython",
    "version": 3
   },
   "file_extension": ".py",
   "mimetype": "text/x-python",
   "name": "python",
   "nbconvert_exporter": "python",
   "pygments_lexer": "ipython3",
   "version": "3.10.2"
  }
 },
 "nbformat": 4,
 "nbformat_minor": 2
}
