{
 "cells": [
  {
   "cell_type": "code",
   "execution_count": 4,
   "metadata": {},
   "outputs": [
    {
     "name": "stdout",
     "output_type": "stream",
     "text": [
      "H0rik0vith0\n"
     ]
    }
   ],
   "source": [
    "#where ever you find \"A\" replace it with 0 \n",
    "def  replace_A(x):\n",
    "    result = \"\"\n",
    "    for i in x:\n",
    "        if(i == \"a\"):\n",
    "            result += \"0\"\n",
    "        else:\n",
    "            result += i\n",
    "    return result\n",
    "x = \"Harikavitha\"\n",
    "y = replace_A(x)\n",
    "print(y)"
   ]
  },
  {
   "cell_type": "code",
   "execution_count": 1,
   "metadata": {},
   "outputs": [
    {
     "name": "stdout",
     "output_type": "stream",
     "text": [
      "(1, 1)\n"
     ]
    }
   ],
   "source": [
    "\n",
    "def search_2d_array(array, target):\n",
    "    for i in range(len(array)):\n",
    "        for j in range(len(array[i])):\n",
    "            if(array[i][j] == target):\n",
    "                return (i, j)\n",
    "    return None \n",
    "array = [\n",
    "    [10, 20, 30],\n",
    "    [40, 50, 60],\n",
    "    [70, 80, 90]\n",
    "]\n",
    "target = 50\n",
    "\n",
    "result = search_2d_array(array, target)\n",
    "print(result)"
   ]
  },
  {
   "cell_type": "code",
   "execution_count": 2,
   "metadata": {},
   "outputs": [
    {
     "name": "stdout",
     "output_type": "stream",
     "text": [
      "[1, 2, 3, 4, 5, 6]\n"
     ]
    }
   ],
   "source": [
    "#Merge 2 Arrays \n",
    "def merge(arr1 , arr2):\n",
    "    merged_array = arr1 + arr2\n",
    "    return merged_array \n",
    "arr1 = [1 , 2 , 3]\n",
    "arr2 = [4 , 5 , 6]\n",
    "Output = merge(arr1 , arr2)\n",
    "print(Output)"
   ]
  },
  {
   "cell_type": "code",
   "execution_count": 3,
   "metadata": {},
   "outputs": [
    {
     "name": "stdout",
     "output_type": "stream",
     "text": [
      "ivaKiraH\n"
     ]
    }
   ],
   "source": [
    "#Reversed the string\n",
    "def Reversed(string):\n",
    "    result = \"\"\n",
    "    for char in string:\n",
    "        result = char + result\n",
    "    return result\n",
    "string = \"HariKavi\"\n",
    "print(Reversed(string))"
   ]
  },
  {
   "cell_type": "code",
   "execution_count": 7,
   "metadata": {},
   "outputs": [
    {
     "name": "stdout",
     "output_type": "stream",
     "text": [
      "2\n",
      "1\n"
     ]
    }
   ],
   "source": [
    "#Program for swapping two numbers\n",
    "a = 1\n",
    "b = 2\n",
    "temp = a\n",
    "a = b\n",
    "b = temp\n",
    "print(a)\n",
    "print(b)"
   ]
  },
  {
   "cell_type": "code",
   "execution_count": 8,
   "metadata": {},
   "outputs": [
    {
     "name": "stdout",
     "output_type": "stream",
     "text": [
      "2\n",
      "1\n"
     ]
    }
   ],
   "source": [
    "#Program for swapping two numbers without temporay variables\n",
    "a  = 1\n",
    "b = 2\n",
    "a = a + b\n",
    "b = a - b\n",
    "a = a - 1\n",
    "print(a)\n",
    "print(b)"
   ]
  },
  {
   "cell_type": "code",
   "execution_count": 10,
   "metadata": {},
   "outputs": [
    {
     "name": "stdout",
     "output_type": "stream",
     "text": [
      "True\n"
     ]
    }
   ],
   "source": [
    "#Program on Armstrong number\n",
    "def armstrong(n):\n",
    "    number = str(n)\n",
    "    length = len(number)\n",
    "    result = 0\n",
    "    for i in number:\n",
    "        result = result + int(i)**(length)\n",
    "    if result == n:\n",
    "        return True \n",
    "    else:\n",
    "        return False\n",
    "n = 153\n",
    "Input = armstrong(n)\n",
    "print(Input)"
   ]
  },
  {
   "cell_type": "code",
   "execution_count": 1,
   "metadata": {},
   "outputs": [
    {
     "ename": "",
     "evalue": "",
     "output_type": "error",
     "traceback": [
      "\u001b[1;31mThe Kernel crashed while executing code in the current cell or a previous cell. \n",
      "\u001b[1;31mPlease review the code in the cell(s) to identify a possible cause of the failure. \n",
      "\u001b[1;31mClick <a href='https://aka.ms/vscodeJupyterKernelCrash'>here</a> for more info. \n",
      "\u001b[1;31mView Jupyter <a href='command:jupyter.viewOutput'>log</a> for further details."
     ]
    }
   ],
   "source": [
    "#fibonacci number \n",
    "def fibonacci(n):\n",
    "    if n <= 0:\n",
    "        return 0\n",
    "    elif n == 1:\n",
    "        return 1\n",
    "    else:\n",
    "        return fibonacci(n) + fibonacci(n-1)\n",
    "n = 10\n",
    "print(fibonacci(n))"
   ]
  },
  {
   "cell_type": "code",
   "execution_count": 4,
   "metadata": {},
   "outputs": [
    {
     "name": "stdout",
     "output_type": "stream",
     "text": [
      "True\n"
     ]
    }
   ],
   "source": [
    "def check(n):\n",
    "    if( n < 2):\n",
    "        return False\n",
    "    for i in range(2, int(n ** 0.5)+1):\n",
    "        if( n % i == 0):\n",
    "            return False\n",
    "    return True\n",
    "n = 11\n",
    "output = check(n)\n",
    "print(output)"
   ]
  },
  {
   "cell_type": "code",
   "execution_count": 17,
   "metadata": {},
   "outputs": [
    {
     "name": "stdout",
     "output_type": "stream",
     "text": [
      "2 3 5 7 "
     ]
    }
   ],
   "source": [
    "def if_prime(n):\n",
    "    if(n <= 1):\n",
    "        return False\n",
    "    for i in range(2, int(n**0.5)+1):\n",
    "        if( n % i== 0):\n",
    "            return False\n",
    "    return True\n",
    "\n",
    "def display_primes(start, end):\n",
    "    for num in range(start , end+1):\n",
    "        if(if_prime(num)):\n",
    "            print(num , end= \" \")\n",
    "start = 1 \n",
    "end = 10\n",
    "display_primes(start, end)\n"
   ]
  }
 ],
 "metadata": {
  "kernelspec": {
   "display_name": "Python 3",
   "language": "python",
   "name": "python3"
  },
  "language_info": {
   "codemirror_mode": {
    "name": "ipython",
    "version": 3
   },
   "file_extension": ".py",
   "mimetype": "text/x-python",
   "name": "python",
   "nbconvert_exporter": "python",
   "pygments_lexer": "ipython3",
   "version": "3.10.2"
  }
 },
 "nbformat": 4,
 "nbformat_minor": 2
}
