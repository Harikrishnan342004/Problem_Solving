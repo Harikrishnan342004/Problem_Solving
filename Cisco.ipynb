{
 "cells": [
  {
   "cell_type": "code",
   "execution_count": 4,
   "metadata": {},
   "outputs": [
    {
     "name": "stdout",
     "output_type": "stream",
     "text": [
      "H0rik0vith0\n"
     ]
    }
   ],
   "source": [
    "#where ever you find \"A\" replace it with 0 \n",
    "def  replace_A(x):\n",
    "    result = \"\"\n",
    "    for i in x:\n",
    "        if(i == \"a\"):\n",
    "            result += \"0\"\n",
    "        else:\n",
    "            result += i\n",
    "    return result\n",
    "x = \"Harikavitha\"\n",
    "y = replace_A(x)\n",
    "print(y)"
   ]
  }
 ],
 "metadata": {
  "kernelspec": {
   "display_name": "Python 3",
   "language": "python",
   "name": "python3"
  },
  "language_info": {
   "codemirror_mode": {
    "name": "ipython",
    "version": 3
   },
   "file_extension": ".py",
   "mimetype": "text/x-python",
   "name": "python",
   "nbconvert_exporter": "python",
   "pygments_lexer": "ipython3",
   "version": "3.10.2"
  }
 },
 "nbformat": 4,
 "nbformat_minor": 2
}
