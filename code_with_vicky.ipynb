{
 "cells": [
  {
   "cell_type": "code",
   "execution_count": 1,
   "id": "c9765994-5e82-4fb2-98a4-ea6aa92169fc",
   "metadata": {},
   "outputs": [
    {
     "name": "stdout",
     "output_type": "stream",
     "text": [
      "True\n"
     ]
    }
   ],
   "source": [
    "#Palindrome Or not.\n",
    "def palindrome(Input):\n",
    "    reverse_result = \"\"\n",
    "    for i in Input:\n",
    "        reverse_result =  i +  reverse_result\n",
    "    if (Input ==  reverse_result):\n",
    "        return True\n",
    "    else:\n",
    "        return False\n",
    "    \n",
    "    \n",
    "Input = \"malayalam\"\n",
    "output = palindrome(Input)\n",
    "print(output)"
   ]
  },
  {
   "cell_type": "code",
   "execution_count": 109,
   "id": "8dd0cf22",
   "metadata": {},
   "outputs": [
    {
     "name": "stdout",
     "output_type": "stream",
     "text": [
      "1\n",
      "2\n",
      "3\n",
      "4\n",
      "5\n",
      "6\n",
      "7\n",
      "8\n",
      "9\n",
      "10\n",
      "None\n"
     ]
    }
   ],
   "source": [
    "#Print 1 to  N Numbers.......\n",
    "def  pr(N):\n",
    "    for i in range(1, N+1):\n",
    "        print(i)\n",
    "\n",
    "N = 10\n",
    "Output = pr(N)\n",
    "print(Output)\n"
   ]
  },
  {
   "cell_type": "code",
   "execution_count": 2,
   "id": "6e5f5831",
   "metadata": {},
   "outputs": [
    {
     "name": "stdout",
     "output_type": "stream",
     "text": [
      "1\n",
      "2\n",
      "3\n",
      "4\n",
      "5\n",
      "6\n",
      "7\n",
      "8\n",
      "9\n",
      "10\n",
      "None\n"
     ]
    }
   ],
   "source": [
    "def  print_Numbers(N):\n",
    "    def x(current):\n",
    "        if( current > N):\n",
    "            return\n",
    "        else:\n",
    "            print(current)\n",
    "            x(current + 1)\n",
    "    x(1)\n",
    "N = 10\n",
    "Output =  print_Numbers(N)\n",
    "print(Output)"
   ]
  },
  {
   "cell_type": "code",
   "execution_count": 110,
   "id": "7b052d16",
   "metadata": {},
   "outputs": [
    {
     "name": "stdout",
     "output_type": "stream",
     "text": [
      "1\n",
      "2\n",
      "3\n",
      "4\n",
      "5\n",
      "6\n",
      "7\n",
      "8\n",
      "9\n",
      "10\n",
      "None\n"
     ]
    }
   ],
   "source": [
    "def  print_Numbers(N):\n",
    "    if N>0:\n",
    "        print_Numbers(N-1)\n",
    "        print(N)\n",
    "N = 10\n",
    "Output =  print_Numbers(N)\n",
    "print(Output)"
   ]
  },
  {
   "cell_type": "code",
   "execution_count": 260,
   "id": "4cf39f3a",
   "metadata": {},
   "outputs": [
    {
     "name": "stdout",
     "output_type": "stream",
     "text": [
      "5\n",
      "4\n",
      "3\n",
      "2\n",
      "1\n",
      "None\n"
     ]
    }
   ],
   "source": [
    "def print_numbers(N):\n",
    "    if N > 0:\n",
    "         print(N)\n",
    "         print_numbers(N - 1)\n",
    "       \n",
    "# Test the function with an example\n",
    "N = 5\n",
    "print(print_numbers(N))\n"
   ]
  },
  {
   "cell_type": "code",
   "execution_count": 261,
   "id": "b35c2baa",
   "metadata": {},
   "outputs": [
    {
     "name": "stdout",
     "output_type": "stream",
     "text": [
      "15\n"
     ]
    }
   ],
   "source": [
    "#fibonance series \n",
    "def  Fibonance(N):\n",
    "    if N <= 1:\n",
    "        return 1\n",
    "    else:\n",
    "        return  N +  Fibonance(N-1)\n",
    "N = 5\n",
    "Output = Fibonance(N)\n",
    "print(Output)"
   ]
  },
  {
   "cell_type": "code",
   "execution_count": null,
   "id": "c15da3e3",
   "metadata": {},
   "outputs": [
    {
     "ename": "",
     "evalue": "",
     "output_type": "error",
     "traceback": [
      "\u001b[1;31mThe Kernel crashed while executing code in the current cell or a previous cell. \n",
      "\u001b[1;31mPlease review the code in the cell(s) to identify a possible cause of the failure. \n",
      "\u001b[1;31mClick <a href='https://aka.ms/vscodeJupyterKernelCrash'>here</a> for more info. \n",
      "\u001b[1;31mView Jupyter <a href='command:jupyter.viewOutput'>log</a> for further details."
     ]
    }
   ],
   "source": [
    "def sum_of_natural_numbers(N):\n",
    "    if N <= 1:\n",
    "        return N\n",
    "    else:\n",
    "        return N + sum_of_natural_numbers(N - 1)\n",
    "\n",
    "# Test the function with an example\n",
    "N = 5\n",
    "Output = sum_of_natural_numbers(N)\n",
    "print(Output)\n"
   ]
  },
  {
   "cell_type": "code",
   "execution_count": 262,
   "id": "f2f80e9f-ab25-494b-be86-c7a3ec2c89ec",
   "metadata": {},
   "outputs": [
    {
     "name": "stdout",
     "output_type": "stream",
     "text": [
      "5\n"
     ]
    }
   ],
   "source": [
    "#countDigit.........\n",
    "def  countDigit(Input):\n",
    "    i = 0\n",
    "    while (Input != 0):\n",
    "        Input //= 10\n",
    "        i +=1\n",
    "    return i\n",
    "Input = 12345\n",
    "output = countDigit(Input)\n",
    "print(output)"
   ]
  },
  {
   "cell_type": "code",
   "execution_count": 263,
   "id": "8fd7dc6b-b66a-4cc1-a2a0-44b93560b85b",
   "metadata": {},
   "outputs": [
    {
     "name": "stdout",
     "output_type": "stream",
     "text": [
      "21\n"
     ]
    }
   ],
   "source": [
    "#reverse_the_number........\n",
    "\n",
    "def reverse(Input):\n",
    "    result = 0\n",
    "    \n",
    "    while( Input != 0 ):\n",
    "        digit = Input % 10\n",
    "        result = result * 10 + digit\n",
    "        Input //=10\n",
    "    return result\n",
    "        \n",
    "Input = 12\n",
    "output = reverse(Input)\n",
    "print(output)"
   ]
  },
  {
   "cell_type": "code",
   "execution_count": 264,
   "id": "74e96bed-fd9b-4704-9d23-027af8433a9a",
   "metadata": {},
   "outputs": [
    {
     "name": "stdout",
     "output_type": "stream",
     "text": [
      "True\n"
     ]
    }
   ],
   "source": [
    "#ArmstrongNumber............\n",
    "def Armstrong_number(Input):\n",
    "    digit = len(str(Input))\n",
    "    parts = [int(i) for i  in str(Input)]\n",
    "    \n",
    "    counter = 0\n",
    "    for j in parts:\n",
    "      \n",
    "        counter += j ** digit\n",
    "    return counter == Input\n",
    "\n",
    "Input = 153\n",
    "output = Armstrong_number(Input)\n",
    "print(output)"
   ]
  },
  {
   "cell_type": "code",
   "execution_count": 265,
   "id": "abff6659-bc4d-4869-a8ea-48f3da854458",
   "metadata": {},
   "outputs": [
    {
     "name": "stdout",
     "output_type": "stream",
     "text": [
      "[1, 2, 3, 4, 6, 12]\n"
     ]
    }
   ],
   "source": [
    "#find the divisor of numbers........\n",
    "\n",
    "def divisor(Input):\n",
    "    result = [] \n",
    "    for i in range(1,Input+1):\n",
    "        if( Input % i == 0 ):\n",
    "            result.append(i)\n",
    "    return result\n",
    "\n",
    "Input = 12\n",
    "output = divisor(Input)\n",
    "print(output)"
   ]
  },
  {
   "cell_type": "code",
   "execution_count": 266,
   "id": "98ca1c2c-87f6-40c3-8dbb-16aa3e09637d",
   "metadata": {},
   "outputs": [
    {
     "name": "stdout",
     "output_type": "stream",
     "text": [
      "Prime Number\n"
     ]
    }
   ],
   "source": [
    "#prime number of not\n",
    "def prime_number_or_not(Input):\n",
    "    if( Input <= 1 ):\n",
    "        return \"Not prime number\"\n",
    "    for i in range(2, int(Input**0.5)+1):\n",
    "        if(Input % i == 0):\n",
    "            return \"Not Prime Number\"\n",
    "    return \"Prime Number\"\n",
    "    \n",
    "Input = 17\n",
    "output = prime_number_or_not(Input)\n",
    "print(output)"
   ]
  },
  {
   "cell_type": "code",
   "execution_count": 267,
   "id": "6cecfda2-8234-4bed-a1da-1095c101ad15",
   "metadata": {},
   "outputs": [
    {
     "name": "stdout",
     "output_type": "stream",
     "text": [
      "120\n"
     ]
    }
   ],
   "source": [
    "#factorial_number...\n",
    "def factorial(Input):\n",
    "    fact = 1\n",
    "    for i in range(1, Input+1):\n",
    "        fact = fact * i\n",
    "    return fact\n",
    "    \n",
    "Input = 5\n",
    "output = factorial(Input)\n",
    "print(output)"
   ]
  },
  {
   "cell_type": "code",
   "execution_count": 268,
   "id": "0762f7dd-f215-4fdd-a587-358d99fbccc4",
   "metadata": {},
   "outputs": [
    {
     "name": "stdout",
     "output_type": "stream",
     "text": [
      "19\n"
     ]
    }
   ],
   "source": [
    "# Sum of elements in the array...........\n",
    "def sum_arr(arr):\n",
    "    result = 0\n",
    "    for i in arr:\n",
    "        result = result +  i\n",
    "    return result\n",
    "\n",
    "arr = [12, 5 , 3 , -1]\n",
    "output = sum_arr(arr)\n",
    "print(output)"
   ]
  },
  {
   "cell_type": "code",
   "execution_count": 269,
   "id": "721deb95-4a63-4343-9dad-34fcaa13a5dd",
   "metadata": {},
   "outputs": [
    {
     "name": "stdout",
     "output_type": "stream",
     "text": [
      "23\n"
     ]
    }
   ],
   "source": [
    "#Large element in the array\n",
    "def max_arr(arr):\n",
    "    maxi = arr[0]\n",
    "    for i in arr:\n",
    "        if (i > maxi):\n",
    "            maxi = i\n",
    "    return maxi\n",
    "arr = [12, 5, 8, 23, 17, 9]\n",
    "output = max_arr(arr)\n",
    "print(output)"
   ]
  },
  {
   "cell_type": "code",
   "execution_count": 270,
   "id": "c3717b91-7b7c-416c-bd6e-c9117469bf57",
   "metadata": {},
   "outputs": [
    {
     "name": "stdout",
     "output_type": "stream",
     "text": [
      "-9\n"
     ]
    }
   ],
   "source": [
    "#Small elements in the array.....\n",
    "def min_arr(arr):\n",
    "    mini = arr[0]\n",
    "    for i in arr:\n",
    "        if i < mini :\n",
    "            mini = i\n",
    "    return mini\n",
    "arr = [-5,-9, -4, -1, -2]\n",
    "output = min_arr(arr)\n",
    "print(output)"
   ]
  },
  {
   "cell_type": "code",
   "execution_count": 271,
   "id": "b0f5b18c-888d-4841-926b-902e16991530",
   "metadata": {},
   "outputs": [
    {
     "name": "stdout",
     "output_type": "stream",
     "text": [
      "even Count: 2\n",
      "odd Count: 4\n",
      "None\n"
     ]
    }
   ],
   "source": [
    "#Count the elements in Array\n",
    "def  count_odd_even(arr):\n",
    "    odd = 0\n",
    "    even = 0\n",
    "    \n",
    "    for i in arr:\n",
    "        if( i%2 == 0 ):\n",
    "            even += 1\n",
    "           \n",
    "        if( i%2 != 0 ):\n",
    "            odd += 1\n",
    "           \n",
    "    print(\"even Count:\", even)\n",
    "    print(\"odd Count:\", odd)\n",
    "\n",
    "arr = [12, 5, 8, 23, 17, 9]\n",
    "output = count_odd_even(arr)\n",
    "print(output)"
   ]
  },
  {
   "cell_type": "code",
   "execution_count": 272,
   "id": "3269d250-8f93-49f4-9fdb-2869bc6fbebf",
   "metadata": {},
   "outputs": [
    {
     "name": "stdout",
     "output_type": "stream",
     "text": [
      "('Element found in index:', 3)\n"
     ]
    }
   ],
   "source": [
    "def Search_Element_in_the_Array(arr, target):\n",
    "    for i in range(len(arr)):\n",
    "        if( arr[i] == target):\n",
    "            return \"Element found in index:\", i\n",
    "    return \"Not found\"\n",
    "\n",
    "arr = [12, 5, 8, 23, 17, 9]\n",
    "target = 23\n",
    "output = Search_Element_in_the_Array(arr, target)\n",
    "print(output)"
   ]
  },
  {
   "cell_type": "code",
   "execution_count": 273,
   "id": "55dd4294-2b53-48fc-943e-446c02557074",
   "metadata": {},
   "outputs": [
    {
     "name": "stdout",
     "output_type": "stream",
     "text": [
      "[9, 17, 23, 8, 5, 12]\n"
     ]
    }
   ],
   "source": [
    "#Reverse the array.............\n",
    "def reverse(arr):\n",
    "    res = []\n",
    "    for i in range(len(arr)-1, -1, -1):\n",
    "        res.append(arr[i])\n",
    "    return res\n",
    "arr = [12, 5, 8, 23, 17, 9]\n",
    "output = reverse(arr)\n",
    "print(output)"
   ]
  },
  {
   "cell_type": "code",
   "execution_count": 274,
   "id": "c5aaf060-791b-452d-9088-1751dea05243",
   "metadata": {},
   "outputs": [
    {
     "name": "stdout",
     "output_type": "stream",
     "text": [
      "[12, 8, 17]\n",
      "3\n",
      "[-5, -2]\n",
      "2\n",
      "None\n"
     ]
    }
   ],
   "source": [
    "#Day-14 - Filter Elements from Array\n",
    "#Write a program to filter given numbers array by removing negative numbers.\n",
    "def fillter(arr):\n",
    "    positive_num = []\n",
    "    negative_num = []\n",
    "    positive_count = 0\n",
    "    negative_count = 0\n",
    "    \n",
    "    for i in arr:\n",
    "        if( i> 0):\n",
    "            positive_num.append(i)\n",
    "            positive_count += 1\n",
    "        if( i < 0):\n",
    "            negative_num.append(i)\n",
    "            negative_count += 1\n",
    "    print(positive_num)\n",
    "    print(positive_count)\n",
    "    print(negative_num)\n",
    "    print(negative_count)\n",
    "    \n",
    "arr = [12, -5, 8, -2, 17]\n",
    "output = fillter(arr)\n",
    "print(output)"
   ]
  },
  {
   "cell_type": "code",
   "execution_count": 275,
   "id": "6ce46d8e-c572-437b-881f-1522dd0d6267",
   "metadata": {},
   "outputs": [
    {
     "name": "stdout",
     "output_type": "stream",
     "text": [
      "['o', 'i']\n",
      "2\n",
      "['C', 'd', 'n', 'g']\n",
      "4\n",
      "None\n"
     ]
    }
   ],
   "source": [
    "##Count Vowels and Consonants\n",
    "# Problem Statement:\n",
    "# Write a program to count the number of vowels and consonants in a given string.\n",
    "def count_vowels_consonants(Input):\n",
    "    vow = []\n",
    "    vow_count = 0\n",
    "    con = []\n",
    "    con_count = 0\n",
    "    \n",
    "    vowels =  [\"a\",\"e\" , \"i\" , \"o\" , \"u\", \"A\" , \"E\", \"I\" , \"O\" , \"U\"]\n",
    "    \n",
    "    for i in range(len(Input)):\n",
    "        if( Input[i] in vowels):\n",
    "            vow.append(Input[i])\n",
    "            vow_count += 1\n",
    "        else:\n",
    "            con.append(Input[i])\n",
    "            con_count += 1\n",
    "    print(vow)\n",
    "    print(vow_count)\n",
    "    print(con)\n",
    "    print(con_count)\n",
    "    \n",
    "Input = \"Coding\"\n",
    "output = count_vowels_consonants(Input)\n",
    "print(output)"
   ]
  },
  {
   "cell_type": "code",
   "execution_count": 276,
   "id": "458ecde1-4ce9-4ba7-8767-1e8d36443503",
   "metadata": {},
   "outputs": [
    {
     "name": "stdout",
     "output_type": "stream",
     "text": [
      "[11, 12]\n"
     ]
    }
   ],
   "source": [
    "#value_between_X_and_U .............\n",
    "def value_between_X_and_Y(arr, N , X , Y):\n",
    "    result = [ ]\n",
    "    for i in arr:\n",
    "        if( X < i < Y  ):\n",
    "            result.append(i)\n",
    "    return result\n",
    "N = 6\n",
    "X = 10\n",
    "Y = 14\n",
    "arr = [4, 3, 7, 11,12, 50, 1]\n",
    "output = value_between_X_and_Y(arr, N , X , Y)\n",
    "print(output)"
   ]
  },
  {
   "cell_type": "code",
   "execution_count": 277,
   "id": "e3774569-626f-4ed1-83cf-511f2aa139c9",
   "metadata": {},
   "outputs": [
    {
     "name": "stdout",
     "output_type": "stream",
     "text": [
      "None\n"
     ]
    }
   ],
   "source": [
    "#Split Sentence into words......\n",
    "def splitting(Input):\n",
    "    result = []\n",
    "    s = Input.split()\n",
    "    for i in result:\n",
    "        result.append()\n",
    "Input = \"Coding is fun.\"\n",
    "output = splitting(Input)\n",
    "print(output)"
   ]
  },
  {
   "cell_type": "code",
   "execution_count": 278,
   "id": "1687463d-1c23-4d14-ad0b-aa43336d4a2b",
   "metadata": {},
   "outputs": [],
   "source": [
    "# Write a program to remove extra spaces from a given string.\n",
    "\n",
    "# Rules:\n",
    "\n",
    "# 1. No space at the beginning\n",
    "# 2. No space at the end\n",
    "# 3. Only one space allowed between words.\n",
    "\n",
    "# Example 1\n",
    "\n",
    "# Input\n",
    "\n",
    "# “ Programming is fun !! “\n",
    "\n",
    "# Output\n",
    "\n",
    "# “Programming is fun !!”\n",
    "\n",
    "\n"
   ]
  },
  {
   "cell_type": "code",
   "execution_count": 279,
   "id": "b2e1fa07-b3a2-4545-b945-63347c9d6391",
   "metadata": {},
   "outputs": [
    {
     "name": "stdout",
     "output_type": "stream",
     "text": [
      "Programming is fun !!\n"
     ]
    }
   ],
   "source": [
    "# 17 Write a program to remove extra spaces from a given string.\n",
    "def  remove_extraspace(Input):\n",
    "    Output_str = \"\"\n",
    "    is_space = False\n",
    "    \n",
    "    for char in Input:\n",
    "        #print(char)\n",
    "        if char != ' ':\n",
    "            Output_str += char\n",
    "            is_space = False\n",
    "        else:\n",
    "            if not is_space:\n",
    "                Output_str += char\n",
    "            is_space = True\n",
    "    \n",
    "    if Output_str[0] == ' ':\n",
    "        Output_str = Output_str[1:]\n",
    "    if Output_str[-1] == ' ':\n",
    "        Output_str = Output_str[:-1]\n",
    "        \n",
    "    return Output_str\n",
    "        \n",
    "Input = \" Programming is  fun !! \"\n",
    "output = remove_extraspace(Input)\n",
    "print(output)"
   ]
  },
  {
   "cell_type": "code",
   "execution_count": 280,
   "id": "5d8ba945-62cb-4faa-af7e-e053dcb4d90f",
   "metadata": {},
   "outputs": [
    {
     "name": "stdout",
     "output_type": "stream",
     "text": [
      "Valid IP Address\n"
     ]
    }
   ],
   "source": [
    "#18 Valid IP Address.....\n",
    "def Valid_IP_Address(Input):\n",
    "    words = Input.split(\".\")\n",
    "    #print(words)\n",
    "    \n",
    "    if len(words) != 4:\n",
    "        return False\n",
    "    \n",
    "    for word in words:\n",
    "        #print(word)\n",
    "        if not word.isdigit():\n",
    "            return False\n",
    "        num = int(word)\n",
    "    if not 0 <= num <= 255 :\n",
    "        return False\n",
    "    return True\n",
    "\n",
    "Input = \"255.255.255.255\"\n",
    "output =  Valid_IP_Address(Input)\n",
    "if output:\n",
    "    print(\"Valid IP Address\")\n",
    "else:\n",
    "    print(\"Invalid IP Address\")"
   ]
  },
  {
   "cell_type": "code",
   "execution_count": 281,
   "id": "35c5aec4-85ed-46fb-a1d6-6bb1e22e5e93",
   "metadata": {},
   "outputs": [
    {
     "name": "stdout",
     "output_type": "stream",
     "text": [
      "a3b2c2a1\n"
     ]
    }
   ],
   "source": [
    "#19 - String compression \n",
    "def String_compression(input_str):\n",
    "    output = \"\"\n",
    "    output += input_str[0]\n",
    "    count = 1\n",
    "    for i in range(1, len(input_str)):\n",
    "        if(  input_str[i] ==  input_str[i-1]):\n",
    "            count += 1\n",
    "        else:\n",
    "            output += str(count)\n",
    "            output += input_str[i]\n",
    "            count = 1\n",
    "    output += str(count)\n",
    "    return output\n",
    "input_str = \"aaabbcca\"\n",
    "output = String_compression(input_str)\n",
    "print(output)"
   ]
  },
  {
   "cell_type": "code",
   "execution_count": 282,
   "id": "8796555e-00f1-4b7b-887f-004079ae86c5",
   "metadata": {},
   "outputs": [
    {
     "name": "stdout",
     "output_type": "stream",
     "text": [
      "True\n"
     ]
    }
   ],
   "source": [
    "#20 - Anagram\n",
    "def  count_characters(string , char):\n",
    "    count = 0\n",
    "    for ch in string:\n",
    "        if ch == char:\n",
    "            count += 1\n",
    "    return count\n",
    "    \n",
    "def  Anagram(s1, s2):\n",
    "    if( len(s1) != len(s2) ):\n",
    "        return False\n",
    "    for char in s1:\n",
    "        s1_count = count_characters(s1  , char)\n",
    "        s2_count = count_characters(s2  , char)\n",
    "        \n",
    "        if( s1_count != s2_count ):\n",
    "            return False\n",
    "    return True\n",
    "s1 = \"silent\"\n",
    "s2 = \"listen\"\n",
    "Input = Anagram(s1, s2)\n",
    "print(Input)"
   ]
  },
  {
   "cell_type": "code",
   "execution_count": 283,
   "id": "f0fef72a-0dcf-4520-8f8d-7d918c827a87",
   "metadata": {},
   "outputs": [
    {
     "name": "stdout",
     "output_type": "stream",
     "text": [
      "Index found in 6\n"
     ]
    }
   ],
   "source": [
    "#21 -Word Search\n",
    "def Word_Search(S , T):\n",
    "    for i in range(len(S)):\n",
    "        #print(i)\n",
    "        if( S[i] == T[0] ):\n",
    "            j = i\n",
    "            k = 0\n",
    "            while( j < len(S) and k < len(T) and S[j] == T[k] ):\n",
    "                j += 1\n",
    "                k += 1\n",
    "            if( k == len(T)):\n",
    "                return i\n",
    "    return -1\n",
    "\n",
    "S = \"hello world\"\n",
    "T = \"world\"\n",
    "index = Word_Search(S , T)\n",
    "if index == -1:\n",
    "    print(\"Not Found\")\n",
    "else:\n",
    "    print(\"Index found in\", index)"
   ]
  },
  {
   "cell_type": "code",
   "execution_count": 284,
   "id": "1cd593a5-c611-41d6-bd75-16f676e23c74",
   "metadata": {},
   "outputs": [
    {
     "name": "stdout",
     "output_type": "stream",
     "text": [
      "['apple', 'application']\n"
     ]
    }
   ],
   "source": [
    "#22- prefix search....\n",
    "def  prefix_search(words, prefix):\n",
    "    new_arr = []\n",
    "    for word in words:\n",
    "        if( len(words) > len(prefix) and word[:len(prefix)] == prefix):\n",
    "            new_arr.append(word)\n",
    "    return new_arr\n",
    "words = [\"apple\", \"ball\", \"application\", \"catch\"]\n",
    "prefix = \"ap\"\n",
    "output = prefix_search(words, prefix)\n",
    "print(output)"
   ]
  },
  {
   "cell_type": "code",
   "execution_count": 285,
   "id": "9591dcf2-5c3f-4360-a836-2bc1f0657f97",
   "metadata": {},
   "outputs": [],
   "source": [
    "#23- su"
   ]
  },
  {
   "cell_type": "code",
   "execution_count": 286,
   "id": "6aad3dea-e160-466a-95e1-206de1215a31",
   "metadata": {},
   "outputs": [
    {
     "name": "stdout",
     "output_type": "stream",
     "text": [
      "T = 2\n",
      "o = 2\n",
      "m = 1\n",
      "a = 1\n",
      "None\n"
     ]
    }
   ],
   "source": [
    "#24- Count Letter Frequency\n",
    "def Count_Letter_Frequency(Input):\n",
    "    count = {}\n",
    "    for char in Input:\n",
    "        if char not in count:\n",
    "            count[char] = 1\n",
    "        else:\n",
    "            count[char] += 1\n",
    "    \n",
    "    for c , freq in count.items():\n",
    "        print(f\"{c} = {freq}\")\n",
    "Input = \"TomaTo\"\n",
    "output = Count_Letter_Frequency(Input)\n",
    "print(output)"
   ]
  },
  {
   "cell_type": "code",
   "execution_count": 287,
   "id": "04e0c57d-0326-466c-83ae-4adb628d19bd",
   "metadata": {},
   "outputs": [
    {
     "name": "stdout",
     "output_type": "stream",
     "text": [
      "[3, 2]\n"
     ]
    }
   ],
   "source": [
    "#25 - Find Duplicate Numbers\n",
    "\n",
    "def  find_duplicate_numbers(input_list):\n",
    "    count = {}\n",
    "    for num in input_list:\n",
    "        if num not in count:\n",
    "            count[num] = 1\n",
    "        else:\n",
    "            count[num] += 1\n",
    "    output = []\n",
    "    for element in input_list:\n",
    "        if( count[element] >1 and element not in output ):\n",
    "            output.append(element)\n",
    "    return output\n",
    "    \n",
    "            \n",
    "input_list = [1, 3, 2, 4, 5, 6, 3, 2]\n",
    "output = find_duplicate_numbers(input_list)\n",
    "print(output)"
   ]
  },
  {
   "cell_type": "code",
   "execution_count": 288,
   "id": "b38b7d01-0dba-4913-8f7c-92f08acda81b",
   "metadata": {},
   "outputs": [
    {
     "name": "stdout",
     "output_type": "stream",
     "text": [
      "3\n"
     ]
    }
   ],
   "source": [
    "#🚀 DAY 26: FINDING UNIQUE NUMBERS 🚀\n",
    "\n",
    "def  finding_unique_number(nums):\n",
    "    count = {}\n",
    "    for num in nums:\n",
    "        if num not in count:\n",
    "            count[num] = 1\n",
    "        else:\n",
    "            count[num] += 1\n",
    "    for num , freq in count.items():\n",
    "        if freq == 1:\n",
    "            return num\n",
    "\n",
    "nums = [4, 2, 3, 2, 4, 5]\n",
    "output = finding_unique_number(nums)\n",
    "print(output)"
   ]
  },
  {
   "cell_type": "code",
   "execution_count": 289,
   "id": "c6c2068f-4d98-48c8-9696-876d1797dcc1",
   "metadata": {},
   "outputs": [
    {
     "name": "stdout",
     "output_type": "stream",
     "text": [
      "[1, 3, 2, 4, 5]\n",
      "[3, 1, 2, 4, 5]\n"
     ]
    }
   ],
   "source": [
    "def remove_duplicates(nums):\n",
    "    seen = set()\n",
    "    result = []\n",
    "    for num in nums:\n",
    "        if num not in seen:\n",
    "            seen.add(num)\n",
    "            result.append(num)\n",
    "    return result\n",
    "\n",
    "input_1 =  [1, 3, 2, 2, 4, 3, 5, 1]\n",
    "output_1 = remove_duplicates(input_1)\n",
    "print(output_1)\n",
    "\n",
    "input_2 = [3, 1, 2, 3, 4, 2, 5, 5, 1]\n",
    "output_2 =  remove_duplicates(input_2)\n",
    "print(output_2)\n"
   ]
  },
  {
   "cell_type": "code",
   "execution_count": 290,
   "id": "d0aabf8c-619f-4e5e-ac1c-db57f2da9717",
   "metadata": {},
   "outputs": [
    {
     "name": "stdout",
     "output_type": "stream",
     "text": [
      "[1, 3, 12, 0, 0]\n",
      "[1, 3, 5, 7, 0, 0, 0, 0]\n"
     ]
    }
   ],
   "source": [
    "def move_zeros_to_end(nums):\n",
    "    write_ptr = 0\n",
    "    for i in range(len(nums)):\n",
    "        if nums[i] != 0:\n",
    "            nums[write_ptr],nums[i] = nums[i],nums[write_ptr]\n",
    "            write_ptr += 1\n",
    "    return nums\n",
    "            \n",
    "# Example 1\n",
    "input_1 = [0, 1, 0, 3, 12]\n",
    "output_1 = move_zeros_to_end(input_1)\n",
    "print(output_1)  # Output: [1, 3, 12, 0, 0]\n",
    "\n",
    "# Example 2\n",
    "input_2 = [0, 1, 0, 3, 0, 5, 0, 7]\n",
    "output_2 = move_zeros_to_end(input_2)\n",
    "print(output_2)  # Output: [1, 3, 5, 7, 0, 0, 0, 0]"
   ]
  },
  {
   "cell_type": "code",
   "execution_count": 291,
   "id": "bfab1527-9443-48b6-b845-6121e66573ff",
   "metadata": {},
   "outputs": [
    {
     "name": "stdout",
     "output_type": "stream",
     "text": [
      "45\n"
     ]
    }
   ],
   "source": [
    "#Sum of Elements in the Matrix\n",
    "def  Sum_of_Emelemnts_in_the_matrix(Input):\n",
    "    result = 0\n",
    "    \n",
    "    for row in Input:\n",
    "        #print(row)\n",
    "        for num in row:\n",
    "            #print(num)\n",
    "            result = num + result\n",
    "    return result\n",
    "\n",
    "Input = [\n",
    "[1, 2, 3],\n",
    "[4, 5, 6],\n",
    "[7, 8, 9]\n",
    "]\n",
    "Output = Sum_of_Emelemnts_in_the_matrix(Input)\n",
    "print(Output)"
   ]
  },
  {
   "cell_type": "code",
   "execution_count": 292,
   "id": "0d254904-d135-4ef5-83bb-e3f26841bdb6",
   "metadata": {},
   "outputs": [
    {
     "name": "stdout",
     "output_type": "stream",
     "text": [
      "[[10, 10, 10], [10, 10, 10], [10, 10, 10]]\n",
      "[[-8, -6, -4], [-2, 0, 2], [4, 6, 8]]\n"
     ]
    }
   ],
   "source": [
    "#Matrix Addition and Subtraction\n",
    "def Matrix_Addition(A , B):\n",
    "    result = []\n",
    "    if len(A) != len(B) or len(A[0]) != len(B[0]):\n",
    "        return  ValueError(\"Matrices must be of the same size.\")\n",
    "    \n",
    "    for i in range(len(A)):\n",
    "        row = []\n",
    "        for j in range(len(A[0])):\n",
    "            row.append(A[i][j] + B[i][j])\n",
    "        result.append(row)\n",
    "    return result\n",
    "def Matrix_Subtraction(A, B):\n",
    "    result = []\n",
    "    if len(A) != len(B) or len(A[0]) != len(B[0]):\n",
    "        return  ValueError(\"Matrices must be of the same size.\")\n",
    "    \n",
    "    for i in range(len(A)):\n",
    "        row = []\n",
    "        for j in range(len(A[0])):\n",
    "            row.append(A[i][j] - B[i][j])\n",
    "        result.append(row)\n",
    "    return result\n",
    "            \n",
    "    \n",
    "\n",
    "A = [\n",
    "[1, 2, 3],\n",
    "[4, 5, 6],\n",
    "[7, 8, 9]\n",
    "]\n",
    "\n",
    "B = [\n",
    "[9, 8, 7],\n",
    "[6, 5, 4],\n",
    "[3, 2, 1]\n",
    "]\n",
    "Output1 = Matrix_Addition(A , B)\n",
    "Output2 = Matrix_Subtraction(A, B)\n",
    "print(Output1)\n",
    "print(Output2)"
   ]
  },
  {
   "cell_type": "code",
   "execution_count": 293,
   "id": "af3c8279-7f9e-49a0-a875-ee51770e6d7d",
   "metadata": {},
   "outputs": [
    {
     "name": "stdout",
     "output_type": "stream",
     "text": [
      "8\n"
     ]
    }
   ],
   "source": [
    "# Matrix Diagonal Sum\n",
    "def Matrix_sum(mat):\n",
    "    n = len(mat)\n",
    "    main = 0\n",
    "    other = 0\n",
    "    \n",
    "    for i in range(n):\n",
    "        main += mat[i][i]\n",
    "        other += mat[i][n - i - 1]\n",
    "    total  = main + other\n",
    "    return total\n",
    "\n",
    "mat = [\n",
    "[1, 1, 1, 1],\n",
    "[1, 1, 1, 1],\n",
    "[1, 1, 1, 1],\n",
    "[1, 1, 1, 1],\n",
    "]\n",
    "Output = Matrix_sum(mat)\n",
    "print(Output)"
   ]
  },
  {
   "cell_type": "code",
   "execution_count": 294,
   "id": "9970737f-7983-45e4-9acb-aded32411d89",
   "metadata": {},
   "outputs": [
    {
     "name": "stdout",
     "output_type": "stream",
     "text": [
      "True\n"
     ]
    }
   ],
   "source": [
    "# Identity Matrix Checker 🚀\n",
    "\n",
    "# Challenge of the day:\n",
    "\n",
    "# Implement a function to check if a given square matrix is an identity matrix. 💡\n",
    "\n",
    "# An identity matrix is a square matrix in which all the elements of the principal diagonal are ones and all other elements are zeros.\n",
    "\n",
    "# 🌟 Example 1 (Identity Matrix):\n",
    "\n",
    "# Input:\n",
    "\n",
    "# mat = [ [1, 0, 0], [0, 1, 0], [0, 0, 1] ]\n",
    "\n",
    "# This is an identity matrix.\n",
    "def matrix(mat):\n",
    "    n = len(mat)\n",
    "    if n != len(mat[0]):\n",
    "        return False\n",
    "    for i in range(n):\n",
    "        for j in range(n):\n",
    "            if( i==j and mat[i][j] != 1):\n",
    "                return False\n",
    "            elif( i != j and mat[i][j] != 0 ):\n",
    "                return False\n",
    "    return True\n",
    "\n",
    "mat1 = [\n",
    "    [1, 0, 0],\n",
    "    [0, 1, 0],\n",
    "    [0, 0, 1]\n",
    "]\n",
    "output = matrix(mat1)\n",
    "print(output)"
   ]
  },
  {
   "cell_type": "code",
   "execution_count": 295,
   "id": "cffb6421-c4d6-4f44-85be-cece35fb035e",
   "metadata": {},
   "outputs": [
    {
     "ename": "TypeError",
     "evalue": "list.append() takes exactly one argument (2 given)",
     "output_type": "error",
     "traceback": [
      "\u001b[1;31m---------------------------------------------------------------------------\u001b[0m",
      "\u001b[1;31mTypeError\u001b[0m                                 Traceback (most recent call last)",
      "Input \u001b[1;32mIn [295]\u001b[0m, in \u001b[0;36m<cell line: 12>\u001b[1;34m()\u001b[0m\n\u001b[0;32m     10\u001b[0m m \u001b[38;5;241m=\u001b[39m \u001b[38;5;241m3\u001b[39m\n\u001b[0;32m     11\u001b[0m n \u001b[38;5;241m=\u001b[39m \u001b[38;5;241m3\u001b[39m\n\u001b[1;32m---> 12\u001b[0m Output \u001b[38;5;241m=\u001b[39m \u001b[43mCovert_to_2d\u001b[49m\u001b[43m(\u001b[49m\u001b[43mnums\u001b[49m\u001b[43m,\u001b[49m\u001b[43m \u001b[49m\u001b[43mm\u001b[49m\u001b[43m \u001b[49m\u001b[43m,\u001b[49m\u001b[43m \u001b[49m\u001b[43mn\u001b[49m\u001b[43m)\u001b[49m\n\u001b[0;32m     13\u001b[0m \u001b[38;5;28mprint\u001b[39m(Output)\n",
      "Input \u001b[1;32mIn [295]\u001b[0m, in \u001b[0;36mCovert_to_2d\u001b[1;34m(nums, m, n)\u001b[0m\n\u001b[0;32m      4\u001b[0m result \u001b[38;5;241m=\u001b[39m []\n\u001b[0;32m      5\u001b[0m \u001b[38;5;28;01mfor\u001b[39;00m _ \u001b[38;5;129;01min\u001b[39;00m \u001b[38;5;28mrange\u001b[39m(m):\n\u001b[1;32m----> 6\u001b[0m     \u001b[43mresult\u001b[49m\u001b[38;5;241;43m.\u001b[39;49m\u001b[43mappend\u001b[49m\u001b[43m(\u001b[49m\u001b[43m[\u001b[49m\u001b[38;5;241;43m0\u001b[39;49m\u001b[43m]\u001b[49m\u001b[43m \u001b[49m\u001b[43m,\u001b[49m\u001b[43m \u001b[49m\u001b[43mn\u001b[49m\u001b[43m)\u001b[49m\n\u001b[0;32m      7\u001b[0m \u001b[38;5;28;01mreturn\u001b[39;00m result\n",
      "\u001b[1;31mTypeError\u001b[0m: list.append() takes exactly one argument (2 given)"
     ]
    }
   ],
   "source": [
    "def Covert_to_2d(nums, m , n):\n",
    "    total_element = 0\n",
    "    \n",
    "    result = []\n",
    "    for _ in range(m):\n",
    "        result.append([0] , n)\n",
    "    return result\n",
    "\n",
    "nums = [1, 2, 3, 4, 5, 6, 7, 8, 9] \n",
    "m = 3\n",
    "n = 3\n",
    "Output = Covert_to_2d(nums, m , n)\n",
    "print(Output)"
   ]
  },
  {
   "cell_type": "code",
   "execution_count": null,
   "id": "7951e523-2d87-4037-927f-86f7277c7f49",
   "metadata": {},
   "outputs": [
    {
     "name": "stdout",
     "output_type": "stream",
     "text": [
      "[[1, 2, 3], [4, 5, 6], [7, 8, 9]]\n"
     ]
    }
   ],
   "source": [
    "def convert_to_2d(nums, m, n):\n",
    "    # Calculate the total number of elements required\n",
    "    total_elements = m * n\n",
    "    \n",
    "    # Create an empty 2D array filled with zeros\n",
    "    result = [[0 for _ in range(n)] for _ in range(m)]\n",
    "    \n",
    "    # Populate the 2D array with elements from the 1D array\n",
    "    for i in range(min(total_elements, len(nums))):\n",
    "        row = i // n\n",
    "        col = i % n\n",
    "        result[row][col] = nums[i]\n",
    "    \n",
    "    return result\n",
    "\n",
    "# Test the function\n",
    "nums1 = [1, 2, 3, 4, 5, 6, 7, 8, 9]\n",
    "m1, n1 = 3, 3\n",
    "output1 = convert_to_2d(nums1, m1, n1)\n",
    "print(output1)  # Expected output: [ [1, 2, 3], [4, 5, 6], [7, 8, 9] ]"
   ]
  },
  {
   "cell_type": "code",
   "execution_count": null,
   "id": "55d5cec8-c8a4-4628-b5d6-bc072127ab90",
   "metadata": {},
   "outputs": [
    {
     "name": "stdout",
     "output_type": "stream",
     "text": [
      "Input: [1, 4, 9, 10, 15]\n",
      "Output: True\n"
     ]
    }
   ],
   "source": [
    "#  Implement a function to check if an array of integers is sorted in either non-decreasing or non-increasing order. 💡\n",
    "\n",
    "# 🌟 Examples:\n",
    "\n",
    "# Input: [1, 4, 9, 10, 15]\n",
    "# Output: True\n",
    "def  is_sorted(arr):\n",
    "    increasing = True\n",
    "    decreasing = True\n",
    "    \n",
    "    for i in range( len(arr)-1 ):\n",
    "        if( Input[i] > Input[i + 1]):\n",
    "            increasing = False\n",
    "            break\n",
    "    for i in range( len(arr)-1 ):\n",
    "        if( Input[i] < Input[i+1]):\n",
    "            decreasing = False\n",
    "            break\n",
    "    return increasing or decreasing\n",
    "    \n",
    "Input = [1, 4, 9, 10, 15]\n",
    "print(\"Input:\", Input )\n",
    "print(\"Output:\", is_sorted(Input))\n"
   ]
  },
  {
   "cell_type": "code",
   "execution_count": null,
   "id": "b831b75b-30e2-43b8-b19c-ad5ac0334960",
   "metadata": {},
   "outputs": [],
   "source": []
  }
 ],
 "metadata": {
  "kernelspec": {
   "display_name": "Python 3",
   "language": "python",
   "name": "python3"
  },
  "language_info": {
   "codemirror_mode": {
    "name": "ipython",
    "version": 3
   },
   "file_extension": ".py",
   "mimetype": "text/x-python",
   "name": "python",
   "nbconvert_exporter": "python",
   "pygments_lexer": "ipython3",
   "version": "3.10.2"
  }
 },
 "nbformat": 4,
 "nbformat_minor": 5
}
