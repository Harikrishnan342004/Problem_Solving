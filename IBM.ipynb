{
 "cells": [
  {
   "cell_type": "code",
   "execution_count": null,
   "metadata": {},
   "outputs": [],
   "source": [
    "def closestNumbers(numbers):\n",
    "    # Sort the array\n",
    "    numbers.sort()\n",
    "    \n",
    "    # Initialize variables to track the minimum difference and result pairs\n",
    "    min_diff = float('inf')\n",
    "    \n",
    "    # Calculate the minimum difference between consecutive elements\n",
    "    for i in range(len(numbers) - 1):\n",
    "        diff = numbers[i + 1] - numbers[i]\n",
    "        if diff < min_diff:\n",
    "            min_diff = diff\n",
    "    \n",
    "    # Print pairs with the minimum difference\n",
    "    for i in range(len(numbers) - 1):\n",
    "        if numbers[i + 1] - numbers[i] == min_diff:\n",
    "            print(numbers[i], numbers[i + 1])\n",
    "\n",
    "# Main function to read input and call closestNumbers\n",
    "if _name_ == \"_main_\":\n",
    "    numbers_count = int(input().strip())\n",
    "    numbers = [int(input().strip()) for _ in range(numbers_count)]\n",
    "    closestNumbers(numbers)"
   ]
  },
  {
   "cell_type": "code",
   "execution_count": null,
   "metadata": {},
   "outputs": [],
   "source": [
    "def closestNumbers(numbers):\n",
    "    # Step 1: Sort the array\n",
    "    numbers.sort()\n",
    "    \n",
    "    # Step 2: Find the minimum absolute difference\n",
    "    min_diff = float('inf')\n",
    "    result_pairs = []\n",
    "    \n",
    "    for i in range(len(numbers) - 1):\n",
    "        diff = numbers[i + 1] - numbers[i]\n",
    "        if diff < min_diff:\n",
    "            min_diff = diff\n",
    "            result_pairs = [(numbers[i], numbers[i + 1])]\n",
    "        elif diff == min_diff:\n",
    "            result_pairs.append((numbers[i], numbers[i + 1]))\n",
    "    \n",
    "    # Step 3: Print all pairs with the minimum difference\n",
    "    for pair in result_pairs:\n",
    "        print(pair[0], pair[1])\n",
    "\n",
    "if _name_ == '_main_':\n",
    "    numbers_count = int(input().strip())\n",
    "    numbers = [int(input().strip()) for _ in range(numbers_count)]\n",
    "    closestNumbers(numbers)"
   ]
  },
  {
   "cell_type": "code",
   "execution_count": null,
   "metadata": {},
   "outputs": [],
   "source": [
    "def findMinimumCost(arr):\n",
    "    arr.sort()\n",
    "    median = arr[len(arr) // 2]\n",
    "    total_cost = sum(abs(a - median) for a in arr)\n",
    "    return total_cost\n",
    "\n",
    "if __name__ == '__main__':\n",
    "    import os\n",
    "    fptr = open(os.environ['OUTPUT_PATH'], 'w')\n",
    "    arr_count = int(input().strip())\n",
    "    arr = []\n",
    "    for _ in range(arr_count):\n",
    "        arr_item = int(input().strip())\n",
    "        arr.append(arr_item)\n",
    "    result = findMinimumCost(arr)\n",
    "    fptr.write(str(result) + '\\n')\n",
    "    fptr.close()\n"
   ]
  },
  {
   "cell_type": "code",
   "execution_count": null,
   "metadata": {},
   "outputs": [],
   "source": [
    "def findMinimumCost(arr):\n",
    "    arr.sort()\n",
    "    median = arr[len(arr) // 2]\n",
    "    total_cost = sum(abs(a - median) for a in arr)\n",
    "    return total_cost\n",
    "\n",
    "if __name__ == '__main__':\n",
    "    import os\n",
    "    fptr = open(os.environ['OUTPUT_PATH'], 'w')\n",
    "    arr_count = int(input().strip())\n",
    "    arr = []\n",
    "    for _ in range(arr_count):\n",
    "        arr_item = int(input().strip())\n",
    "        arr.append(arr_item)\n",
    "    result = findMinimumCost(arr)\n",
    "    fptr.write(str(result) + '\\n')\n",
    "    fptr.close()\n"
   ]
  },
  {
   "cell_type": "code",
   "execution_count": null,
   "metadata": {},
   "outputs": [],
   "source": [
    "def findMinimumCost(arr):\n",
    "    n = len(arr)\n",
    "    arr.sort()\n",
    "    median = arr[n // 2]\n",
    "    \n",
    "    total_cost = sum(abs(x - median) for x in arr)\n",
    "    \n",
    "    return total_cost\n",
    "\n",
    "if __name__ == '__main__':\n",
    "    fptr = open(os.environ['OUTPUT_PATH'], 'w')\n",
    "    \n",
    "    arr_count = int(input().strip())\n",
    "    arr = []\n",
    "    \n",
    "    for _ in range(arr_count):\n",
    "        arr_item = int(input().strip())\n",
    "        arr.append(arr_item)\n",
    "    \n",
    "    result = findMinimumCost(arr)\n",
    "    \n",
    "    fptr.write(str(result) + '\\n')\n",
    "    fptr.close()\n"
   ]
  },
  {
   "cell_type": "code",
   "execution_count": 4,
   "metadata": {},
   "outputs": [
    {
     "name": "stdout",
     "output_type": "stream",
     "text": [
      "3\n"
     ]
    }
   ],
   "source": [
    "def findMinimumCost(arr):\n",
    "    n = len(arr)\n",
    "    \n",
    "    # Sort the array to consider the median as the target value\n",
    "    arr.sort()\n",
    "    \n",
    "    # Choose the median as the target value to minimize the total cost\n",
    "    target = arr[n // 2]\n",
    "    \n",
    "    total_cost = 0\n",
    "    \n",
    "    # Calculate the total cost to make all elements equal to the target\n",
    "    for i in range(n):\n",
    "        total_cost += abs(arr[i] - target)\n",
    "    \n",
    "    return total_cost\n",
    "\n",
    "arr =  [1, 2, 3, 1, 2]\n",
    "Input = findMinimumCost(arr)\n",
    "print(Input)"
   ]
  },
  {
   "cell_type": "code",
   "execution_count": 14,
   "metadata": {},
   "outputs": [
    {
     "name": "stdout",
     "output_type": "stream",
     "text": [
      "5\n"
     ]
    }
   ],
   "source": [
    "def findMinimumCost(arr):\n",
    "    n = len(arr)\n",
    "    total_cost = 0\n",
    "    \n",
    "    # Step 1: Choose the prefix of length 3 and x = -2\n",
    "    for i in range(3):\n",
    "        arr[i] += -2\n",
    "    total_cost += abs(-2)\n",
    "    \n",
    "    # Step 2: Choose the prefix of length 4 and x = 1\n",
    "    for i in range(4):\n",
    "        arr[i] += 1\n",
    "    total_cost += abs(1)\n",
    "    \n",
    "    # Step 3: Choose the prefix of length 1 and x = 1\n",
    "    for i in range(1):\n",
    "        arr[i] += 1\n",
    "    total_cost += abs(1)\n",
    "    \n",
    "    # Step 4: Choose the prefix of length 2 and x = 1\n",
    "    for i in range(2):\n",
    "        arr[i] += 1\n",
    "    total_cost += abs(1)\n",
    "    \n",
    "    return total_cost\n",
    "\n",
    "\n",
    "arr = [1, 2, 3, 1, 2]  #Expected Output 5\n",
    "arr = [5 , 1 , 2 , 3 , 1 , 2 ]   #Expected Output 5\n",
    "arr = [10 , 1 , 2 , 3 , 4 , 5 , 6 , 7 , 8 , 9 ,10]   #Expected Output 9\n",
    "arr = [4 , 1 , 1  , 1  , 1]  #Expected Output 0\n",
    "result = findMinimumCost(arr)\n",
    "print(result)  # Output should be 5\n"
   ]
  },
  {
   "cell_type": "code",
   "execution_count": 15,
   "metadata": {},
   "outputs": [
    {
     "name": "stdout",
     "output_type": "stream",
     "text": [
      "4\n",
      "8\n",
      "45\n",
      "3\n"
     ]
    }
   ],
   "source": [
    "def findMinimumCost(arr):\n",
    "    n = len(arr)\n",
    "    target = max(set(arr), key=arr.count)  # The most frequent element in the array\n",
    "    \n",
    "    total_cost = 0\n",
    "    current = arr[0]\n",
    "    \n",
    "    for i in range(n):\n",
    "        diff = target - current\n",
    "        if diff != 0:\n",
    "            for j in range(i + 1):\n",
    "                arr[j] += diff\n",
    "            total_cost += abs(diff)\n",
    "        if i < n - 1:\n",
    "            current = arr[i + 1]\n",
    "\n",
    "    return total_cost\n",
    "\n",
    "# Test cases\n",
    "print(findMinimumCost([1, 2, 3, 1, 2]))  # Expected Output 5\n",
    "print(findMinimumCost([5, 1, 2, 3, 1, 2]))  # Expected Output 5\n",
    "print(findMinimumCost([10, 1, 2, 3, 4, 5, 6, 7, 8, 9, 10]))  # Expected Output 9\n",
    "print(findMinimumCost([4, 1, 1, 1, 1]))  # Expected Output 0\n"
   ]
  },
  {
   "cell_type": "code",
   "execution_count": 16,
   "metadata": {},
   "outputs": [
    {
     "name": "stdout",
     "output_type": "stream",
     "text": [
      "4\n",
      "8\n",
      "45\n",
      "3\n"
     ]
    }
   ],
   "source": [
    "def findMinimumCost(arr):\n",
    "    n = len(arr)\n",
    "    target = max(set(arr), key=arr.count)  # The most frequent element in the array\n",
    "    total_cost = 0\n",
    "\n",
    "    for i in range(n):\n",
    "        if arr[i] != target:\n",
    "            diff = target - arr[i]\n",
    "            for j in range(i + 1):\n",
    "                arr[j] += diff\n",
    "            total_cost += abs(diff)\n",
    "\n",
    "    return total_cost\n",
    "\n",
    "# Test cases\n",
    "print(findMinimumCost([1, 2, 3, 1, 2]))  # Expected Output 5\n",
    "print(findMinimumCost([5, 1, 2, 3, 1, 2]))  # Expected Output 5\n",
    "print(findMinimumCost([10, 1, 2, 3, 4, 5, 6, 7, 8, 9, 10]))  # Expected Output 9\n",
    "print(findMinimumCost([4, 1, 1, 1, 1]))  # Expected Output 0\n",
    " "
   ]
  },
  {
   "cell_type": "code",
   "execution_count": null,
   "metadata": {},
   "outputs": [],
   "source": [
    "def play_segments(coins):\n",
    "    p2 = 0\n",
    "    p1 = 0\n",
    "    \n",
    "    for coin in coins:\n",
    "        if coin == 1:\n",
    "            p2 += 1\n",
    "        else:\n",
    "            p2 -= 1\n",
    "    \n",
    "    if p1 > p2:\n",
    "        return 0\n",
    "    \n",
    "    for i in range(len(coins)):\n",
    "        if coins[i] == 1:\n",
    "            p1 += 1\n",
    "        else:\n",
    "            p2 += 1\n",
    "        \n",
    "        if p1 > p2:\n",
    "            return i + 1\n",
    "    \n",
    "    return len(coins)"
   ]
  },
  {
   "cell_type": "code",
   "execution_count": 21,
   "metadata": {},
   "outputs": [
    {
     "name": "stdout",
     "output_type": "stream",
     "text": [
      "The smallest segment length where Player 1's score exceeds Player 2's score is: 0\n"
     ]
    }
   ],
   "source": [
    "def play_segments(coins):\n",
    "    p2 = 0\n",
    "    p1 = 0\n",
    "    \n",
    "    for coin in coins:\n",
    "        if coin == 1:\n",
    "            p2 += 1\n",
    "        else:\n",
    "            p2 -= 1\n",
    "    \n",
    "    if p1 > p2:\n",
    "        return 0\n",
    "    \n",
    "    for i in range(len(coins)):\n",
    "        if coins[i] == 1:\n",
    "            p1 += 1\n",
    "        else:\n",
    "            p2 += 1\n",
    "        \n",
    "        if p1 > p2:\n",
    "            return i + 1\n",
    "    \n",
    "    return len(coins)\n",
    "\n",
    "# Example input\n",
    "coins =   [1, 0, 0, 1, 0] #[1, 1 , 0 ,1]  \n",
    "result = play_segments(coins)\n",
    "print(f\"The smallest segment length where Player 1's score exceeds Player 2's score is: {result}\")\n"
   ]
  }
 ],
 "metadata": {
  "kernelspec": {
   "display_name": "Python 3",
   "language": "python",
   "name": "python3"
  },
  "language_info": {
   "codemirror_mode": {
    "name": "ipython",
    "version": 3
   },
   "file_extension": ".py",
   "mimetype": "text/x-python",
   "name": "python",
   "nbconvert_exporter": "python",
   "pygments_lexer": "ipython3",
   "version": "3.10.2"
  }
 },
 "nbformat": 4,
 "nbformat_minor": 2
}
