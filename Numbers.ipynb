{
 "cells": [
  {
   "cell_type": "code",
   "execution_count": 6,
   "id": "34a5b992-eb52-4be1-9a4c-29e6d9613410",
   "metadata": {},
   "outputs": [
    {
     "name": "stdout",
     "output_type": "stream",
     "text": [
      "120\n"
     ]
    }
   ],
   "source": [
    "#factorial of the Number....\n",
    "def fact(N):\n",
    "    x = 1\n",
    "    for i in range(1, N+1):\n",
    "        x = x * i\n",
    "    return x\n",
    "N = 5\n",
    "Output = fact(5)\n",
    "print(Output)"
   ]
  },
  {
   "cell_type": "code",
   "execution_count": 9,
   "id": "957c4753-b9a3-4542-b5a0-883bd6cdb98d",
   "metadata": {},
   "outputs": [
    {
     "name": "stdout",
     "output_type": "stream",
     "text": [
      "120\n"
     ]
    }
   ],
   "source": [
    "#Factorial Number\n",
    "def fact(n):\n",
    "    if( n == 1  ):\n",
    "        return 1\n",
    "    else:\n",
    "        return n * fact(n-1)\n",
    "N = 5\n",
    "Output = fact(5)\n",
    "print(Output)"
   ]
  },
  {
   "cell_type": "code",
   "execution_count": 14,
   "id": "517c383d-c056-4944-bb73-652524c284e9",
   "metadata": {},
   "outputs": [
    {
     "name": "stdout",
     "output_type": "stream",
     "text": [
      "120\n"
     ]
    }
   ],
   "source": [
    "#Factorial Number\n",
    "def fact(n):\n",
    "    if n == 0:\n",
    "        return 1\n",
    "    while n:\n",
    "        return n * fact(n-1)\n",
    "    \n",
    "N = 5\n",
    "Output = fact(5)\n",
    "print(Output)\n"
   ]
  },
  {
   "cell_type": "code",
   "execution_count": 16,
   "id": "b995f6e7-4c8c-4ba2-b528-756d2991e6be",
   "metadata": {},
   "outputs": [
    {
     "name": "stdout",
     "output_type": "stream",
     "text": [
      "4\n"
     ]
    }
   ],
   "source": [
    "#Count the didgits recursion function\n",
    "def count_digit(Input):\n",
    "    if( Input // 10 == 0):\n",
    "        return 1\n",
    "    return 1 + count_digit(Input // 10)\n",
    "Input = 1010\n",
    "output = count_digit(Input)\n",
    "print(output)"
   ]
  },
  {
   "cell_type": "code",
   "execution_count": 19,
   "id": "4054d887-65cd-47a9-a24f-094f7e1d05e2",
   "metadata": {},
   "outputs": [
    {
     "name": "stdout",
     "output_type": "stream",
     "text": [
      "2550\n"
     ]
    }
   ],
   "source": [
    "#sum of one to hundred even numbers\n",
    "def sum_of_even(Input):\n",
    "    empty = 0\n",
    "    for i in range(0, Input+1):\n",
    "        if(i % 2 == 0):\n",
    "            empty += i\n",
    "    return empty\n",
    "\n",
    "Input = 100\n",
    "output = sum_of_even(Input)\n",
    "print(output)"
   ]
  },
  {
   "cell_type": "code",
   "execution_count": 21,
   "id": "a233ed32-f299-40b3-8f7a-b3cb021d9f9c",
   "metadata": {},
   "outputs": [
    {
     "name": "stdout",
     "output_type": "stream",
     "text": [
      "5\n"
     ]
    }
   ],
   "source": [
    "#Write a program to find HCF of two numbers by without using recursion.\n",
    "def  hcf(Input1 , Input2):\n",
    "    while Input2:\n",
    "        Input1 , Input2 = Input2, Input1 % Input2\n",
    "    return Input1\n",
    "\n",
    "Input1 = 70\n",
    "Input2 = 15\n",
    "output = hcf(Input1 , Input2)\n",
    "print(output)"
   ]
  },
  {
   "cell_type": "code",
   "execution_count": 1,
   "id": "7dd69f22-68e6-4125-9e18-b8d618e34674",
   "metadata": {},
   "outputs": [
    {
     "name": "stdout",
     "output_type": "stream",
     "text": [
      "5\n"
     ]
    }
   ],
   "source": [
    "#fibonacci series.....\n",
    "def fibonacci_series(n):\n",
    "    if(n<0):\n",
    "        print(\"Incorrect\")\n",
    "    elif n == 0:\n",
    "        return 0\n",
    "    elif n == 1 or n == 2:\n",
    "        return 1\n",
    "    else:\n",
    "        return fibonacci_series(n-1) +  fibonacci_series(n-2)\n",
    "print(fibonacci_series(5))\n"
   ]
  },
  {
   "cell_type": "code",
   "execution_count": 1,
   "id": "937c210e-82e9-4982-828b-012c4650caec",
   "metadata": {},
   "outputs": [
    {
     "name": "stdout",
     "output_type": "stream",
     "text": [
      "[0, 1, 1, 2, 3, 5, 8]\n"
     ]
    }
   ],
   "source": [
    "#Fibonacci series\n",
    "def  fibonacci_series(N):\n",
    "    if N <= 0:\n",
    "        return []\n",
    "    elif N == 1:\n",
    "        return [0,1]\n",
    "    elif N == 2:\n",
    "        return [ 0 , 1 , 1]\n",
    "    else:\n",
    "        series =  fibonacci_series(N -1)\n",
    "        series.append(series[-1] + series[-2])\n",
    "        return series\n",
    "\n",
    "N = 6\n",
    "Input = fibonacci_series(N)\n",
    "print(Input)\n"
   ]
  },
  {
   "cell_type": "code",
   "execution_count": 23,
   "id": "351d46c9-776f-485a-b535-758cee284fa8",
   "metadata": {},
   "outputs": [
    {
     "name": "stdout",
     "output_type": "stream",
     "text": [
      "True\n"
     ]
    }
   ],
   "source": [
    "#prime number program\n",
    "def prime(Input):\n",
    "    if(Input < 2):\n",
    "        return False\n",
    "    for i in range(2, int(Input**0.5)+1):\n",
    "        if( Input % i == 0 ):\n",
    "            return False\n",
    "    return True\n",
    "\n",
    "Input = 5\n",
    "output = prime(Input)\n",
    "print(output)"
   ]
  },
  {
   "cell_type": "code",
   "execution_count": 4,
   "id": "cf4f61b3-e607-4fc2-9741-5909482a8206",
   "metadata": {},
   "outputs": [
    {
     "data": {
      "text/plain": [
       "4"
      ]
     },
     "execution_count": 4,
     "metadata": {},
     "output_type": "execute_result"
    }
   ],
   "source": [
    "#sum of digits in a program\n"
   ]
  },
  {
   "cell_type": "code",
   "execution_count": null,
   "id": "bdd18c45-e79a-4bc1-9415-e2f31fc94c9d",
   "metadata": {},
   "outputs": [],
   "source": [
    "#given number is palindrome"
   ]
  },
  {
   "cell_type": "code",
   "execution_count": null,
   "id": "cdb46619-8c81-4e24-ae65-d3122f706ce2",
   "metadata": {},
   "outputs": [],
   "source": [
    "#leap  "
   ]
  }
 ],
 "metadata": {
  "kernelspec": {
   "display_name": "Python 3",
   "language": "python",
   "name": "python3"
  },
  "language_info": {
   "codemirror_mode": {
    "name": "ipython",
    "version": 3
   },
   "file_extension": ".py",
   "mimetype": "text/x-python",
   "name": "python",
   "nbconvert_exporter": "python",
   "pygments_lexer": "ipython3",
   "version": "3.10.2"
  }
 },
 "nbformat": 4,
 "nbformat_minor": 5
}
