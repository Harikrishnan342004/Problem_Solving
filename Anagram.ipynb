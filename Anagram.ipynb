{
 "cells": [
  {
   "cell_type": "code",
   "execution_count": 1,
   "metadata": {},
   "outputs": [
    {
     "name": "stdout",
     "output_type": "stream",
     "text": [
      "Anagram\n",
      " \n"
     ]
    }
   ],
   "source": [
    "#angram...\n",
    "def is_Anagram(s1, s2):\n",
    "    if( sorted(s1) == sorted(s2)):\n",
    "        print(\"Anagram\")\n",
    "    else:\n",
    "        print(\"Not Anagram\") \n",
    "    return \" \"\n",
    "s1 = \"listen\"\n",
    "s2 = \"silent\"\n",
    "Output = is_Anagram(s1, s2)\n",
    "print(Output)"
   ]
  },
  {
   "cell_type": "code",
   "execution_count": 19,
   "metadata": {},
   "outputs": [
    {
     "name": "stdout",
     "output_type": "stream",
     "text": [
      "Anagram\n",
      "None\n"
     ]
    }
   ],
   "source": [
    "def Is_Anagram(s1, s2):\n",
    "    if( len(s1) != len(s2) ):\n",
    "        print(\"Not Anagram\")\n",
    "    elif( sorted(s1) == sorted(s2)):\n",
    "        print(\"Anagram\")\n",
    "    else:\n",
    "        print(\"Not Anagram\")\n",
    "    return \n",
    "s1 = \"listen\"\n",
    "s2 = \"silent\"\n",
    "print(Is_Anagram(s1, s2))"
   ]
  },
  {
   "cell_type": "code",
   "execution_count": 20,
   "metadata": {},
   "outputs": [
    {
     "name": "stdout",
     "output_type": "stream",
     "text": [
      "['e', 'i', 'l', 'n', 's', 't']\n"
     ]
    }
   ],
   "source": [
    "def is_Anagram(s1, s2):\n",
    "    s = sorted(s1)\n",
    "    return s\n",
    "s1 = \"listen\"\n",
    "s2 = \"silent\"\n",
    "Output = is_Anagram(s1, s2)\n",
    "print(Output)"
   ]
  },
  {
   "cell_type": "code",
   "execution_count": 47,
   "metadata": {},
   "outputs": [
    {
     "name": "stdout",
     "output_type": "stream",
     "text": [
      "Not Anagram\n"
     ]
    }
   ],
   "source": [
    "def sorted_string(Input_string):\n",
    "    s_list = list(Input_string)\n",
    "    n = len(s_list)\n",
    "    for i in range(n):\n",
    "        #print(i)\n",
    "        for j in range(0 , n-i-1):\n",
    "            #print(j)\n",
    "            if( s_list[j] > s_list[j + 1] ):\n",
    "                s_list[j], s_list[j+1] = s_list[j+1] , s_list[j]\n",
    "    return ''.join(s_list)\n",
    "\n",
    "def sorted_string(Input_string2):\n",
    "    s_list = list(Input_string2)\n",
    "    n = len(s_list)\n",
    "    for i in range(n):\n",
    "        #print(i)\n",
    "        for j in range(0 , n-i-1):\n",
    "            #print(j)\n",
    "            if( s_list[j] > s_list[j + 1] ):\n",
    "                s_list[j], s_list[j+1] = s_list[j+1] , s_list[j]\n",
    "    return ''.join(s_list)\n",
    "\n",
    "\n",
    "Input_string1 = \"listen\"\n",
    "Input_string2 = \"iilent\"\n",
    "str1 = sorted_string(Input_string1)\n",
    "str2 = sorted_string(Input_string2)\n",
    "if( len(str1) != len(str2)):\n",
    "    print(\"Not Anagram\")\n",
    "elif( str1 == str2):\n",
    "    print(\"Anagram\")\n",
    "else:\n",
    "    print(\"Not Anagram\")\n"
   ]
  },
  {
   "cell_type": "code",
   "execution_count": 49,
   "metadata": {},
   "outputs": [
    {
     "name": "stdout",
     "output_type": "stream",
     "text": [
      "Anagram\n"
     ]
    }
   ],
   "source": [
    "def sorted_string(Input_string):\n",
    "    \n",
    "    s_list = list(Input_string)\n",
    "    n = len(s_list)\n",
    "    for i in range(n):\n",
    "        #print(i)\n",
    "        for j in range(0 , n-i-1):\n",
    "            #print(j)\n",
    "            if( s_list[j] > s_list[j + 1] ):\n",
    "                s_list[j], s_list[j+1] = s_list[j+1] , s_list[j]\n",
    "    return ''.join(s_list)\n",
    "\n",
    "Input_string1 = \"listen\"\n",
    "Input_string2 = \"silent\"\n",
    "str1 = sorted_string(Input_string1)\n",
    "str2 = sorted_string(Input_string2)\n",
    "if( len(str1) != len(str2)):\n",
    "    print(\"Not Anagram\")\n",
    "elif( str1 == str2):\n",
    "    print(\"Anagram\")\n",
    "else:\n",
    "    print(\"Not Anagram\")\n"
   ]
  },
  {
   "cell_type": "code",
   "execution_count": null,
   "metadata": {},
   "outputs": [],
   "source": []
  },
  {
   "cell_type": "code",
   "execution_count": 50,
   "metadata": {},
   "outputs": [
    {
     "name": "stdout",
     "output_type": "stream",
     "text": [
      "True\n"
     ]
    }
   ],
   "source": [
    "def is_Anagram(s1, s2):\n",
    "    #lenght checking\n",
    "    if( len(s1) != len(s2)):\n",
    "        return False\n",
    "    dic = { }\n",
    "\n",
    "    for char in s1:\n",
    "        # print(char)\n",
    "        dic[char] = dic.get(char,0) + 1 \n",
    "    for char in s2:\n",
    "        dic[char] = dic.get(char , 0) - 1\n",
    "    for count in dic.values():\n",
    "        if count != 0:\n",
    "            return False\n",
    "    return True\n",
    "s1 = \"listen\"\n",
    "s2 = \"silent\"\n",
    "Output = is_Anagram(s1, s2)\n",
    "print(Output)"
   ]
  },
  {
   "cell_type": "code",
   "execution_count": null,
   "metadata": {},
   "outputs": [],
   "source": []
  }
 ],
 "metadata": {
  "kernelspec": {
   "display_name": "Python 3",
   "language": "python",
   "name": "python3"
  },
  "language_info": {
   "codemirror_mode": {
    "name": "ipython",
    "version": 3
   },
   "file_extension": ".py",
   "mimetype": "text/x-python",
   "name": "python",
   "nbconvert_exporter": "python",
   "pygments_lexer": "ipython3",
   "version": "3.10.2"
  }
 },
 "nbformat": 4,
 "nbformat_minor": 2
}
