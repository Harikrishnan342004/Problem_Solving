{
 "cells": [
  {
   "cell_type": "code",
   "execution_count": 3,
   "id": "f88e9fa0-0ad4-45a1-9dbb-eb0970bff7f9",
   "metadata": {},
   "outputs": [
    {
     "name": "stdout",
     "output_type": "stream",
     "text": [
      "Enter the string =  67\n"
     ]
    },
    {
     "name": "stdout",
     "output_type": "stream",
     "text": [
      "that is odd number ....\n"
     ]
    }
   ],
   "source": [
    "n = int(input(\"Enter the  string = \"))\n",
    "\n",
    "if(n%2==0):\n",
    "    print(\"that is even number....\")\n",
    "else:\n",
    "    print(\"that is odd number ....\")\n",
    "    "
   ]
  },
  {
   "cell_type": "code",
   "execution_count": null,
   "id": "ce4bb507",
   "metadata": {},
   "outputs": [
    {
     "ename": "IndentationError",
     "evalue": "expected an indented block after 'if' statement on line 2 (2535982153.py, line 3)",
     "output_type": "error",
     "traceback": [
      "\u001b[1;36m  Input \u001b[1;32mIn [6]\u001b[1;36m\u001b[0m\n\u001b[1;33m    return\u001b[0m\n\u001b[1;37m    ^\u001b[0m\n\u001b[1;31mIndentationError\u001b[0m\u001b[1;31m:\u001b[0m expected an indented block after 'if' statement on line 2\n"
     ]
    }
   ],
   "source": [
    "def odd_even():\n",
    "    result = \"\"\n",
    "    if(Output%2 == 0):\n",
    "        result += \"Even\"\n",
    "    else:\n",
    "        result += \"Odd\"\n",
    "    return result\n",
    "Num = int(input(\"Enter the Number: \"))\n",
    "Output = Num\n",
    "print(Output)"
   ]
  },
  {
   "cell_type": "code",
   "execution_count": 24,
   "id": "d66b4fc9-d387-4d03-acf4-50478abd3199",
   "metadata": {},
   "outputs": [
    {
     "name": "stdout",
     "output_type": "stream",
     "text": [
      "[9, 2, 3, 4, 5, 6, 7, 8, 1]\n"
     ]
    }
   ],
   "source": [
    "a = [ 1,2,3,4,5,6,7,8,9]\n",
    "length_of_a = len(a)\n",
    "          \n",
    "first_element_in_list = a[0]\n",
    "\n",
    "last_element_in_list = a[length_of_a -1]\n",
    "\n",
    "\n",
    "a[length_of_a -1] =  first_element_in_list\n",
    "a[0] = last_element_in_list\n",
    "print(a)"
   ]
  },
  {
   "cell_type": "code",
   "execution_count": 4,
   "id": "466fffd7-265b-4c14-90ee-7f94a880236d",
   "metadata": {},
   "outputs": [
    {
     "name": "stdout",
     "output_type": "stream",
     "text": [
      "current Number = 1 previous Number =  0 sum =  1\n",
      "current Number = 2 previous Number =  1 sum =  3\n",
      "current Number = 3 previous Number =  2 sum =  5\n",
      "current Number = 4 previous Number =  3 sum =  7\n",
      "current Number = 5 previous Number =  4 sum =  9\n",
      "current Number = 6 previous Number =  5 sum =  11\n",
      "current Number = 7 previous Number =  6 sum =  13\n",
      "current Number = 8 previous Number =  7 sum =  15\n",
      "current Number = 9 previous Number =  8 sum =  17\n",
      "current Number = 10 previous Number =  9 sum =  19\n"
     ]
    }
   ],
   "source": [
    "previous_num = 0\n",
    "\n",
    "for i in range(1, 11):\n",
    "    x_sum = previous_num + i\n",
    "\n",
    "\n",
    "    print(\"current Number =\",i ,\"previous Number = \",  previous_num , \"sum = \", x_sum )\n",
    "\n",
    "    \n",
    "    previous_num = i"
   ]
  },
  {
   "cell_type": "code",
   "execution_count": null,
   "id": "12660e04-0272-4a6e-9102-68a79f60ec10",
   "metadata": {},
   "outputs": [],
   "source": [
    "#reverse a list ...\n",
    "output = [ ]\n",
    "length_for_list = int(input(\"Enter the lenght of the list=\"))\n",
    "\n",
    "for i in range(0, length_for_list):\n",
    "    print(\"Enter the number at index\",i)\n",
    "    value = int(input())\n",
    "    output.append(value)\n",
    "    \n",
    "print(output)\n",
    "output.reverse()\n",
    "print(output)\n"
   ]
  },
  {
   "cell_type": "code",
   "execution_count": null,
   "id": "24008e54-215f-4b24-abfc-24d2d44ad3eb",
   "metadata": {},
   "outputs": [],
   "source": [
    "#Turn Every item of list into its square ...\n",
    "Output = [ ]\n",
    "length_of_list = int(input(\"Enter the lenth of the list =\"))\n",
    "for i in range(0 , length_of_list):\n",
    "    print(\"Enter the Number at index\",i)\n",
    "    value = int(input())\n",
    "    Output.append(value)\n",
    "print(Output)\n",
    "Square = [ ]\n",
    "for i in Output:\n",
    "    Square.append(i*i)\n",
    "print(Square)\n",
    "    "
   ]
  },
  {
   "cell_type": "code",
   "execution_count": null,
   "id": "6fb72dde-be21-4730-8adc-ccc6530b2a28",
   "metadata": {},
   "outputs": [],
   "source": [
    "#Concatenation of two list \n",
    "list1 = [\"Hello\", \"take\"]\n",
    "list2 = [\"Dear\" , \"Sir\"]\n",
    "\n",
    "res = [x + y for x in list1 for y in list2]\n",
    "print(res)"
   ]
  },
  {
   "cell_type": "code",
   "execution_count": 1,
   "id": "0c41781d-40f3-4347-b83e-3e0f5c5a98ab",
   "metadata": {},
   "outputs": [
    {
     "name": "stdout",
     "output_type": "stream",
     "text": [
      "Enter the index value = 5\n"
     ]
    },
    {
     "name": "stdout",
     "output_type": "stream",
     "text": [
      "Enter the value at the index 0\n"
     ]
    },
    {
     "name": "stdout",
     "output_type": "stream",
     "text": [
      " 4\n"
     ]
    },
    {
     "name": "stdout",
     "output_type": "stream",
     "text": [
      "Enter the value at the index 1\n"
     ]
    },
    {
     "name": "stdout",
     "output_type": "stream",
     "text": [
      " 3\n"
     ]
    },
    {
     "name": "stdout",
     "output_type": "stream",
     "text": [
      "Enter the value at the index 2\n"
     ]
    },
    {
     "name": "stdout",
     "output_type": "stream",
     "text": [
      " 5\n"
     ]
    },
    {
     "name": "stdout",
     "output_type": "stream",
     "text": [
      "Enter the value at the index 3\n"
     ]
    },
    {
     "name": "stdout",
     "output_type": "stream",
     "text": [
      " 6\n"
     ]
    },
    {
     "name": "stdout",
     "output_type": "stream",
     "text": [
      "Enter the value at the index 4\n"
     ]
    },
    {
     "name": "stdout",
     "output_type": "stream",
     "text": [
      " 7\n"
     ]
    },
    {
     "name": "stdout",
     "output_type": "stream",
     "text": [
      "['4', '3', '5', '6', '7']\n",
      "['4', '3', '5', '6', '7']\n"
     ]
    }
   ],
   "source": [
    "Output = []\n",
    "Array_index_length = int(input(\"Enter the index value =\"))\n",
    "\n",
    "for i in range(0 , Array_index_length):\n",
    "    print(\"Enter the value at the index\", i)\n",
    "    value = input()\n",
    "    Output.append(value)\n",
    "print(Output)\n",
    "Newlist = []\n",
    "for x in filter(None , Output):\n",
    "    Newlist.append(x)\n",
    "print(Newlist)\n",
    "    "
   ]
  },
  {
   "cell_type": "code",
   "execution_count": null,
   "id": "2c50a367-b402-4432-8878-acc0668d0075",
   "metadata": {},
   "outputs": [],
   "source": [
    "Output = []\n",
    "list_length = int(input(\"Enter the value =\"))\n",
    "for i in range(0 , list_length):\n",
    "    print(\"Enter the value at the index =\", i)\n",
    "    value = input()\n",
    "    Output.append(value)\n",
    "print(Output)\n",
    "Output[2][2].append(7000)\n",
    "print(Output)"
   ]
  },
  {
   "cell_type": "code",
   "execution_count": 17,
   "id": "b22c9d7c-df99-4715-978a-44ab1528ece1",
   "metadata": {},
   "outputs": [
    {
     "name": "stdout",
     "output_type": "stream",
     "text": [
      "1\n",
      "6\n"
     ]
    }
   ],
   "source": [
    "# Min & Max number from array .....\n",
    "\n",
    "sample_array = [1 , 2 , 3 , 4 , 5 , 6 ]\n",
    "\n",
    "min = sample_array[0]\n",
    "max = sample_array[0]\n",
    "\n",
    "for i in sample_array:\n",
    "    if(i < min ):\n",
    "        min = i\n",
    "    if(i>max):\n",
    "        max = i\n",
    "print(min)\n",
    "print(max)"
   ]
  },
  {
   "cell_type": "code",
   "execution_count": 12,
   "id": "103c5b46-7990-46eb-8e96-edfec565f4ff",
   "metadata": {},
   "outputs": [
    {
     "name": "stdout",
     "output_type": "stream",
     "text": [
      "['Mike', 'Emma', 'Kelly', 'Brad']\n"
     ]
    }
   ],
   "source": [
    "# Remove  Empty String from Array --\n",
    "\n",
    "def  Remove_Empty_String(Input_Array):\n",
    "    Empty = []\n",
    "    for i in Input_Array:\n",
    "        if(i != ''):\n",
    "            Empty += [i]\n",
    "    return Empty\n",
    "\n",
    "Input_Array =  [\"Mike\", \"\", \"Emma\", \"Kelly\", \"\", \"Brad\"]\n",
    "Output = Remove_Empty_String(Input_Array)\n",
    "print(Output)"
   ]
  },
  {
   "cell_type": "code",
   "execution_count": null,
   "id": "dcc1855b-b63f-4284-a894-38d7fc267e0e",
   "metadata": {},
   "outputs": [
    {
     "name": "stdout",
     "output_type": "stream",
     "text": [
      "Enter the value 1= 00\n",
      "Enter the value 2= 99\n"
     ]
    },
    {
     "name": "stdout",
     "output_type": "stream",
     "text": [
      "0\n"
     ]
    }
   ],
   "source": [
    "#Given two integer numbers return their product only if the product isequal to or lower than 1000, else return their sum.\n",
    "def  myfunction(number1 , number2):\n",
    "    product = number1 * number2\n",
    "    sum = number1 + number2\n",
    "    if( product <= 1000 ):\n",
    "        return product\n",
    "    else:\n",
    "        return sum\n",
    "number1 = int(input(\"Enter the value 1=\"))\n",
    "number2 = int(input(\"Enter the value 2=\"))\n",
    "\n",
    "output = myfunction(number1 , number2)\n",
    "print(output)"
   ]
  }
 ],
 "metadata": {
  "kernelspec": {
   "display_name": "Python 3",
   "language": "python",
   "name": "python3"
  },
  "language_info": {
   "codemirror_mode": {
    "name": "ipython",
    "version": 3
   },
   "file_extension": ".py",
   "mimetype": "text/x-python",
   "name": "python",
   "nbconvert_exporter": "python",
   "pygments_lexer": "ipython3",
   "version": "3.10.2"
  }
 },
 "nbformat": 4,
 "nbformat_minor": 5
}
