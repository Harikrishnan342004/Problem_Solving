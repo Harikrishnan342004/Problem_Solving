{
 "cells": [
  {
   "cell_type": "code",
   "execution_count": 10,
   "id": "ce4bb507",
   "metadata": {},
   "outputs": [
    {
     "name": "stdout",
     "output_type": "stream",
     "text": [
      "Odd\n"
     ]
    }
   ],
   "source": [
    "def odd_even(Num):\n",
    "    result = \"\"\n",
    "    if(Num %2 == 0):\n",
    "        result += \"Even\"\n",
    "    else:\n",
    "        result += \"Odd\"\n",
    "    return result\n",
    "Num = int(input(\"Enter the Number: \"))\n",
    "Output = odd_even(Num)\n",
    "print(Output)"
   ]
  },
  {
   "cell_type": "code",
   "execution_count": 21,
   "id": "a136a91d",
   "metadata": {},
   "outputs": [
    {
     "name": "stdout",
     "output_type": "stream",
     "text": [
      "[10, 9, 8, 7, 6, 5, 4, 3, 2, 1]\n"
     ]
    }
   ],
   "source": [
    "def reverse_the_arr(Input):\n",
    "    result = []\n",
    "    for i in Input:\n",
    "        result =  [i] + result\n",
    "    return result\n",
    "Input = [1,2,3,4,5,6,7,8,9,10]\n",
    "output = reverse_the_arr(Input)\n",
    "print(output)"
   ]
  },
  {
   "cell_type": "code",
   "execution_count": 24,
   "id": "d66b4fc9-d387-4d03-acf4-50478abd3199",
   "metadata": {},
   "outputs": [
    {
     "name": "stdout",
     "output_type": "stream",
     "text": [
      "[9, 2, 3, 4, 5, 6, 7, 8, 1]\n"
     ]
    }
   ],
   "source": [
    "a = [ 1,2,3,4,5,6,7,8,9]\n",
    "length_of_a = len(a)          \n",
    "first_element_in_list = a[0]\n",
    "last_element_in_list = a[length_of_a -1]\n",
    "a[length_of_a -1] =  first_element_in_list\n",
    "a[0] = last_element_in_list\n",
    "print(a)"
   ]
  },
  {
   "cell_type": "code",
   "execution_count": 29,
   "id": "3dc7a2fe",
   "metadata": {},
   "outputs": [
    {
     "name": "stdout",
     "output_type": "stream",
     "text": [
      "[9, 2, 3, 4, 5, 6, 7, 8, 1]\n"
     ]
    }
   ],
   "source": [
    "def changine_elements(Input):\n",
    "    result = []\n",
    "    First_element = Input[0]\n",
    "    last_element  = Input[len(Input)-1]\n",
    "\n",
    "    Input[0] = last_element\n",
    "    Input[len(Input)-1] = First_element\n",
    "    result += Input\n",
    "    return result\n",
    "\n",
    "Input = [ 1,2,3,4,5,6,7,8,9]\n",
    "Output = changine_elements(Input)\n",
    "print(Output)"
   ]
  },
  {
   "cell_type": "code",
   "execution_count": 30,
   "id": "466fffd7-265b-4c14-90ee-7f94a880236d",
   "metadata": {},
   "outputs": [
    {
     "name": "stdout",
     "output_type": "stream",
     "text": [
      "current Number = 1 previous Number =  0 sum =  1\n",
      "current Number = 2 previous Number =  1 sum =  3\n",
      "current Number = 3 previous Number =  2 sum =  5\n",
      "current Number = 4 previous Number =  3 sum =  7\n",
      "current Number = 5 previous Number =  4 sum =  9\n",
      "current Number = 6 previous Number =  5 sum =  11\n",
      "current Number = 7 previous Number =  6 sum =  13\n",
      "current Number = 8 previous Number =  7 sum =  15\n",
      "current Number = 9 previous Number =  8 sum =  17\n",
      "current Number = 10 previous Number =  9 sum =  19\n"
     ]
    }
   ],
   "source": [
    "previous_num = 0\n",
    "\n",
    "for i in range(1, 11):\n",
    "    x_sum = previous_num + i\n",
    "\n",
    "\n",
    "    print(\"current Number =\",i ,\"previous Number = \",  previous_num , \"sum = \", x_sum )\n",
    "\n",
    "    \n",
    "    previous_num = i"
   ]
  },
  {
   "cell_type": "code",
   "execution_count": 32,
   "id": "24008e54-215f-4b24-abfc-24d2d44ad3eb",
   "metadata": {},
   "outputs": [
    {
     "ename": "ValueError",
     "evalue": "invalid literal for int() with base 10: ''",
     "output_type": "error",
     "traceback": [
      "\u001b[1;31m---------------------------------------------------------------------------\u001b[0m",
      "\u001b[1;31mValueError\u001b[0m                                Traceback (most recent call last)",
      "Input \u001b[1;32mIn [32]\u001b[0m, in \u001b[0;36m<cell line: 3>\u001b[1;34m()\u001b[0m\n\u001b[0;32m      1\u001b[0m \u001b[38;5;66;03m#Turn Every item of list into its square ...\u001b[39;00m\n\u001b[0;32m      2\u001b[0m Output \u001b[38;5;241m=\u001b[39m [ ]\n\u001b[1;32m----> 3\u001b[0m length_of_list \u001b[38;5;241m=\u001b[39m \u001b[38;5;28;43mint\u001b[39;49m\u001b[43m(\u001b[49m\u001b[38;5;28;43minput\u001b[39;49m\u001b[43m(\u001b[49m\u001b[38;5;124;43m\"\u001b[39;49m\u001b[38;5;124;43mEnter the lenth of the list =\u001b[39;49m\u001b[38;5;124;43m\"\u001b[39;49m\u001b[43m)\u001b[49m\u001b[43m)\u001b[49m\n\u001b[0;32m      4\u001b[0m \u001b[38;5;28;01mfor\u001b[39;00m i \u001b[38;5;129;01min\u001b[39;00m \u001b[38;5;28mrange\u001b[39m(\u001b[38;5;241m0\u001b[39m , length_of_list):\n\u001b[0;32m      5\u001b[0m     \u001b[38;5;28mprint\u001b[39m(\u001b[38;5;124m\"\u001b[39m\u001b[38;5;124mEnter the Number at index\u001b[39m\u001b[38;5;124m\"\u001b[39m,i)\n",
      "\u001b[1;31mValueError\u001b[0m: invalid literal for int() with base 10: ''"
     ]
    }
   ],
   "source": [
    "#Turn Every item of list into its square ...\n",
    "Output = [ ]\n",
    "length_of_list = int(input(\"Enter the lenth of the list =\"))\n",
    "for i in range(0 , length_of_list):\n",
    "    print(\"Enter the Number at index\",i)\n",
    "    value = int(input())\n",
    "    Output.append(value)\n",
    "print(Output)\n",
    "Square = [ ]\n",
    "for i in Output:\n",
    "    Square.append(i*i)\n",
    "print(Square)\n",
    "    "
   ]
  },
  {
   "cell_type": "code",
   "execution_count": null,
   "id": "6fb72dde-be21-4730-8adc-ccc6530b2a28",
   "metadata": {},
   "outputs": [
    {
     "name": "stdout",
     "output_type": "stream",
     "text": [
      "['HelloDear', 'HelloSir', 'takeDear', 'takeSir']\n"
     ]
    }
   ],
   "source": [
    "#Concatenation of two list \n",
    "list1 = [\"Hello\", \"take\"]\n",
    "list2 = [\"Dear\" , \"Sir\"]\n",
    "\n",
    "res = [x + y for x in list1 for y in list2]\n",
    "print(res)"
   ]
  },
  {
   "cell_type": "code",
   "execution_count": null,
   "id": "0c41781d-40f3-4347-b83e-3e0f5c5a98ab",
   "metadata": {},
   "outputs": [
    {
     "name": "stdout",
     "output_type": "stream",
     "text": [
      "Enter the index value = 5\n"
     ]
    },
    {
     "name": "stdout",
     "output_type": "stream",
     "text": [
      "Enter the value at the index 0\n"
     ]
    },
    {
     "name": "stdout",
     "output_type": "stream",
     "text": [
      " 4\n"
     ]
    },
    {
     "name": "stdout",
     "output_type": "stream",
     "text": [
      "Enter the value at the index 1\n"
     ]
    },
    {
     "name": "stdout",
     "output_type": "stream",
     "text": [
      " 3\n"
     ]
    },
    {
     "name": "stdout",
     "output_type": "stream",
     "text": [
      "Enter the value at the index 2\n"
     ]
    },
    {
     "name": "stdout",
     "output_type": "stream",
     "text": [
      " 5\n"
     ]
    },
    {
     "name": "stdout",
     "output_type": "stream",
     "text": [
      "Enter the value at the index 3\n"
     ]
    },
    {
     "name": "stdout",
     "output_type": "stream",
     "text": [
      " 6\n"
     ]
    },
    {
     "name": "stdout",
     "output_type": "stream",
     "text": [
      "Enter the value at the index 4\n"
     ]
    },
    {
     "name": "stdout",
     "output_type": "stream",
     "text": [
      " 7\n"
     ]
    },
    {
     "name": "stdout",
     "output_type": "stream",
     "text": [
      "['4', '3', '5', '6', '7']\n",
      "['4', '3', '5', '6', '7']\n"
     ]
    }
   ],
   "source": [
    "Output = []\n",
    "Array_index_length = int(input(\"Enter the index value =\"))\n",
    "\n",
    "for i in range(0 , Array_index_length):\n",
    "    print(\"Enter the value at the index\", i)\n",
    "    value = input()\n",
    "    Output.append(value)\n",
    "print(Output)\n",
    "Newlist = []\n",
    "for x in filter(None , Output):\n",
    "    Newlist.append(x)\n",
    "print(Newlist)\n",
    "    "
   ]
  },
  {
   "cell_type": "code",
   "execution_count": null,
   "id": "2c50a367-b402-4432-8878-acc0668d0075",
   "metadata": {},
   "outputs": [],
   "source": [
    "Output = []\n",
    "list_length = int(input(\"Enter the value =\"))\n",
    "for i in range(0 , list_length):\n",
    "    print(\"Enter the value at the index =\", i)\n",
    "    value = input()\n",
    "    Output.append(value)\n",
    "print(Output)\n",
    "Output[2][2].append(7000)\n",
    "print(Output)"
   ]
  },
  {
   "cell_type": "code",
   "execution_count": null,
   "id": "b22c9d7c-df99-4715-978a-44ab1528ece1",
   "metadata": {},
   "outputs": [
    {
     "name": "stdout",
     "output_type": "stream",
     "text": [
      "1\n",
      "6\n"
     ]
    }
   ],
   "source": [
    "# Min & Max number from array .....\n",
    "\n",
    "sample_array = [1 , 2 , 3 , 4 , 5 , 6 ]\n",
    "\n",
    "min = sample_array[0]\n",
    "max = sample_array[0]\n",
    "\n",
    "for i in sample_array:\n",
    "    if(i < min ):\n",
    "        min = i\n",
    "    if(i>max):\n",
    "        max = i\n",
    "print(min)\n",
    "print(max)"
   ]
  },
  {
   "cell_type": "code",
   "execution_count": null,
   "id": "103c5b46-7990-46eb-8e96-edfec565f4ff",
   "metadata": {},
   "outputs": [
    {
     "name": "stdout",
     "output_type": "stream",
     "text": [
      "['Mike', 'Emma', 'Kelly', 'Brad']\n"
     ]
    }
   ],
   "source": [
    "# Remove  Empty String from Array --\n",
    "\n",
    "def  Remove_Empty_String(Input_Array):\n",
    "    Empty = []\n",
    "    for i in Input_Array:\n",
    "        if(i != ''):\n",
    "            Empty += [i]\n",
    "    return Empty\n",
    "\n",
    "Input_Array =  [\"Mike\", \"\", \"Emma\", \"Kelly\", \"\", \"Brad\"]\n",
    "Output = Remove_Empty_String(Input_Array)\n",
    "print(Output)"
   ]
  },
  {
   "cell_type": "code",
   "execution_count": null,
   "id": "dcc1855b-b63f-4284-a894-38d7fc267e0e",
   "metadata": {},
   "outputs": [
    {
     "name": "stdout",
     "output_type": "stream",
     "text": [
      "Enter the value 1= 00\n",
      "Enter the value 2= 99\n"
     ]
    },
    {
     "name": "stdout",
     "output_type": "stream",
     "text": [
      "0\n"
     ]
    }
   ],
   "source": [
    "#Given two integer numbers return their product only if the product isequal to or lower than 1000, else return their sum.\n",
    "def  myfunction(number1 , number2):\n",
    "    product = number1 * number2\n",
    "    sum = number1 + number2\n",
    "    if( product <= 1000 ):\n",
    "        return product\n",
    "    else:\n",
    "        return sum\n",
    "number1 = int(input(\"Enter the value 1=\"))\n",
    "number2 = int(input(\"Enter the value 2=\"))\n",
    "\n",
    "output = myfunction(number1 , number2)\n",
    "print(output)"
   ]
  }
 ],
 "metadata": {
  "kernelspec": {
   "display_name": "Python 3",
   "language": "python",
   "name": "python3"
  },
  "language_info": {
   "codemirror_mode": {
    "name": "ipython",
    "version": 3
   },
   "file_extension": ".py",
   "mimetype": "text/x-python",
   "name": "python",
   "nbconvert_exporter": "python",
   "pygments_lexer": "ipython3",
   "version": "3.10.2"
  }
 },
 "nbformat": 4,
 "nbformat_minor": 5
}
