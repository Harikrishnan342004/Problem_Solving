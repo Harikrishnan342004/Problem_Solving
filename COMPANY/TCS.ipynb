{
 "cells": [
  {
   "cell_type": "code",
   "execution_count": 6,
   "metadata": {},
   "outputs": [
    {
     "name": "stdout",
     "output_type": "stream",
     "text": [
      "Yes\n"
     ]
    }
   ],
   "source": [
    "#Prime sum\n",
    "def Prime_sum(N):\n",
    "    if (N % 2 == 0):\n",
    "        return 'Yes'\n",
    "    N = N - 2\n",
    "    for i in range(2, N):\n",
    "        if( N % i == 0 ) :\n",
    "            return \"No\"\n",
    "    else:\n",
    "        return \"Yes\"\n",
    "N = 34\n",
    "Input = Prime_sum(N)\n",
    "print(Input)"
   ]
  },
  {
   "cell_type": "code",
   "execution_count": 1,
   "metadata": {},
   "outputs": [
    {
     "name": "stdout",
     "output_type": "stream",
     "text": [
      "9\n"
     ]
    }
   ],
   "source": [
    "#the problem of determining the su of the cubes of the all numbers in the range from a to b.\n",
    "def sum_of_cubes(a , b):\n",
    "    total_sum = 0\n",
    "    for i in range(a, b+1):\n",
    "        total_sum += i ** 3\n",
    "    return total_sum\n",
    "a = 1\n",
    "b = 2\n",
    "x = sum_of_cubes(a , b)\n",
    "print(x)"
   ]
  },
  {
   "cell_type": "code",
   "execution_count": null,
   "metadata": {},
   "outputs": [],
   "source": []
  },
  {
   "cell_type": "code",
   "execution_count": 4,
   "metadata": {},
   "outputs": [
    {
     "name": "stdout",
     "output_type": "stream",
     "text": [
      "3\n",
      "6\n",
      "10\n",
      "11\n",
      "11\n"
     ]
    }
   ],
   "source": [
    "# Contiguous Subarray\n",
    "# Given an array of integers, find the\n",
    "# contiguous subarray (containing at\n",
    "# least one number) which has the\n",
    "# largest sum and return its sum.\n",
    "# Example 1:\n",
    "# Input: array = [-2, 1, -3, 4, -1, 2, 1, -5, 4]\n",
    "# Output: 6\n",
    "# Example 2:\n",
    "# Input: array = [1, 2, 3, 4, 5]\n",
    "# Output:15\n",
    "\n",
    "def max_subarray_sum(arr):\n",
    "    max_current = max_global = arr[0] \n",
    "\n",
    "    for i in range(1, len(arr)):\n",
    "        max_current = max(arr[i], max_current + arr[i])\n",
    "        #print(max_current)\n",
    "\n",
    "        if max_current > max_global:\n",
    "            max_global = max_current\n",
    "    return max_global\n",
    "arr = [1, 2, 3, 4 ,1]\n",
    "print(max_subarray_sum(arr))"
   ]
  },
  {
   "cell_type": "code",
   "execution_count": 21,
   "metadata": {},
   "outputs": [
    {
     "name": "stdout",
     "output_type": "stream",
     "text": [
      "3\n"
     ]
    }
   ],
   "source": [
    "#sum of unique elements in an array\n",
    "def sum_of_unique_num(array):\n",
    "    result = 0\n",
    "    for i in range(len(array)):\n",
    "        if( array[i] not in array[:i] and array[i] not in array[i+1 : ]):\n",
    "            result += array[i]\n",
    "    return result\n",
    "\n",
    "array = [1 , 3 , 2 , 3 ]\n",
    "print(sum_of_unique_num(array))"
   ]
  },
  {
   "cell_type": "code",
   "execution_count": 22,
   "metadata": {},
   "outputs": [
    {
     "name": "stdout",
     "output_type": "stream",
     "text": [
      "1\n"
     ]
    }
   ],
   "source": [
    "#sum of unique elements in an array\n",
    "def sum_of_unique_num(array):\n",
    "    result = 0\n",
    "    for i in range(len(array)):\n",
    "        if array[i] not in array[:i] and array[i] not in array[i+1:]:\n",
    "            result += array[i]\n",
    "    return result\n",
    "\n",
    "array = [1 , 3 , 2 , 3 , 2 ]\n",
    "print(sum_of_unique_num(array))"
   ]
  },
  {
   "cell_type": "code",
   "execution_count": 37,
   "metadata": {},
   "outputs": [
    {
     "name": "stdout",
     "output_type": "stream",
     "text": [
      "20\n"
     ]
    }
   ],
   "source": [
    "def sum_of_unique_num(array):\n",
    "    dic = {}\n",
    "    for i in array:\n",
    "        if( i in dic ):\n",
    "            dic[i] += 1\n",
    "        else:\n",
    "            dic[i] = 1\n",
    "    result_sum = 0\n",
    "    for j in dic:\n",
    "        if(dic[j] == 1):\n",
    "            result_sum += j\n",
    "    return result_sum\n",
    "    \n",
    "array = [1 , 3 , 2 , 3 , 2 , 9 , 10]\n",
    "print(sum_of_unique_num(array))"
   ]
  },
  {
   "cell_type": "code",
   "execution_count": 38,
   "metadata": {},
   "outputs": [
    {
     "name": "stdout",
     "output_type": "stream",
     "text": [
      "3\n",
      "2\n",
      "[3, 2]\n"
     ]
    }
   ],
   "source": [
    "#Find duplicate in array by using set...\n",
    "def find_duplicates(arr):\n",
    "    duplicates = []\n",
    "    seen = set()\n",
    "\n",
    "    for num in arr:\n",
    "        if num in seen:\n",
    "            print(num)\n",
    "            if num not in duplicates:\n",
    "                #print(num)\n",
    "                duplicates.append(num)\n",
    "        else:\n",
    "            seen.add(num)\n",
    "    \n",
    "    return duplicates\n",
    "\n",
    "array = [1, 3, 2, 3, 2]\n",
    "duplicates = find_duplicates(array)\n",
    "print(duplicates)\n"
   ]
  },
  {
   "cell_type": "code",
   "execution_count": 39,
   "metadata": {},
   "outputs": [
    {
     "name": "stdout",
     "output_type": "stream",
     "text": [
      "[1, 3, 2]\n"
     ]
    }
   ],
   "source": [
    "#Find duplicate in array by using dictorary...\n",
    "def find_duplicates(array):\n",
    "    dic = {}\n",
    "    for i in array:\n",
    "        if( i in dic ):\n",
    "            dic[i] += 1\n",
    "        else:\n",
    "            dic[i] = 1\n",
    "    result = []\n",
    "    for j in dic:\n",
    "        if( dic[j] != 1 ):\n",
    "            result.append(j)\n",
    "    return result\n",
    "array = [1, 3, 2, 3, 2 , 1]\n",
    "duplicates = find_duplicates(array)\n",
    "print(duplicates)"
   ]
  }
 ],
 "metadata": {
  "kernelspec": {
   "display_name": "Python 3",
   "language": "python",
   "name": "python3"
  },
  "language_info": {
   "codemirror_mode": {
    "name": "ipython",
    "version": 3
   },
   "file_extension": ".py",
   "mimetype": "text/x-python",
   "name": "python",
   "nbconvert_exporter": "python",
   "pygments_lexer": "ipython3",
   "version": "3.10.2"
  }
 },
 "nbformat": 4,
 "nbformat_minor": 2
}
