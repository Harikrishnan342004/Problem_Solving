{
 "cells": [
  {
   "cell_type": "code",
   "execution_count": 1,
   "metadata": {},
   "outputs": [
    {
     "name": "stdout",
     "output_type": "stream",
     "text": [
      "3\n"
     ]
    }
   ],
   "source": [
    "#Find the NonRepeatedChar in string\n",
    "def nonRepeatedChar(compString):\n",
    "    char_count = {}\n",
    "     # Create a dictionary to count the frequency of each character\n",
    "     \n",
    "    for char in compString:\n",
    "        if( char in char_count):\n",
    "            char_count[char] += 1\n",
    "        else:\n",
    "            char_count[char] = 1\n",
    "        \n",
    "    non_repeated_count = 0\n",
    "\n",
    "    for char in char_count:\n",
    "        if char_count[char] == 1:\n",
    "            non_repeated_count += 1\n",
    "    return non_repeated_count   \n",
    "\n",
    " # Test case 1: General case with repeated and non-repeated characters\n",
    "input_str1 = \"aabbe\"\n",
    "# 'c', 'd', and 'e' are non-repeated characters\n",
    "print(nonRepeatedChar(input_str1))  # Output: 3"
   ]
  },
  {
   "cell_type": "code",
   "execution_count": 3,
   "metadata": {},
   "outputs": [
    {
     "name": "stdout",
     "output_type": "stream",
     "text": [
      "3\n"
     ]
    }
   ],
   "source": [
    "#Find the RepeatedChar in string\n",
    "def RepeatedChar(input_str2):\n",
    "    dic = {}\n",
    "    for i in input_str2:\n",
    "        if i in dic:\n",
    "            dic[i] += 1\n",
    "        else:\n",
    "            dic[i] = 1\n",
    "    result_count = 0\n",
    "    for char in dic:\n",
    "        if dic[char] != 1:\n",
    "            result_count += 1\n",
    "    return result_count\n",
    "\n",
    "\n",
    "input_str2 = \"aabbcccde\"\n",
    "x = RepeatedChar(input_str2)\n",
    "print(x)"
   ]
  }
 ],
 "metadata": {
  "kernelspec": {
   "display_name": "Python 3",
   "language": "python",
   "name": "python3"
  },
  "language_info": {
   "codemirror_mode": {
    "name": "ipython",
    "version": 3
   },
   "file_extension": ".py",
   "mimetype": "text/x-python",
   "name": "python",
   "nbconvert_exporter": "python",
   "pygments_lexer": "ipython3",
   "version": "3.10.2"
  }
 },
 "nbformat": 4,
 "nbformat_minor": 2
}
