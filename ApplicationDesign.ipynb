{
 "cells": [
  {
   "cell_type": "code",
   "execution_count": null,
   "id": "fb3ab535-9acd-4f04-a979-3a28ffab925b",
   "metadata": {},
   "outputs": [
    {
     "name": "stdout",
     "output_type": "stream",
     "text": [
      "Welcome to Ticket Reservation System\n",
      "\n",
      "\n",
      "1. Book Ticket \n",
      " 2.Cancel Ticket \n",
      " 3.Print PNR Details \n",
      " 4.Exit\n"
     ]
    },
    {
     "name": "stdin",
     "output_type": "stream",
     "text": [
      "Enter Passenger choice:  3\n"
     ]
    },
    {
     "name": "stdout",
     "output_type": "stream",
     "text": [
      "Passengers with confirmed tickests:\n",
      "Passenger on waiting list:\n",
      "\n",
      "1. Book Ticket \n",
      " 2.Cancel Ticket \n",
      " 3.Print PNR Details \n",
      " 4.Exit\n"
     ]
    },
    {
     "name": "stdin",
     "output_type": "stream",
     "text": [
      "Enter Passenger choice:  1\n",
      "Enter passenger name:  Hari\n"
     ]
    },
    {
     "name": "stdout",
     "output_type": "stream",
     "text": [
      "Ticket Booked\n",
      "\n",
      "1. Book Ticket \n",
      " 2.Cancel Ticket \n",
      " 3.Print PNR Details \n",
      " 4.Exit\n"
     ]
    },
    {
     "name": "stdin",
     "output_type": "stream",
     "text": [
      "Enter Passenger choice:  3\n"
     ]
    },
    {
     "name": "stdout",
     "output_type": "stream",
     "text": [
      "Passengers with confirmed tickests:\n",
      "Hari\n",
      "Passenger on waiting list:\n",
      "\n",
      "1. Book Ticket \n",
      " 2.Cancel Ticket \n",
      " 3.Print PNR Details \n",
      " 4.Exit\n"
     ]
    },
    {
     "name": "stdin",
     "output_type": "stream",
     "text": [
      "Enter Passenger choice:  2\n",
      "enter passenger name:  Hari\n"
     ]
    },
    {
     "name": "stdout",
     "output_type": "stream",
     "text": [
      "Passenger not found\n",
      "\n",
      "1. Book Ticket \n",
      " 2.Cancel Ticket \n",
      " 3.Print PNR Details \n",
      " 4.Exit\n"
     ]
    }
   ],
   "source": [
    "class Train:           #Two classs are definded in this program one is class Train ......... \n",
    "    #Tha contain capacity , passengers, waiting_list\n",
    "    def __init__(self, capacity = 5):\n",
    "        self.capacity = capacity\n",
    "        self.passengers = []\n",
    "        self.waiting_list = []\n",
    "\n",
    "        # Attributes and methods of the classes are encapsulated within their respective classes.\n",
    "        #  For example, capacity, passengers,\n",
    "        #  and waiting_list are encapsulated within the Train class.\n",
    "    \n",
    "    def book_ticket(self, passenger):\n",
    "        if ( len(self.passengers) < self.capacity):\n",
    "            self.passengers.append(passenger)\n",
    "            print(\"Ticket Booked\")\n",
    "        else:\n",
    "            self.waiting_list.append(passenger)\n",
    "            print(\"Train is full. Added to waiting list\")\n",
    "    \n",
    "    def cancel_ticket(self, passenger):\n",
    "        if passenger in self.passengers:\n",
    "            self.passengers.remove(passenger)\n",
    "            print(\"Cannceled\")\n",
    "        elif passenger in self.waiting_list:\n",
    "            self.passengers.remove(passenger)\n",
    "            print(\"Cannceled from waiting list\")\n",
    "        else:\n",
    "            print(\"Passenger not found\")\n",
    "\n",
    "\n",
    "    def print_pnr_details(self):\n",
    "        print(\"Passengers with confirmed tickests:\")\n",
    "        for passenger in self.passengers:\n",
    "            print(passenger.name)\n",
    "        print(\"Passenger on waiting list:\")\n",
    "        for Passenger in self.waiting_list:\n",
    "            print(passenger.name)\n",
    "\n",
    "\n",
    "    \n",
    "class Passenger:    # Another class is Passengers that contain passenger name Attributes\n",
    "    def __init__(self, name):\n",
    "        self.name = name\n",
    "\n",
    "\n",
    "def main():\n",
    "    train = Train()\n",
    "    print(\"Welcome to Ticket Reservation System\\n\")\n",
    "    \n",
    "    while True:\n",
    "        print(\"\\n1. Book Ticket \\n 2.Cancel Ticket \\n 3.Print PNR Details \\n 4.Exit\")\n",
    "        choice = input(\"Enter Passenger choice: \")\n",
    "\n",
    "        if choice == \"1\":\n",
    "            name = input(\"Enter passenger name: \")\n",
    "            passenger = Passenger(name)\n",
    "            train.book_ticket(passenger)\n",
    "        \n",
    "        elif choice == \"2\":\n",
    "            name = input(\"enter passenger name: \")\n",
    "            passenger = Passenger(name)\n",
    "            train.cancel_ticket(passenger)\n",
    "        elif choice == \"3\":\n",
    "            train.print_pnr_details()\n",
    "        elif choice == \"4\":\n",
    "            print(\"Exiting...\")\n",
    "        else:\n",
    "            print(\"Invalid choice. Please enter a valid option\")\n",
    "\n",
    "\n",
    "\n",
    "if __name__ == \"__main__\":\n",
    "    main()\n"
   ]
  },
  {
   "cell_type": "code",
   "execution_count": null,
   "id": "504dda9f-96ce-43e6-84b5-d48e85e8b1f1",
   "metadata": {},
   "outputs": [
    {
     "name": "stdout",
     "output_type": "stream",
     "text": [
      "  |   |  \n",
      "---------\n",
      "  |   |  \n",
      "---------\n",
      "  |   |  \n"
     ]
    }
   ],
   "source": [
    "def print_board(board):\n",
    "    for i in range(0, 9, 3):\n",
    "        print(\" | \".join(board[i:i+3]))\n",
    "        if i < 6:\n",
    "            print(\"-\" * 9)\n",
    "\n",
    "def check_winner(board, player):\n",
    "    winning_combinations = [\n",
    "        [0, 1, 2], [3, 4, 5], [6, 7, 8],  # rows\n",
    "        [0, 3, 6], [1, 4, 7], [2, 5, 8],  # columns\n",
    "        [0, 4, 8], [2, 4, 6]              # diagonals\n",
    "    ]\n",
    "    for combo in winning_combinations:\n",
    "        if all(board[i] == player for i in combo):\n",
    "            return True\n",
    "    return False\n",
    "\n",
    "def is_board_full(board):\n",
    "    return \" \" not in board\n",
    "\n",
    "def main():\n",
    "    board = [\" \"]*9\n",
    "    players = ['X', 'O']\n",
    "    current_player = 0\n",
    "\n",
    "    while True:\n",
    "        print_board(board)\n",
    "        move = int(input(f\"Player {players[current_player]}, enter your move (0-8): \"))\n",
    "        if board[move] != \" \":\n",
    "            print(\"That cell is already taken. Try again.\")\n",
    "            continue\n",
    "\n",
    "        board[move] = players[current_player]\n",
    "\n",
    "        if check_winner(board, players[current_player]):\n",
    "            print_board(board)\n",
    "            print(f\"Player {players[current_player]} wins!\")\n",
    "            break\n",
    "        elif is_board_full(board):\n",
    "            print_board(board)\n",
    "            print(\"It's a tie!\")\n",
    "            break\n",
    "\n",
    "        current_player = (current_player + 1) % 2\n",
    "\n",
    "if __name__ == \"__main__\":\n",
    "    main()\n",
    " \n"
   ]
  },
  {
   "cell_type": "code",
   "execution_count": null,
   "id": "66a82855-a68e-4be0-bff4-75b3cddf0c53",
   "metadata": {},
   "outputs": [],
   "source": [
    "class Train:\n",
    "    def __init__(self, capacity = 3):\n",
    "        self.capacity = capacity\n",
    "        self.passengers = []\n",
    "        self.waiting_list = []\n",
    "    \n",
    "    def book_Ticket(self, passenger):\n",
    "        if( len(self.passengers) < self.capacity ):\n",
    "                self.passengers.append(passenger)\n",
    "                print(\"Ticket Booked\")\n",
    "        else: \n",
    "            self.waiting_list.append(passenger)\n",
    "            print(\"It is added to waiting list\")\n",
    "            \n",
    "         \n",
    "        \n",
    "    def Cancel_Ticket(self, passenger):\n",
    "        if( passenger in self.passengers ):\n",
    "            self.passengers.remove(passenger)\n",
    "        elif( passenger in self.waiting_list ):\n",
    "            self.waiting_list.remove(passenger)\n",
    "        else:\n",
    "            print(\"Invalid name\")\n",
    "        \n",
    "    def Pnr_chenk(self ):\n",
    "        print(\"Ticket Booked Persons:\")\n",
    "        for passenger in self.passengers:\n",
    "            print(passenger.name)\n",
    "        print(\"Waiting List Booked Person:\")\n",
    "        for passenger in self.waiting_list:\n",
    "            print(passenger.name)\n",
    "            \n",
    "            \n",
    "class Passenger:\n",
    "    def __init__(self, name):\n",
    "        self.name = name\n",
    "\n",
    "def main():\n",
    "    train = Train()\n",
    "    while True:\n",
    "        print(\"Welcome to Railway reservation system\")\n",
    "        print(\"\\n 1.Book Ticket \\n 2.Cancel Ticket \\n 3.Check PNR \\n 4.Exit\")\n",
    "    \n",
    "     #choice.........................\n",
    "        choice = int(input(\"Enter the choice\"))\n",
    "    \n",
    "        if( choice == 1 ):\n",
    "            name = input(\"Enter the name = \")\n",
    "            passenger = Passenger(name)\n",
    "            train.book_Ticket(passenger)\n",
    "        elif (choice == 2):\n",
    "            name = input(\"Enter the name=\")\n",
    "            passenger = Passenger(name)\n",
    "            train.Cancel_Ticket(passenger)\n",
    "        elif( choice ==3 ):\n",
    "            train.Pnr_chenk()\n",
    "        elif( choice == 4 ):\n",
    "            print(\"Exiting..........\")\n",
    "        else:\n",
    "            print(\"Invalid choices \")\n",
    "    \n",
    "if __name__ == \"__main__\":\n",
    "    main()"
   ]
  }
 ],
 "metadata": {
  "kernelspec": {
   "display_name": "Python 3 (ipykernel)",
   "language": "python",
   "name": "python3"
  },
  "language_info": {
   "codemirror_mode": {
    "name": "ipython",
    "version": 3
   },
   "file_extension": ".py",
   "mimetype": "text/x-python",
   "name": "python",
   "nbconvert_exporter": "python",
   "pygments_lexer": "ipython3",
   "version": "3.10.2"
  }
 },
 "nbformat": 4,
 "nbformat_minor": 5
}
