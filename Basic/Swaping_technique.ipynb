{
 "cells": [
  {
   "cell_type": "code",
   "execution_count": null,
   "metadata": {},
   "outputs": [
    {
     "name": "stdout",
     "output_type": "stream",
     "text": [
      "0 1\n"
     ]
    }
   ],
   "source": [
    "✅ So, generally 5 main techniques:\n",
    "\n",
    "1)Tuple unpacking\n",
    "\n",
    "2)Temporary variable\n",
    "\n",
    "3)Arithmetic (+, -)\n",
    "\n",
    "4)Arithmetic (*, /)\n",
    "\n",
    "5)Bitwise XOR"
   ]
  },
  {
   "cell_type": "code",
   "execution_count": 34,
   "metadata": {},
   "outputs": [
    {
     "name": "stdout",
     "output_type": "stream",
     "text": [
      "0 1\n"
     ]
    }
   ],
   "source": [
    "#Swap numbers with Temporary variable\n",
    "a = 1\n",
    "b = 0\n",
    "temp = a\n",
    "a = b\n",
    "b = temp\n",
    "print(a , b)"
   ]
  },
  {
   "cell_type": "code",
   "execution_count": 35,
   "metadata": {},
   "outputs": [
    {
     "name": "stdout",
     "output_type": "stream",
     "text": [
      "a= 0 , b= 1\n"
     ]
    }
   ],
   "source": [
    "#Swap number without temp variable\n",
    "a = 1\n",
    "b = 0\n",
    "a = a + b\n",
    "b = a - b\n",
    "a = a - b\n",
    "print(f\"a= {a} , b= {b}\")"
   ]
  },
  {
   "cell_type": "code",
   "execution_count": 36,
   "metadata": {},
   "outputs": [
    {
     "name": "stdout",
     "output_type": "stream",
     "text": [
      "a =  2 b= 1\n",
      "a = 1, b = 2\n"
     ]
    }
   ],
   "source": [
    "#swap number using tuple unpacking\n",
    "a = 2\n",
    "b = 1\n",
    "print(\"a = \", a , \"b=\" , b)\n",
    "a , b = b , a\n",
    "print(\"a = {}, b = {}\".format(a , b))"
   ]
  },
  {
   "cell_type": "code",
   "execution_count": 39,
   "metadata": {},
   "outputs": [
    {
     "name": "stdout",
     "output_type": "stream",
     "text": [
      "a =  2 b= 1\n",
      "a = 1, b = 2\n"
     ]
    }
   ],
   "source": [
    "# Swaping using XOR operator\n",
    "a = 2\n",
    "b = 1\n",
    "print(\"a = \", a , \"b=\" , b)\n",
    "a = a ^ b\n",
    "b = a ^ b\n",
    "a = a ^ b\n",
    "print(\"a = {}, b = {}\".format(a , b))"
   ]
  },
  {
   "cell_type": "code",
   "execution_count": null,
   "metadata": {},
   "outputs": [],
   "source": []
  }
 ],
 "metadata": {
  "kernelspec": {
   "display_name": "Python 3",
   "language": "python",
   "name": "python3"
  },
  "language_info": {
   "codemirror_mode": {
    "name": "ipython",
    "version": 3
   },
   "file_extension": ".py",
   "mimetype": "text/x-python",
   "name": "python",
   "nbconvert_exporter": "python",
   "pygments_lexer": "ipython3",
   "version": "3.10.2"
  }
 },
 "nbformat": 4,
 "nbformat_minor": 2
}
