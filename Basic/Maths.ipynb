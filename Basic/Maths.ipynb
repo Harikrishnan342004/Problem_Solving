{
 "cells": [
  {
   "cell_type": "code",
   "execution_count": 1,
   "id": "9c671ace",
   "metadata": {},
   "outputs": [
    {
     "name": "stdout",
     "output_type": "stream",
     "text": [
      "4\n"
     ]
    }
   ],
   "source": [
    "#python Power CalCulation..\n",
    "x = 2 * 2 \n",
    "print(x)"
   ]
  },
  {
   "cell_type": "code",
   "execution_count": 2,
   "id": "a3d42a2b",
   "metadata": {},
   "outputs": [
    {
     "name": "stdout",
     "output_type": "stream",
     "text": [
      "4\n"
     ]
    }
   ],
   "source": [
    "#python for loop Power Calculation\n",
    "def power(a,b):\n",
    "    result = 1\n",
    "    for _ in range(b):\n",
    "        result *= a\n",
    "    return result\n",
    "print(power(2 , 2))"
   ]
  }
 ],
 "metadata": {
  "kernelspec": {
   "display_name": "Python 3",
   "language": "python",
   "name": "python3"
  },
  "language_info": {
   "codemirror_mode": {
    "name": "ipython",
    "version": 3
   },
   "file_extension": ".py",
   "mimetype": "text/x-python",
   "name": "python",
   "nbconvert_exporter": "python",
   "pygments_lexer": "ipython3",
   "version": "3.10.2"
  }
 },
 "nbformat": 4,
 "nbformat_minor": 5
}
