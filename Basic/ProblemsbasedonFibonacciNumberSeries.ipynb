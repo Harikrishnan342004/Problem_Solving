{
 "cells": [
  {
   "cell_type": "code",
   "execution_count": 8,
   "id": "739f8a00",
   "metadata": {},
   "outputs": [
    {
     "name": "stdout",
     "output_type": "stream",
     "text": [
      "4\n",
      "[0, 1, 1, 2]\n"
     ]
    }
   ],
   "source": [
    "# fibonacci series\n",
    "def fibonacci(n):\n",
    "    series = [ ]\n",
    "    total = 0\n",
    "    a , b = 0 , 1\n",
    "    for _ in range(n):\n",
    "        series.append(a)\n",
    "        a , b =  b , a+b\n",
    "    for i in series:\n",
    "        total += i\n",
    "    print(total)\n",
    "    return series\n",
    "n = 4\n",
    "print(fibonacci(n))"
   ]
  },
  {
   "cell_type": "code",
   "execution_count": 9,
   "id": "91716083",
   "metadata": {},
   "outputs": [],
   "source": [
    "#"
   ]
  }
 ],
 "metadata": {
  "kernelspec": {
   "display_name": "Python 3",
   "language": "python",
   "name": "python3"
  },
  "language_info": {
   "codemirror_mode": {
    "name": "ipython",
    "version": 3
   },
   "file_extension": ".py",
   "mimetype": "text/x-python",
   "name": "python",
   "nbconvert_exporter": "python",
   "pygments_lexer": "ipython3",
   "version": "3.10.2"
  }
 },
 "nbformat": 4,
 "nbformat_minor": 5
}
