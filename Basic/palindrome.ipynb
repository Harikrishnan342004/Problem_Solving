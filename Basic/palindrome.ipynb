{
 "cells": [
  {
   "cell_type": "code",
   "execution_count": 6,
   "metadata": {},
   "outputs": [
    {
     "name": "stdout",
     "output_type": "stream",
     "text": [
      "Yes\n"
     ]
    }
   ],
   "source": [
    "def Palindrome(Input):\n",
    "    Lenght = len(Input)\n",
    "    for i in range(0 , Lenght//2 ):\n",
    "        if( Input[i] != Input[Lenght - i - 1]):\n",
    "            return \"NO\"\n",
    "    return \"Yes\"\n",
    "Input = input(\"Enter the Palindrome\")\n",
    "output = Palindrome(Input)\n",
    "print(output)"
   ]
  }
 ],
 "metadata": {
  "kernelspec": {
   "display_name": "Python 3",
   "language": "python",
   "name": "python3"
  },
  "language_info": {
   "codemirror_mode": {
    "name": "ipython",
    "version": 3
   },
   "file_extension": ".py",
   "mimetype": "text/x-python",
   "name": "python",
   "nbconvert_exporter": "python",
   "pygments_lexer": "ipython3",
   "version": "3.10.2"
  }
 },
 "nbformat": 4,
 "nbformat_minor": 2
}
