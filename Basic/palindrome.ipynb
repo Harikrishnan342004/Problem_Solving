{
 "cells": [
  {
   "cell_type": "code",
   "execution_count": 1,
   "metadata": {},
   "outputs": [
    {
     "name": "stdout",
     "output_type": "stream",
     "text": [
      "yes\n"
     ]
    }
   ],
   "source": [
    "def Palindrome(Input):\n",
    "    Length = len(Input) #length of input\n",
    "    for i in range(0 , Length//2):\n",
    "        if( Input[i] != Input[Length - i - 1]):\n",
    "            return \"No\"\n",
    "    return \"yes\"\n",
    "\n",
    "Input = input(\"Enter the Palindrome String\")\n",
    "print(Palindrome(Input))"
   ]
  },
  {
   "cell_type": "code",
   "execution_count": 2,
   "metadata": {},
   "outputs": [
    {
     "name": "stdout",
     "output_type": "stream",
     "text": [
      "yes\n"
     ]
    }
   ],
   "source": [
    "def palindrome(Input):\n",
    "    return \"yes\" if(Input == Input[::-1]) else \"no\"\n",
    "\n",
    "Input = input(\"Enter the Palindrome String\")\n",
    "print(Palindrome(Input))\n",
    "\n",
    "# Time → O(n) (because [::-1] creates a reversed copy)\n",
    "# Space → O(n) (because of the extra reversed string)\n",
    "    "
   ]
  },
  {
   "cell_type": "code",
   "execution_count": 5,
   "metadata": {},
   "outputs": [
    {
     "name": "stdout",
     "output_type": "stream",
     "text": [
      "Yes\n"
     ]
    }
   ],
   "source": [
    "#Lambda Function\n",
    "\n",
    "Palindrome = lambda Input : \"Yes\" if[Input == Input[::-1]] else \"No\"\n",
    "Input = input(\"Enter the Palindrome String\")\n",
    "print(Palindrome(Input))"
   ]
  },
  {
   "cell_type": "code",
   "execution_count": null,
   "metadata": {},
   "outputs": [],
   "source": []
  }
 ],
 "metadata": {
  "kernelspec": {
   "display_name": "Python 3",
   "language": "python",
   "name": "python3"
  },
  "language_info": {
   "codemirror_mode": {
    "name": "ipython",
    "version": 3
   },
   "file_extension": ".py",
   "mimetype": "text/x-python",
   "name": "python",
   "nbconvert_exporter": "python",
   "pygments_lexer": "ipython3",
   "version": "3.10.2"
  }
 },
 "nbformat": 4,
 "nbformat_minor": 2
}
