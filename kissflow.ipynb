{
 "cells": [
  {
   "cell_type": "code",
   "execution_count": 18,
   "id": "b4337f3c-b9eb-4f29-a6f7-47d993690e30",
   "metadata": {},
   "outputs": [
    {
     "name": "stdout",
     "output_type": "stream",
     "text": [
      "iraH\n"
     ]
    }
   ],
   "source": [
    "#reverse the string...\n",
    "def reverse(string):\n",
    "    empty = \"\"\n",
    "    for i in string:\n",
    "        #print(i)\n",
    "        empty = i + empty\n",
    "    return empty\n",
    "string = \"Hari\"\n",
    "Output = reverse(string)\n",
    "print(Output)"
   ]
  },
  {
   "cell_type": "code",
   "execution_count": 74,
   "id": "1cbb3f4c-5371-4030-851d-595f9272b01c",
   "metadata": {},
   "outputs": [
    {
     "name": "stdout",
     "output_type": "stream",
     "text": [
      "iraH\n"
     ]
    }
   ],
   "source": [
    "#reverse the string...\n",
    "def reverse(string):\n",
    "    empty = \"\"\n",
    "    for i in range(len(string)-1,-1,  -1):\n",
    "        #print(i)\n",
    "        empty += string[i] \n",
    "    return empty\n",
    "string = \"Hari\"\n",
    "Output = reverse(string)\n",
    "print(Output)"
   ]
  },
  {
   "cell_type": "code",
   "execution_count": 75,
   "id": "67bd4743-9f93-4183-b311-0789f2b998c5",
   "metadata": {},
   "outputs": [
    {
     "name": "stdout",
     "output_type": "stream",
     "text": [
      " iraH\n"
     ]
    }
   ],
   "source": [
    "#reverse the string...\n",
    "def reverse(string):\n",
    "    empty = \" \"\n",
    "    empty += string[::-1]\n",
    "    # for i in string[::-1]:\n",
    "    #     empty += i\n",
    "    return empty\n",
    "    \n",
    "string = \"Hari\"\n",
    "Output = reverse(string)\n",
    "print(Output)"
   ]
  },
  {
   "cell_type": "code",
   "execution_count": 76,
   "id": "1fe84e62-e3be-42c8-876a-c37e14dc7cfa",
   "metadata": {},
   "outputs": [
    {
     "name": "stdout",
     "output_type": "stream",
     "text": [
      " Harikshn\n"
     ]
    }
   ],
   "source": [
    "#remove duplicate.........\n",
    "def Duplicate(S):\n",
    "    result = \" \"\n",
    "    for i in S:\n",
    "        if( i not in result ):\n",
    "            result += i\n",
    "    return result\n",
    "S = \"Harikrishnan\"\n",
    "Output = Duplicate(S)\n",
    "print(Output)"
   ]
  },
  {
   "cell_type": "code",
   "execution_count": 130,
   "id": "11383df5-dfea-4696-a69c-1e3de570c8da",
   "metadata": {},
   "outputs": [
    {
     "name": "stdout",
     "output_type": "stream",
     "text": [
      "irnskha\n"
     ]
    }
   ],
   "source": [
    "#remove duplicate.........\n",
    "def  Duplicate(S):\n",
    "    result = \"\"\n",
    "    sett = set(S)\n",
    "    for i in sett:\n",
    "        #print(i)\n",
    "        result = result + i\n",
    "    return result\n",
    "S = \"arikrishnan\"\n",
    "Output = Duplicate(S)\n",
    "print(Output)"
   ]
  },
  {
   "cell_type": "code",
   "execution_count": 131,
   "id": "f2ac7de9",
   "metadata": {},
   "outputs": [
    {
     "name": "stdout",
     "output_type": "stream",
     "text": [
      " HaK\n"
     ]
    }
   ],
   "source": [
    "#remove duplicates from string\n",
    "def duplicate(S):\n",
    "    result = \" \"\n",
    "    for i in S:\n",
    "        if( i not in result ):\n",
    "            result += i\n",
    "    return result \n",
    "S = \"HaaaK\"\n",
    "output = duplicate(S)\n",
    "print(output)"
   ]
  },
  {
   "cell_type": "code",
   "execution_count": 132,
   "id": "01ff23b2-da40-4b3b-8160-ececad0f535a",
   "metadata": {},
   "outputs": [
    {
     "name": "stdout",
     "output_type": "stream",
     "text": [
      "abcbab\n"
     ]
    }
   ],
   "source": [
    "#Remove Consiquence Duplicate value from the strings   #Array Method\n",
    "def Remove_Duplicates(Input): \n",
    "    result = []\n",
    "    \n",
    "    for i in range(len(Input)):\n",
    "        if( i+1 < len(Input) and  Input[i] == Input[i + 1] ):\n",
    "            continue\n",
    "        result.append(Input[i])\n",
    "    return  \"\".join(result)\n",
    "Input = \"aabbccbaab\"\n",
    "Output = Remove_Duplicates(Input)\n",
    "print(Output)"
   ]
  },
  {
   "cell_type": "code",
   "execution_count": 172,
   "id": "40e076f3",
   "metadata": {},
   "outputs": [
    {
     "name": "stdout",
     "output_type": "stream",
     "text": [
      "abcbab\n"
     ]
    }
   ],
   "source": [
    "#Remove Consiquence Duplicate value from the strings   #Array Method\n",
    "def Remove_Duplicates(Input):\n",
    "    result = []\n",
    "    for i in range(len(Input)):\n",
    "        if( i+1 < len(Input) and Input[i] == Input[i + 1] ):\n",
    "            continue\n",
    "        result.append(Input[i])\n",
    "    return \"\".join(result)\n",
    "Input = \"aabbccbaab\"\n",
    "Output = Remove_Duplicates(Input)\n",
    "print(Output)"
   ]
  },
  {
   "cell_type": "code",
   "execution_count": 199,
   "id": "1cae7738-1e93-494d-b84e-37564c5b8940",
   "metadata": {},
   "outputs": [
    {
     "name": "stdout",
     "output_type": "stream",
     "text": [
      "abcbagb\n"
     ]
    }
   ],
   "source": [
    "#Remove Consiquence Duplicate value from the strings   #Array Method\n",
    "def Remove_Duplicates(Input): \n",
    "    result = \"\"\n",
    "    for i in range(len(Input)):\n",
    "        if( i+1 < len(Input) and Input[i] == Input[i + 1] ):\n",
    "            continue\n",
    "        result += Input[i]\n",
    "    return result\n",
    "\n",
    "Input = \"aabbccbaagb\"\n",
    "Output = Remove_Duplicates(Input)\n",
    "print(Output)"
   ]
  },
  {
   "cell_type": "code",
   "execution_count": 196,
   "id": "36f1f5f4-b26a-446c-9a7d-8d25dc9b57cc",
   "metadata": {},
   "outputs": [
    {
     "name": "stdout",
     "output_type": "stream",
     "text": [
      "bbccbb\n"
     ]
    }
   ],
   "source": [
    "#Remove vowels from string...\n",
    "def  Remove_Vowels(Input):\n",
    "    result = \"\"\n",
    "    vowels = \"aeiou\"\n",
    "    for i in Input:\n",
    "        if(i not in vowels):\n",
    "            result += i\n",
    "    return result\n",
    "\n",
    "Input = \"aabbccbaab\"\n",
    "Output = Remove_Vowels(Input)\n",
    "print(Output)"
   ]
  },
  {
   "cell_type": "code",
   "execution_count": 197,
   "id": "cbdbae8c-80f0-40cf-8f95-3f482180e08c",
   "metadata": {},
   "outputs": [
    {
     "name": "stdout",
     "output_type": "stream",
     "text": [
      "4\n"
     ]
    }
   ],
   "source": [
    "#Array Num distance\n",
    "def  Array_dis(Input):\n",
    "    if start<0 or final >= len(Input) or final < start:\n",
    "        return \"Invalid indices\"\n",
    "    \n",
    "    distance = final - start\n",
    "    return distance\n",
    "    \n",
    "Input = [2,3,4,5,6,7,88,56,89]\n",
    "start = 2\n",
    "final = 6\n",
    "Output = Array_dis(Input)\n",
    "print(Output)   #Output is 4 "
   ]
  },
  {
   "cell_type": "code",
   "execution_count": 198,
   "id": "7d4ff234-720b-40e6-a19c-c850299e0371",
   "metadata": {},
   "outputs": [
    {
     "name": "stdout",
     "output_type": "stream",
     "text": [
      "30\n"
     ]
    }
   ],
   "source": [
    "#sum\n",
    "def sum(Input):\n",
    "    result = 0\n",
    "    for i in range(1, Input+1):\n",
    "        if( i % 2 == 0 and i % 5 == 0):\n",
    "            #print(i)\n",
    "            result = result +  i\n",
    "    return result\n",
    "Input = 20\n",
    "Output = sum(Input)\n",
    "print(Output)"
   ]
  },
  {
   "cell_type": "code",
   "execution_count": 189,
   "id": "34d0ef0c-41aa-4d1b-86a7-0becbb22e31f",
   "metadata": {},
   "outputs": [
    {
     "name": "stdout",
     "output_type": "stream",
     "text": [
      "None\n"
     ]
    }
   ],
   "source": [
    "def solve(Input):\n",
    "    input_str = str(Input)\n",
    "    l = len(input_str)\n",
    "    \n",
    "    min_value = (input_str, -1 , -1)\n",
    "    \n",
    "    for i in range(l):\n",
    "        #print(i)\n",
    "        for j in range(l):\n",
    "            #print(j)\n",
    "            if(i == j):\n",
    "                continue\n",
    "    \n",
    "Input = 8881\n",
    "Output = solve(Input)\n",
    "print(Output)"
   ]
  },
  {
   "cell_type": "code",
   "execution_count": 190,
   "id": "d29f3949-bd97-4a97-9256-4d9cdbe01108",
   "metadata": {},
   "outputs": [
    {
     "name": "stdout",
     "output_type": "stream",
     "text": [
      "[1888, 3, 0]\n"
     ]
    }
   ],
   "source": [
    "def solve(input1):\n",
    "    # Convert input1 to a string to facilitate manipulation\n",
    "    input_str = str(input1)\n",
    "    l = len(input_str)\n",
    "    \n",
    "    # Initialize min as a tuple to hold the minimum value found and its associated indices\n",
    "    min_value = (input_str, -1, -1) # (smallest number, original index, new index)\n",
    "    \n",
    "    # Iterate over all possible pairs of positions (i, j) to move a digit\n",
    "    for i in range(l):\n",
    "        for j in range(l):\n",
    "            if i == j:\n",
    "                continue\n",
    "            \n",
    "            # Form the new number by removing the digit at position i and inserting it at position j\n",
    "            temp = input_str[:i] + input_str[i+1:]\n",
    "            temp = temp[:j] + input_str[i] + temp[j:]\n",
    "            \n",
    "            # Convert the newly formed number back to an integer for comparison\n",
    "            if int(temp) < int(min_value[0]):\n",
    "                min_value = (temp, i, j)\n",
    "    \n",
    "    # Return the smallest number formed and the original and new indices\n",
    "    return [int(min_value[0]), min_value[1], min_value[2]]\n",
    "\n",
    "# Example usage\n",
    "input1 = 8881\n",
    "output = solve(input1)\n",
    "print(output)\n"
   ]
  },
  {
   "cell_type": "code",
   "execution_count": 191,
   "id": "2781f7bc-3f5d-4c4c-9001-e6fab891d42c",
   "metadata": {},
   "outputs": [
    {
     "name": "stdout",
     "output_type": "stream",
     "text": [
      "['geeks', 'quiz', 'practice', 'code']\n",
      "code practice quiz geeks\n"
     ]
    }
   ],
   "source": [
    "#Neeyamo....\n",
    "#resverse the words in the sentence\n",
    "def  reverse(s):\n",
    "    result = []\n",
    "    word  = s.split()\n",
    "    print(word)\n",
    "    \n",
    "    for w in word:\n",
    "        result = [w] + result\n",
    "    \n",
    "    return \" \".join(result)\n",
    "\n",
    "s = \"geeks quiz practice code\"\n",
    "Output = reverse(s)\n",
    "print(Output)\n"
   ]
  },
  {
   "cell_type": "code",
   "execution_count": 192,
   "id": "3a2be153-d270-4b53-bac3-e319f49b91fa",
   "metadata": {},
   "outputs": [
    {
     "name": "stdout",
     "output_type": "stream",
     "text": [
      "['L', 'E', 'E', 'T', 'C', 'O', 'D', 'E']\n",
      "TC\n"
     ]
    }
   ],
   "source": [
    "#median of the string\n",
    "def Median(String):\n",
    "    l = list(String)\n",
    "    #print(l)\n",
    "    length = len(l)\n",
    "    if( length % 2 == 0 ):\n",
    "        return l[ length // 2 -1 ]+l[ length // 2  ]\n",
    "    if( length % 2 != 0 ):\n",
    "        return l[length // 2]\n",
    "String = \"LEETCODE\"\n",
    "Output = Median(String)\n",
    "print(Output)"
   ]
  },
  {
   "cell_type": "code",
   "execution_count": null,
   "id": "fa5f2ce3",
   "metadata": {},
   "outputs": [],
   "source": [
    "#Median of the string...\n"
   ]
  },
  {
   "cell_type": "code",
   "execution_count": 193,
   "id": "d55603aa-0532-4686-a8dd-1f595046d029",
   "metadata": {},
   "outputs": [
    {
     "name": "stdout",
     "output_type": "stream",
     "text": [
      "2\n"
     ]
    }
   ],
   "source": [
    "#find the first unique character  in the string leetcode\n",
    "def first_unique_character(s):\n",
    "    char_out = {}\n",
    "    for char in s:\n",
    "        #print(char)\n",
    "        if char in char_out:\n",
    "            char_out[char] += 1\n",
    "        else:\n",
    "            char_out[char] = 1\n",
    "    for val , char in enumerate(s):\n",
    "        if char_out[char] == 1:\n",
    "            return val\n",
    "    return none\n",
    "s = \"eetcode\"\n",
    "Output = first_unique_character(s)\n",
    "print(Output)  "
   ]
  },
  {
   "cell_type": "code",
   "execution_count": 194,
   "id": "f08afba5-adfd-4986-b625-ea5711068f77",
   "metadata": {},
   "outputs": [
    {
     "name": "stdout",
     "output_type": "stream",
     "text": [
      "l\n",
      "e\n",
      "e\n",
      "t\n",
      "c\n",
      "o\n",
      "d\n",
      "e\n",
      "None\n"
     ]
    }
   ],
   "source": [
    "#find the first unique character  in the string leetcode\n",
    "def unique(s):\n",
    "    empty = {}\n",
    "    l = list(s)\n",
    "    for i in l:\n",
    "        if i not  in empty:\n",
    "            print(i)\n",
    "s = \"leetcode\"\n",
    "Output = unique(s)\n",
    "print(Output)"
   ]
  },
  {
   "cell_type": "code",
   "execution_count": 195,
   "id": "40d30319-eb4c-45f2-a818-ea2dff52fe24",
   "metadata": {},
   "outputs": [
    {
     "name": "stdout",
     "output_type": "stream",
     "text": [
      "N \n",
      "E N \n",
      "Y E N \n",
      "A Y E N \n",
      "M A Y E N \n",
      "O M A Y E N \n"
     ]
    }
   ],
   "source": [
    "def print_pattern():\n",
    "    # The specific characters to be used in the pattern\n",
    "    chars = [\"N\", \"E\", \"Y\", \"A\", \"M\", \"O\"]\n",
    "    n = len(chars)  # Number of rows is determined by the length of the list 'chars'\n",
    "    \n",
    "    # Iterate over each row\n",
    "    for i in range(n):\n",
    "        for j in range(i + 1):\n",
    "            # Print the appropriate character, following the diagonal rule\n",
    "            print(chars[(i - j) % n], end=' ')\n",
    "        print()  # Move to the next line after each row\n",
    "\n",
    "# Example usage:\n",
    "print_pattern()\n"
   ]
  },
  {
   "cell_type": "code",
   "execution_count": null,
   "id": "e10d7d74-f32c-4f37-bb12-0249d05ea723",
   "metadata": {},
   "outputs": [],
   "source": []
  }
 ],
 "metadata": {
  "kernelspec": {
   "display_name": "Python 3 (ipykernel)",
   "language": "python",
   "name": "python3"
  },
  "language_info": {
   "codemirror_mode": {
    "name": "ipython",
    "version": 3
   },
   "file_extension": ".py",
   "mimetype": "text/x-python",
   "name": "python",
   "nbconvert_exporter": "python",
   "pygments_lexer": "ipython3",
   "version": "3.10.2"
  }
 },
 "nbformat": 4,
 "nbformat_minor": 5
}
